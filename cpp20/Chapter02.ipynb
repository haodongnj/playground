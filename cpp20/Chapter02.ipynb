{
 "cells": [
  {
   "cell_type": "code",
   "execution_count": 1,
   "id": "ac0c4b02",
   "metadata": {},
   "outputs": [
    {
     "data": {
      "text/plain": []
     },
     "execution_count": 1,
     "metadata": {},
     "output_type": "execute_result"
    }
   ],
   "source": [
    "#include <iostream>\n",
    "#include <span>\n",
    "#include <vector>\n",
    "#include <array>\n",
    "#include <numeric>\n",
    "#include <type_traits>"
   ]
  },
  {
   "cell_type": "code",
   "execution_count": 2,
   "id": "482f5e53",
   "metadata": {},
   "outputs": [
    {
     "data": {
      "text/plain": []
     },
     "execution_count": 2,
     "metadata": {},
     "output_type": "execute_result"
    }
   ],
   "source": [
    "template<typename T>\n",
    "constexpr std::string_view type_name() {\n",
    "    std::string_view name, prefix, suffix;\n",
    "#ifdef __clang__\n",
    "    name = __PRETTY_FUNCTION__;\n",
    "    prefix = \"std::string_view type_name() [T = \";\n",
    "    suffix = \"]\";\n",
    "#elif defined(__GNUC__)\n",
    "    name = __PRETTY_FUNCTION__;\n",
    "    prefix = \"constexpr std::string_view type_name() [with T = \";\n",
    "    suffix = \"; std::string_view = std::basic_string_view<char>]\";\n",
    "#elif defined(_MSC_VER)\n",
    "    name = __FUNCSIG__;\n",
    "    prefix = \"class std::basic_string_view<char,struct std::char_traits<char> > __cdecl type_name<\";\n",
    "    suffix = \">(void)\";\n",
    "#endif\n",
    "    name.remove_prefix(prefix.size());\n",
    "    name.remove_suffix(suffix.size());\n",
    "    return name;\n",
    "}"
   ]
  },
  {
   "cell_type": "markdown",
   "id": "df937840",
   "metadata": {},
   "source": [
    "## 2.1.5 SFINAE"
   ]
  },
  {
   "cell_type": "code",
   "execution_count": 3,
   "id": "50d8bd8a",
   "metadata": {},
   "outputs": [
    {
     "data": {
      "text/plain": []
     },
     "execution_count": 3,
     "metadata": {},
     "output_type": "execute_result"
    }
   ],
   "source": [
    "template<typename T> T declval_(long);\n",
    "template<typename T, typename U=T&&> U declval_(int);"
   ]
  },
  {
   "cell_type": "code",
   "execution_count": 4,
   "id": "5c1b2684",
   "metadata": {},
   "outputs": [
    {
     "data": {
      "text/plain": []
     },
     "execution_count": 4,
     "metadata": {},
     "output_type": "execute_result"
    }
   ],
   "source": [
    "template<typename T> auto declval() -> decltype(declval_<T>(0)){\n",
    "    static_assert(\"Cannot be used in evaluation expression\");\n",
    "    return declval_<T>(0);\n",
    "}"
   ]
  },
  {
   "cell_type": "markdown",
   "id": "9f5cff78",
   "metadata": {},
   "source": [
    "## 2.2.1 Fibonacci"
   ]
  },
  {
   "cell_type": "code",
   "execution_count": 5,
   "id": "3c53af79",
   "metadata": {},
   "outputs": [
    {
     "data": {
      "text/plain": []
     },
     "execution_count": 5,
     "metadata": {},
     "output_type": "execute_result"
    }
   ],
   "source": [
    "template<size_t N> constexpr size_t Fibonacci = Fibonacci<N-1> + Fibonacci<N-2>;\n",
    "template<> constexpr size_t Fibonacci<0> = 0;\n",
    "template<> constexpr size_t Fibonacci<1> = 1;"
   ]
  },
  {
   "cell_type": "code",
   "execution_count": 6,
   "id": "ab53afbe",
   "metadata": {},
   "outputs": [
    {
     "name": "stdout",
     "output_type": "stream",
     "text": [
      "Fibonacci<10> is 55\n",
      "Fibonacci<2> is 1\n"
     ]
    },
    {
     "data": {
      "text/plain": [
       "(std::basic_ostream<char, std::char_traits<char> >::__ostream_type &) @0x7fa94c817500\n"
      ]
     },
     "execution_count": 6,
     "metadata": {},
     "output_type": "execute_result"
    }
   ],
   "source": [
    "std::cout << \"Fibonacci<10> is \" << Fibonacci<10> << std::endl;\n",
    "std::cout << \"Fibonacci<2> is \" << Fibonacci<2> << std::endl;"
   ]
  },
  {
   "cell_type": "code",
   "execution_count": 7,
   "id": "7aa644ba",
   "metadata": {},
   "outputs": [
    {
     "data": {
      "text/plain": []
     },
     "execution_count": 7,
     "metadata": {},
     "output_type": "execute_result"
    }
   ],
   "source": [
    "template<size_t N> constexpr double golden_ratio = Fibonacci<N+1> * 1.0 / Fibonacci<N>;"
   ]
  },
  {
   "cell_type": "code",
   "execution_count": 8,
   "id": "4800c541",
   "metadata": {},
   "outputs": [
    {
     "name": "stdout",
     "output_type": "stream",
     "text": [
      "1.6180339985218033\n",
      "1.6180339887498949\n"
     ]
    },
    {
     "data": {
      "text/plain": [
       "(std::basic_ostream<char, std::char_traits<char> >::__ostream_type &) @0x7fa94c817500\n"
      ]
     },
     "execution_count": 8,
     "metadata": {},
     "output_type": "execute_result"
    }
   ],
   "source": [
    "std::cout.precision(std::numeric_limits<double>::max_digits10);\n",
    "std::cout << golden_ratio<20> << std::endl;\n",
    "std::cout << golden_ratio<50> << std::endl;"
   ]
  },
  {
   "cell_type": "markdown",
   "id": "52f2c81f",
   "metadata": {},
   "source": [
    "## 2.2.2 Type Traits"
   ]
  },
  {
   "cell_type": "code",
   "execution_count": 9,
   "id": "94b1ebe5",
   "metadata": {},
   "outputs": [
    {
     "data": {
      "text/plain": []
     },
     "execution_count": 9,
     "metadata": {},
     "output_type": "execute_result"
    }
   ],
   "source": [
    "void PrintArrayLike(std::span<int> container){\n",
    "    std::cout << \"size: \" << container.size() << std::endl;\n",
    "    for(auto elem : container){\n",
    "        std::cout << elem << std::endl;\n",
    "    }\n",
    "}"
   ]
  },
  {
   "cell_type": "code",
   "execution_count": 10,
   "id": "a08ab907",
   "metadata": {},
   "outputs": [
    {
     "data": {
      "text/plain": []
     },
     "execution_count": 10,
     "metadata": {},
     "output_type": "execute_result"
    }
   ],
   "source": [
    "std::array arr{1,2,3,4};\n",
    "std::vector v{1,2,3};"
   ]
  },
  {
   "cell_type": "code",
   "execution_count": 11,
   "id": "b7e485e4",
   "metadata": {},
   "outputs": [
    {
     "name": "stdout",
     "output_type": "stream",
     "text": [
      "size: 4\n",
      "1\n",
      "2\n",
      "3\n",
      "4\n"
     ]
    },
    {
     "data": {
      "text/plain": [
       "(void) nullptr\n"
      ]
     },
     "execution_count": 11,
     "metadata": {},
     "output_type": "execute_result"
    }
   ],
   "source": [
    "PrintArrayLike(arr);"
   ]
  },
  {
   "cell_type": "code",
   "execution_count": 12,
   "id": "8f2da248",
   "metadata": {},
   "outputs": [
    {
     "name": "stdout",
     "output_type": "stream",
     "text": [
      "size: 3\n",
      "1\n",
      "2\n",
      "3\n"
     ]
    },
    {
     "data": {
      "text/plain": [
       "(void) nullptr\n"
      ]
     },
     "execution_count": 12,
     "metadata": {},
     "output_type": "execute_result"
    }
   ],
   "source": [
    "PrintArrayLike(v);"
   ]
  },
  {
   "cell_type": "code",
   "execution_count": 13,
   "id": "3c555f11",
   "metadata": {},
   "outputs": [
    {
     "data": {
      "text/plain": []
     },
     "execution_count": 13,
     "metadata": {},
     "output_type": "execute_result"
    }
   ],
   "source": [
    "using cint = const int;"
   ]
  },
  {
   "cell_type": "code",
   "execution_count": 14,
   "id": "ee15871b",
   "metadata": {},
   "outputs": [
    {
     "name": "stdout",
     "output_type": "stream",
     "text": [
      "const int\n"
     ]
    },
    {
     "data": {
      "text/plain": [
       "(std::basic_ostream<char, std::char_traits<char> >::__ostream_type &) @0x7fa94c817500\n"
      ]
     },
     "execution_count": 14,
     "metadata": {},
     "output_type": "execute_result"
    }
   ],
   "source": [
    "std::cout << type_name<cint>() << std::endl;"
   ]
  },
  {
   "cell_type": "code",
   "execution_count": 15,
   "id": "6233d106",
   "metadata": {},
   "outputs": [
    {
     "name": "stdout",
     "output_type": "stream",
     "text": [
      "std::vector<double>\n"
     ]
    },
    {
     "data": {
      "text/plain": [
       "(std::basic_ostream<char, std::char_traits<char> >::__ostream_type &) @0x7fa94c817500\n"
      ]
     },
     "execution_count": 15,
     "metadata": {},
     "output_type": "execute_result"
    }
   ],
   "source": [
    "using dvector = std::vector<double>;\n",
    "std::cout << type_name<dvector>() << std::endl;"
   ]
  },
  {
   "cell_type": "markdown",
   "id": "ce947741",
   "metadata": {},
   "source": [
    "## 2.2.3 辅助类"
   ]
  },
  {
   "cell_type": "code",
   "execution_count": null,
   "id": "2344a9c4",
   "metadata": {},
   "outputs": [],
   "source": []
  },
  {
   "cell_type": "code",
   "execution_count": 16,
   "id": "920f1320",
   "metadata": {},
   "outputs": [
    {
     "data": {
      "text/plain": []
     },
     "execution_count": 16,
     "metadata": {},
     "output_type": "execute_result"
    }
   ],
   "source": [
    "using TWO = std::integral_constant<int, 2>;\n",
    "using FOUR = std::integral_constant<int, 4>;"
   ]
  },
  {
   "cell_type": "code",
   "execution_count": 17,
   "id": "6f3fd534",
   "metadata": {},
   "outputs": [
    {
     "name": "stdout",
     "output_type": "stream",
     "text": [
      "int\n"
     ]
    },
    {
     "data": {
      "text/plain": [
       "(std::basic_ostream<char, std::char_traits<char> >::__ostream_type &) @0x7fa94c817500\n"
      ]
     },
     "execution_count": 17,
     "metadata": {},
     "output_type": "execute_result"
    }
   ],
   "source": [
    "std::cout << type_name<TWO::value_type>() << std::endl;"
   ]
  },
  {
   "cell_type": "code",
   "execution_count": 18,
   "id": "7f31232f",
   "metadata": {},
   "outputs": [
    {
     "name": "stdout",
     "output_type": "stream",
     "text": [
      "2\n",
      "2\n"
     ]
    },
    {
     "data": {
      "text/plain": [
       "(std::basic_ostream<char, std::char_traits<char> >::__ostream_type &) @0x7fa94c817500\n"
      ]
     },
     "execution_count": 18,
     "metadata": {},
     "output_type": "execute_result"
    }
   ],
   "source": [
    "std::cout << std::integral_constant<int, 2>::value << std::endl;\n",
    "std::cout << TWO::value << std::endl;"
   ]
  },
  {
   "cell_type": "code",
   "execution_count": 19,
   "id": "aa42176b",
   "metadata": {},
   "outputs": [
    {
     "name": "stdout",
     "output_type": "stream",
     "text": [
      "TWO::value is 2\n"
     ]
    },
    {
     "data": {
      "text/plain": [
       "(std::basic_ostream<char, std::char_traits<char> >::__ostream_type &) @0x7fa94c817500\n"
      ]
     },
     "execution_count": 19,
     "metadata": {},
     "output_type": "execute_result"
    }
   ],
   "source": [
    "static_assert(TWO::value * TWO::value == FOUR::value);\n",
    "std::cout << \"TWO::value is \" << TWO::value << std::endl;"
   ]
  },
  {
   "cell_type": "code",
   "execution_count": 20,
   "id": "6fb4c0e4",
   "metadata": {},
   "outputs": [
    {
     "data": {
      "text/plain": []
     },
     "execution_count": 20,
     "metadata": {},
     "output_type": "execute_result"
    }
   ],
   "source": [
    "static_assert(not std::is_same<TWO, FOUR>::value,\n",
    "                  \"TWO and FOUR are equal!\");"
   ]
  },
  {
   "cell_type": "markdown",
   "id": "5334552f",
   "metadata": {},
   "source": [
    "## 2.2.4 Empty Base Class Optimization"
   ]
  },
  {
   "cell_type": "code",
   "execution_count": 21,
   "id": "caf2bf56",
   "metadata": {},
   "outputs": [
    {
     "data": {
      "text/plain": []
     },
     "execution_count": 21,
     "metadata": {},
     "output_type": "execute_result"
    }
   ],
   "source": [
    "struct Base0{};\n"
   ]
  },
  {
   "cell_type": "code",
   "execution_count": 22,
   "id": "b1e61707",
   "metadata": {},
   "outputs": [
    {
     "name": "stdout",
     "output_type": "stream",
     "text": [
      "size of Base0: 1\n"
     ]
    },
    {
     "data": {
      "text/plain": [
       "(std::basic_ostream<char, std::char_traits<char> >::__ostream_type &) @0x7fa94c817500\n"
      ]
     },
     "execution_count": 22,
     "metadata": {},
     "output_type": "execute_result"
    }
   ],
   "source": [
    "std::cout << \"size of Base0: \" << sizeof(Base0) << std::endl;"
   ]
  },
  {
   "cell_type": "code",
   "execution_count": 23,
   "id": "264b236a",
   "metadata": {},
   "outputs": [
    {
     "data": {
      "text/plain": []
     },
     "execution_count": 23,
     "metadata": {},
     "output_type": "execute_result"
    }
   ],
   "source": [
    "struct Children0{\n",
    "    Base0 base;\n",
    "    int dummy;\n",
    "};"
   ]
  },
  {
   "cell_type": "code",
   "execution_count": 24,
   "id": "ae14de25",
   "metadata": {},
   "outputs": [
    {
     "name": "stdout",
     "output_type": "stream",
     "text": [
      "size of Children0: 8\n"
     ]
    },
    {
     "data": {
      "text/plain": [
       "(std::basic_ostream<char, std::char_traits<char> >::__ostream_type &) @0x7fa94c817500\n"
      ]
     },
     "execution_count": 24,
     "metadata": {},
     "output_type": "execute_result"
    }
   ],
   "source": [
    "std::cout << \"size of Children0: \" << sizeof(Children0) << std::endl;"
   ]
  },
  {
   "cell_type": "code",
   "execution_count": 25,
   "id": "6f7c2d90",
   "metadata": {},
   "outputs": [
    {
     "data": {
      "text/plain": []
     },
     "execution_count": 25,
     "metadata": {},
     "output_type": "execute_result"
    }
   ],
   "source": [
    "struct Children1 : Base0{\n",
    "    int dummy;\n",
    "};"
   ]
  },
  {
   "cell_type": "code",
   "execution_count": 26,
   "id": "f949b3f0",
   "metadata": {},
   "outputs": [
    {
     "name": "stdout",
     "output_type": "stream",
     "text": [
      "size of Children1: 4\n"
     ]
    },
    {
     "data": {
      "text/plain": [
       "(std::basic_ostream<char, std::char_traits<char> >::__ostream_type &) @0x7fa94c817500\n"
      ]
     },
     "execution_count": 26,
     "metadata": {},
     "output_type": "execute_result"
    }
   ],
   "source": [
    "std::cout << \"size of Children1: \" << sizeof(Children1) << std::endl;"
   ]
  },
  {
   "cell_type": "code",
   "execution_count": 27,
   "id": "566f5117",
   "metadata": {},
   "outputs": [
    {
     "data": {
      "text/plain": []
     },
     "execution_count": 27,
     "metadata": {},
     "output_type": "execute_result"
    }
   ],
   "source": [
    "struct Children2{\n",
    "    [[no_unique_address]] Base0 base;\n",
    "    int dummy;\n",
    "};"
   ]
  },
  {
   "cell_type": "code",
   "execution_count": 28,
   "id": "b60d94a1",
   "metadata": {},
   "outputs": [
    {
     "name": "stdout",
     "output_type": "stream",
     "text": [
      "size of Children2: 4\n"
     ]
    },
    {
     "data": {
      "text/plain": [
       "(std::basic_ostream<char, std::char_traits<char> >::__ostream_type &) @0x7fa94c817500\n"
      ]
     },
     "execution_count": 28,
     "metadata": {},
     "output_type": "execute_result"
    }
   ],
   "source": [
    "std::cout << \"size of Children2: \" << sizeof(Children2) << std::endl;"
   ]
  },
  {
   "cell_type": "markdown",
   "id": "e8d9a93f",
   "metadata": {},
   "source": [
    "## 2.2.5 Implementing Type Traits"
   ]
  },
  {
   "cell_type": "code",
   "execution_count": 29,
   "id": "a6f5977a",
   "metadata": {},
   "outputs": [
    {
     "data": {
      "text/plain": []
     },
     "execution_count": 29,
     "metadata": {},
     "output_type": "execute_result"
    }
   ],
   "source": [
    "template<typename T> \n",
    "struct remove_const {using type = T; };\n",
    "template<typename T>\n",
    "struct remove_const<const T> {using type = T;};\n",
    "\n",
    "template<typename T>\n",
    "using remove_const_t = remove_const<T>::type;"
   ]
  },
  {
   "cell_type": "code",
   "execution_count": 31,
   "id": "d26e3c4e",
   "metadata": {},
   "outputs": [
    {
     "name": "stdout",
     "output_type": "stream",
     "text": [
      "double\n",
      "double\n"
     ]
    },
    {
     "data": {
      "text/plain": [
       "(std::basic_ostream<char, std::char_traits<char> >::__ostream_type &) @0x7fa94c817500\n"
      ]
     },
     "execution_count": 31,
     "metadata": {},
     "output_type": "execute_result"
    }
   ],
   "source": [
    "std::cout << type_name<remove_const_t<double>>() << std::endl;\n",
    "std::cout << type_name<remove_const_t<const double>>() << std::endl;"
   ]
  },
  {
   "cell_type": "markdown",
   "id": "c5d26c5f",
   "metadata": {},
   "source": [
    "## 2.2.6 Type Reflection"
   ]
  },
  {
   "cell_type": "code",
   "execution_count": 33,
   "id": "6411bcf1",
   "metadata": {},
   "outputs": [
    {
     "data": {
      "text/plain": []
     },
     "execution_count": 33,
     "metadata": {},
     "output_type": "execute_result"
    }
   ],
   "source": [
    "template<typename F> struct function_trait;\n",
    "template<typename Ret, typename...Args> \n",
    "struct function_trait<Ret(Args...)> {\n",
    "    using result_type = Ret;\n",
    "    using args_type = std::tuple<Args...>;\n",
    "    static constexpr size_t num_of_args = sizeof...(Args);\n",
    "    template<size_t I> using arg = std::tuple_element_t<I, args_type>;\n",
    "};"
   ]
  },
  {
   "cell_type": "code",
   "execution_count": 36,
   "id": "cfd2ec5e",
   "metadata": {},
   "outputs": [
    {
     "data": {
      "text/plain": []
     },
     "execution_count": 36,
     "metadata": {},
     "output_type": "execute_result"
    }
   ],
   "source": [
    "using test_result_type = function_trait<decltype(PrintArrayLike)>::result_type;\n",
    "using test_arg_type = function_trait<decltype(PrintArrayLike)>::arg<0>;\n",
    "constexpr size_t test_n_args = function_trait<decltype(PrintArrayLike)>::num_of_args;"
   ]
  },
  {
   "cell_type": "code",
   "execution_count": 37,
   "id": "b9af3876",
   "metadata": {},
   "outputs": [
    {
     "name": "stdout",
     "output_type": "stream",
     "text": [
      "void\n",
      "std::span<int>\n",
      "number of args: 1\n"
     ]
    },
    {
     "data": {
      "text/plain": [
       "(std::basic_ostream<char, std::char_traits<char> >::__ostream_type &) @0x7fa94c817500\n"
      ]
     },
     "execution_count": 37,
     "metadata": {},
     "output_type": "execute_result"
    }
   ],
   "source": [
    "std::cout << type_name<test_result_type>() << std::endl;\n",
    "std::cout << type_name<test_arg_type>() << std::endl;\n",
    "std::cout << \"number of args: \" << test_n_args << std::endl;"
   ]
  },
  {
   "cell_type": "code",
   "execution_count": null,
   "id": "0ba1aa9c",
   "metadata": {},
   "outputs": [],
   "source": []
  }
 ],
 "metadata": {
  "kernelspec": {
   "display_name": "C++20",
   "language": "C++",
   "name": "cling-cpp20"
  },
  "language_info": {
   "codemirror_mode": "c++",
   "file_extension": ".c++",
   "mimetype": "text/x-c++src",
   "name": "c++"
  }
 },
 "nbformat": 4,
 "nbformat_minor": 5
}
