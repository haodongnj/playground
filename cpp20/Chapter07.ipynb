{
 "cells": [
  {
   "cell_type": "code",
   "execution_count": 1,
   "id": "6ad9c240",
   "metadata": {},
   "outputs": [
    {
     "data": {
      "text/plain": []
     },
     "execution_count": 1,
     "metadata": {},
     "output_type": "execute_result"
    }
   ],
   "source": [
    "#include <ranges>\n",
    "#include <iostream>\n",
    "#include <vector>\n",
    "#include \"jupyter/chapter07/sum.hpp\"\n",
    "#include <algorithm>\n",
    "#include <utility>\n",
    "#include <numeric>"
   ]
  },
  {
   "cell_type": "code",
   "execution_count": 2,
   "id": "ed71c68c",
   "metadata": {},
   "outputs": [
    {
     "data": {
      "text/plain": []
     },
     "execution_count": 2,
     "metadata": {},
     "output_type": "execute_result"
    }
   ],
   "source": [
    "constexpr auto res = std::views::iota(1) |\n",
    "    std::views::transform([](auto n){return n*n; }) | \n",
    "    std::views::filter([](auto n){return n % 2 == 1;}) |\n",
    "    std::views::take_while([](auto n) {return n < 10000;});"
   ]
  },
  {
   "cell_type": "code",
   "execution_count": 3,
   "id": "fa294831",
   "metadata": {},
   "outputs": [
    {
     "data": {
      "text/plain": [
       "(std::ranges::take_while_view<views::all_t<filter_view<transform_view<iota_view<int, unreachable_sentinel_t>, (lambda)>, (lambda)> >, (lambda)> &) @0x7f4bbd456000\n"
      ]
     },
     "execution_count": 3,
     "metadata": {},
     "output_type": "execute_result"
    }
   ],
   "source": [
    "res"
   ]
  },
  {
   "cell_type": "code",
   "execution_count": 4,
   "id": "8a5bdb21",
   "metadata": {},
   "outputs": [
    {
     "data": {
      "text/plain": []
     },
     "execution_count": 4,
     "metadata": {},
     "output_type": "execute_result"
    }
   ],
   "source": [
    "std::vector v1{1,2,3,4,5};"
   ]
  },
  {
   "cell_type": "markdown",
   "id": "ce988890",
   "metadata": {},
   "source": [
    "generic lambda can be included in a header file for cling for correct compilation.\n",
    "The cause can be found here: https://github.com/jupyter-xeus/xeus-cling/issues/258."
   ]
  },
  {
   "cell_type": "code",
   "execution_count": 5,
   "id": "ac6eb540",
   "metadata": {},
   "outputs": [
    {
     "data": {
      "text/plain": [
       "(int) 15\n"
      ]
     },
     "execution_count": 5,
     "metadata": {},
     "output_type": "execute_result"
    }
   ],
   "source": [
    "sum(v1);"
   ]
  },
  {
   "cell_type": "code",
   "execution_count": 6,
   "id": "7275c293",
   "metadata": {},
   "outputs": [
    {
     "data": {
      "text/plain": []
     },
     "execution_count": 6,
     "metadata": {},
     "output_type": "execute_result"
    }
   ],
   "source": [
    "int s0 = 0;\n",
    "for(auto i : std::views::iota(1) |\n",
    "    std::views::transform([](auto n){return n*n; }) | \n",
    "    std::views::filter([](auto n){return n % 2 == 1;}) |\n",
    "    std::views::take_while([](auto n) {return n < 10000;})){\n",
    "    s0 += i;\n",
    "}"
   ]
  },
  {
   "cell_type": "code",
   "execution_count": 7,
   "id": "6add8349",
   "metadata": {},
   "outputs": [
    {
     "data": {
      "text/plain": [
       "(int) 166650\n"
      ]
     },
     "execution_count": 7,
     "metadata": {},
     "output_type": "execute_result"
    }
   ],
   "source": [
    "s0"
   ]
  },
  {
   "cell_type": "code",
   "execution_count": null,
   "id": "490f74da",
   "metadata": {},
   "outputs": [],
   "source": []
  },
  {
   "cell_type": "markdown",
   "id": "dcada228",
   "metadata": {},
   "source": [
    "## 7.1 range access"
   ]
  },
  {
   "cell_type": "code",
   "execution_count": 8,
   "id": "1ecf3e46",
   "metadata": {},
   "outputs": [
    {
     "data": {
      "text/plain": []
     },
     "execution_count": 8,
     "metadata": {},
     "output_type": "execute_result"
    }
   ],
   "source": [
    "namespace ns{\n",
    "    struct Foo{};\n",
    "    void swap(Foo&, Foo&) noexcept {std::cout << \"custom swap\" << std::endl;}\n",
    "}"
   ]
  },
  {
   "cell_type": "code",
   "execution_count": 9,
   "id": "f025fe35",
   "metadata": {},
   "outputs": [
    {
     "data": {
      "text/plain": []
     },
     "execution_count": 9,
     "metadata": {},
     "output_type": "execute_result"
    }
   ],
   "source": [
    "ns::Foo a, b;"
   ]
  },
  {
   "cell_type": "code",
   "execution_count": 10,
   "id": "f8f626f9",
   "metadata": {},
   "outputs": [
    {
     "data": {
      "text/plain": [
       "(void) @0x7f4ba97f9030\n"
      ]
     },
     "execution_count": 10,
     "metadata": {},
     "output_type": "execute_result"
    }
   ],
   "source": [
    "std::swap(a, b);"
   ]
  },
  {
   "cell_type": "code",
   "execution_count": 11,
   "id": "ee050867",
   "metadata": {},
   "outputs": [
    {
     "name": "stdout",
     "output_type": "stream",
     "text": [
      "custom swap\n"
     ]
    },
    {
     "data": {
      "text/plain": [
       "(void) @0x7f4ba97f9030\n"
      ]
     },
     "execution_count": 11,
     "metadata": {},
     "output_type": "execute_result"
    }
   ],
   "source": [
    "using std::swap;\n",
    "swap(a, b);"
   ]
  },
  {
   "cell_type": "code",
   "execution_count": 12,
   "id": "df68581e",
   "metadata": {},
   "outputs": [
    {
     "name": "stdout",
     "output_type": "stream",
     "text": [
      "custom swap\n"
     ]
    },
    {
     "data": {
      "text/plain": [
       "(void) @0x7f4ba97f9030\n"
      ]
     },
     "execution_count": 12,
     "metadata": {},
     "output_type": "execute_result"
    }
   ],
   "source": [
    "std::ranges::swap(a, b);"
   ]
  },
  {
   "cell_type": "code",
   "execution_count": 13,
   "id": "e0245984",
   "metadata": {},
   "outputs": [
    {
     "name": "stdout",
     "output_type": "stream",
     "text": [
      "custom swap\n"
     ]
    },
    {
     "data": {
      "text/plain": []
     },
     "execution_count": 13,
     "metadata": {},
     "output_type": "execute_result"
    }
   ],
   "source": [
    "{\n",
    "    using std::ranges::swap;\n",
    "    swap(a, b);\n",
    "}"
   ]
  },
  {
   "cell_type": "code",
   "execution_count": 14,
   "id": "b260a0f8",
   "metadata": {},
   "outputs": [
    {
     "data": {
      "text/plain": []
     },
     "execution_count": 14,
     "metadata": {},
     "output_type": "execute_result"
    }
   ],
   "source": [
    "auto const ints = {0, 1, 2, 3, 4, 5};"
   ]
  },
  {
   "cell_type": "code",
   "execution_count": 15,
   "id": "bb7d0424",
   "metadata": {},
   "outputs": [
    {
     "data": {
      "text/plain": [
       "(std::initializer_list<int> &) { 0, 1, 2, 3, 4, 5 }\n"
      ]
     },
     "execution_count": 15,
     "metadata": {},
     "output_type": "execute_result"
    }
   ],
   "source": [
    "ints"
   ]
  },
  {
   "cell_type": "code",
   "execution_count": 16,
   "id": "65d353c3",
   "metadata": {},
   "outputs": [
    {
     "name": "stdout",
     "output_type": "stream",
     "text": [
      "0 4 16 \n"
     ]
    },
    {
     "data": {
      "text/plain": [
       "(std::basic_ostream<char, std::char_traits<char> > &) @0x7f4bbce17500\n"
      ]
     },
     "execution_count": 16,
     "metadata": {},
     "output_type": "execute_result"
    }
   ],
   "source": [
    "auto even = [](int i) { return 0 == i % 2; };\n",
    "auto square = [](int i) { return i * i; };\n",
    "\n",
    "// the \"pipe\" syntax of composing the views:\n",
    "for (int i : ints | std::views::filter(even) | std::views::transform(square))\n",
    "    std::cout << i << ' ';\n",
    "\n",
    "std::cout << '\\n';"
   ]
  },
  {
   "cell_type": "code",
   "execution_count": 17,
   "id": "19e3fb7e",
   "metadata": {},
   "outputs": [
    {
     "name": "stdout",
     "output_type": "stream",
     "text": [
      "0 4 16 "
     ]
    },
    {
     "data": {
      "text/plain": []
     },
     "execution_count": 17,
     "metadata": {},
     "output_type": "execute_result"
    }
   ],
   "source": [
    "for (int i : std::views::transform(std::views::filter(ints, even), square))\n",
    "    std::cout << i << ' ';"
   ]
  },
  {
   "cell_type": "code",
   "execution_count": 18,
   "id": "514ac3fb",
   "metadata": {},
   "outputs": [
    {
     "name": "stdout",
     "output_type": "stream",
     "text": [
      "0 4 16 \n"
     ]
    },
    {
     "data": {
      "text/plain": [
       "(std::basic_ostream<char, std::char_traits<char> > &) @0x7f4bbce17500\n"
      ]
     },
     "execution_count": 18,
     "metadata": {},
     "output_type": "execute_result"
    }
   ],
   "source": [
    "for (int i : std::views::iota(0, 6)\n",
    "           | std::views::filter(even)\n",
    "           | std::views::transform(square))\n",
    "    std::cout << i << ' ';\n",
    "std::cout << '\\n';"
   ]
  },
  {
   "cell_type": "code",
   "execution_count": null,
   "id": "5edddefa",
   "metadata": {},
   "outputs": [],
   "source": []
  }
 ],
 "metadata": {
  "kernelspec": {
   "display_name": "C++20",
   "language": "C++",
   "name": "cling-cpp20"
  },
  "language_info": {
   "codemirror_mode": "c++",
   "file_extension": ".c++",
   "mimetype": "text/x-c++src",
   "name": "c++"
  }
 },
 "nbformat": 4,
 "nbformat_minor": 5
}
