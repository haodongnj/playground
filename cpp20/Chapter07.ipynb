{
 "cells": [
  {
   "cell_type": "code",
   "execution_count": 1,
   "id": "6ad9c240",
   "metadata": {},
   "outputs": [
    {
     "data": {
      "text/plain": []
     },
     "execution_count": 1,
     "metadata": {},
     "output_type": "execute_result"
    }
   ],
   "source": [
    "#include <ranges>\n",
    "#include <iostream>\n",
    "#include <vector>\n",
    "#include \"jupyter/chapter07/sum.hpp\""
   ]
  },
  {
   "cell_type": "code",
   "execution_count": 2,
   "id": "ed71c68c",
   "metadata": {},
   "outputs": [
    {
     "data": {
      "text/plain": []
     },
     "execution_count": 2,
     "metadata": {},
     "output_type": "execute_result"
    }
   ],
   "source": [
    "auto res = std::views::iota(1) |\n",
    "    std::views::transform([](auto n){return n*n; }) | \n",
    "    std::views::filter([](auto n){return n % 2 == 1;}) |\n",
    "    std::views::take_while([](auto n) {return n < 10000;});"
   ]
  },
  {
   "cell_type": "code",
   "execution_count": 3,
   "id": "fa294831",
   "metadata": {},
   "outputs": [
    {
     "data": {
      "text/plain": [
       "(std::ranges::take_while_view<views::all_t<filter_view<transform_view<iota_view<int, unreachable_sentinel_t>, (lambda)>, (lambda)> >, (lambda)> &) @0x7fc80521c000\n"
      ]
     },
     "execution_count": 3,
     "metadata": {},
     "output_type": "execute_result"
    }
   ],
   "source": [
    "res"
   ]
  },
  {
   "cell_type": "code",
   "execution_count": 4,
   "id": "8a5bdb21",
   "metadata": {},
   "outputs": [
    {
     "data": {
      "text/plain": []
     },
     "execution_count": 4,
     "metadata": {},
     "output_type": "execute_result"
    }
   ],
   "source": [
    "std::vector v1{1,2,3,4,5};"
   ]
  },
  {
   "cell_type": "markdown",
   "id": "9f0796e8",
   "metadata": {},
   "source": [
    "generic lambda can be included in a header file for cling for correct compilation.\n",
    "The cause can be found here: https://github.com/jupyter-xeus/xeus-cling/issues/258."
   ]
  },
  {
   "cell_type": "code",
   "execution_count": 5,
   "id": "ac6eb540",
   "metadata": {},
   "outputs": [
    {
     "data": {
      "text/plain": [
       "(int) 15\n"
      ]
     },
     "execution_count": 5,
     "metadata": {},
     "output_type": "execute_result"
    }
   ],
   "source": [
    "sum(v1);"
   ]
  },
  {
   "cell_type": "code",
   "execution_count": null,
   "id": "7275c293",
   "metadata": {},
   "outputs": [],
   "source": []
  }
 ],
 "metadata": {
  "kernelspec": {
   "display_name": "C++20",
   "language": "C++",
   "name": "cling-cpp20"
  },
  "language_info": {
   "codemirror_mode": "c++",
   "file_extension": ".c++",
   "mimetype": "text/x-c++src",
   "name": "c++"
  }
 },
 "nbformat": 4,
 "nbformat_minor": 5
}
