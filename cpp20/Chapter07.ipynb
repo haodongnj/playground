{
 "cells": [
  {
   "cell_type": "code",
   "execution_count": 1,
   "id": "6ad9c240",
   "metadata": {},
   "outputs": [
    {
     "data": {
      "text/plain": []
     },
     "execution_count": 1,
     "metadata": {},
     "output_type": "execute_result"
    }
   ],
   "source": [
    "#include <ranges>\n",
    "#include <iostream>\n",
    "#include <vector>\n",
    "#include \"jupyter/chapter07/sum.hpp\"\n",
    "#include <algorithm>\n",
    "#include <utility>\n",
    "#include <numeric>\n",
    "#include <string_view>\n",
    "#include <list>"
   ]
  },
  {
   "cell_type": "code",
   "execution_count": 2,
   "id": "ed71c68c",
   "metadata": {},
   "outputs": [
    {
     "data": {
      "text/plain": []
     },
     "execution_count": 2,
     "metadata": {},
     "output_type": "execute_result"
    }
   ],
   "source": [
    "constexpr auto res = std::views::iota(1) |\n",
    "    std::views::transform([](auto n){return n*n; }) | \n",
    "    std::views::filter([](auto n){return n % 2 == 1;}) |\n",
    "    std::views::take_while([](auto n) {return n < 10000;});"
   ]
  },
  {
   "cell_type": "code",
   "execution_count": 3,
   "id": "fa294831",
   "metadata": {},
   "outputs": [
    {
     "data": {
      "text/plain": [
       "(std::ranges::take_while_view<views::all_t<filter_view<transform_view<iota_view<int, unreachable_sentinel_t>, (lambda)>, (lambda)> >, (lambda)> &) @0x7f1334e1b000\n"
      ]
     },
     "execution_count": 3,
     "metadata": {},
     "output_type": "execute_result"
    }
   ],
   "source": [
    "res"
   ]
  },
  {
   "cell_type": "code",
   "execution_count": 4,
   "id": "8a5bdb21",
   "metadata": {},
   "outputs": [
    {
     "data": {
      "text/plain": []
     },
     "execution_count": 4,
     "metadata": {},
     "output_type": "execute_result"
    }
   ],
   "source": [
    "std::vector v1{1,2,3,4,5};"
   ]
  },
  {
   "cell_type": "markdown",
   "id": "39f0b218",
   "metadata": {},
   "source": [
    "generic lambda can be included in a header file for cling for correct compilation.\n",
    "The cause can be found here: https://github.com/jupyter-xeus/xeus-cling/issues/258."
   ]
  },
  {
   "cell_type": "code",
   "execution_count": 5,
   "id": "ac6eb540",
   "metadata": {},
   "outputs": [
    {
     "data": {
      "text/plain": [
       "(int) 15\n"
      ]
     },
     "execution_count": 5,
     "metadata": {},
     "output_type": "execute_result"
    }
   ],
   "source": [
    "sum(v1);"
   ]
  },
  {
   "cell_type": "code",
   "execution_count": 6,
   "id": "7275c293",
   "metadata": {},
   "outputs": [
    {
     "data": {
      "text/plain": []
     },
     "execution_count": 6,
     "metadata": {},
     "output_type": "execute_result"
    }
   ],
   "source": [
    "int s0 = 0;\n",
    "for(auto i : std::views::iota(1) |\n",
    "    std::views::transform([](auto n){return n*n; }) | \n",
    "    std::views::filter([](auto n){return n % 2 == 1;}) |\n",
    "    std::views::take_while([](auto n) {return n < 10000;})){\n",
    "    s0 += i;\n",
    "}"
   ]
  },
  {
   "cell_type": "code",
   "execution_count": 7,
   "id": "dc5ece77",
   "metadata": {},
   "outputs": [
    {
     "data": {
      "text/plain": [
       "(int) 166650\n"
      ]
     },
     "execution_count": 7,
     "metadata": {},
     "output_type": "execute_result"
    }
   ],
   "source": [
    "s0"
   ]
  },
  {
   "cell_type": "code",
   "execution_count": null,
   "id": "6f20e55c",
   "metadata": {},
   "outputs": [],
   "source": []
  },
  {
   "cell_type": "markdown",
   "id": "c09d2679",
   "metadata": {},
   "source": [
    "## 7.1 range access"
   ]
  },
  {
   "cell_type": "code",
   "execution_count": 8,
   "id": "8a2d2af2",
   "metadata": {},
   "outputs": [
    {
     "data": {
      "text/plain": []
     },
     "execution_count": 8,
     "metadata": {},
     "output_type": "execute_result"
    }
   ],
   "source": [
    "namespace ns{\n",
    "    struct Foo{};\n",
    "    void swap(Foo&, Foo&) noexcept {std::cout << \"custom swap\" << std::endl;}\n",
    "}"
   ]
  },
  {
   "cell_type": "code",
   "execution_count": 9,
   "id": "ab5374fc",
   "metadata": {},
   "outputs": [
    {
     "data": {
      "text/plain": []
     },
     "execution_count": 9,
     "metadata": {},
     "output_type": "execute_result"
    }
   ],
   "source": [
    "ns::Foo a, b;"
   ]
  },
  {
   "cell_type": "code",
   "execution_count": 10,
   "id": "15a491fc",
   "metadata": {},
   "outputs": [
    {
     "data": {
      "text/plain": [
       "(void) @0x7f13217f9030\n"
      ]
     },
     "execution_count": 10,
     "metadata": {},
     "output_type": "execute_result"
    }
   ],
   "source": [
    "std::swap(a, b);"
   ]
  },
  {
   "cell_type": "code",
   "execution_count": 11,
   "id": "4d24f9d5",
   "metadata": {},
   "outputs": [
    {
     "name": "stdout",
     "output_type": "stream",
     "text": [
      "custom swap\n"
     ]
    },
    {
     "data": {
      "text/plain": [
       "(void) @0x7f13217f9030\n"
      ]
     },
     "execution_count": 11,
     "metadata": {},
     "output_type": "execute_result"
    }
   ],
   "source": [
    "using std::swap;\n",
    "swap(a, b);"
   ]
  },
  {
   "cell_type": "code",
   "execution_count": 12,
   "id": "468bb79e",
   "metadata": {},
   "outputs": [
    {
     "name": "stdout",
     "output_type": "stream",
     "text": [
      "custom swap\n"
     ]
    },
    {
     "data": {
      "text/plain": [
       "(void) @0x7f13217f9030\n"
      ]
     },
     "execution_count": 12,
     "metadata": {},
     "output_type": "execute_result"
    }
   ],
   "source": [
    "std::ranges::swap(a, b);"
   ]
  },
  {
   "cell_type": "code",
   "execution_count": 13,
   "id": "a34f2ead",
   "metadata": {},
   "outputs": [
    {
     "name": "stdout",
     "output_type": "stream",
     "text": [
      "custom swap\n"
     ]
    },
    {
     "data": {
      "text/plain": []
     },
     "execution_count": 13,
     "metadata": {},
     "output_type": "execute_result"
    }
   ],
   "source": [
    "{\n",
    "    using std::ranges::swap;\n",
    "    swap(a, b);\n",
    "}"
   ]
  },
  {
   "cell_type": "code",
   "execution_count": 14,
   "id": "02e53090",
   "metadata": {},
   "outputs": [
    {
     "data": {
      "text/plain": []
     },
     "execution_count": 14,
     "metadata": {},
     "output_type": "execute_result"
    }
   ],
   "source": [
    "auto const ints = {0, 1, 2, 3, 4, 5};"
   ]
  },
  {
   "cell_type": "code",
   "execution_count": 15,
   "id": "85144dba",
   "metadata": {},
   "outputs": [
    {
     "data": {
      "text/plain": [
       "(std::initializer_list<int> &) { 0, 1, 2, 3, 4, 5 }\n"
      ]
     },
     "execution_count": 15,
     "metadata": {},
     "output_type": "execute_result"
    }
   ],
   "source": [
    "ints"
   ]
  },
  {
   "cell_type": "code",
   "execution_count": 16,
   "id": "2114620a",
   "metadata": {},
   "outputs": [
    {
     "name": "stdout",
     "output_type": "stream",
     "text": [
      "0 4 16 \n"
     ]
    },
    {
     "data": {
      "text/plain": [
       "(std::basic_ostream<char, std::char_traits<char> > &) @0x7f1334e17500\n"
      ]
     },
     "execution_count": 16,
     "metadata": {},
     "output_type": "execute_result"
    }
   ],
   "source": [
    "auto even = [](int i) { return 0 == i % 2; };\n",
    "auto square = [](int i) { return i * i; };\n",
    "\n",
    "// the \"pipe\" syntax of composing the views:\n",
    "for (int i : ints | std::views::filter(even) | std::views::transform(square))\n",
    "    std::cout << i << ' ';\n",
    "\n",
    "std::cout << '\\n';"
   ]
  },
  {
   "cell_type": "code",
   "execution_count": 17,
   "id": "bbb802d3",
   "metadata": {},
   "outputs": [
    {
     "name": "stdout",
     "output_type": "stream",
     "text": [
      "0 4 16 "
     ]
    },
    {
     "data": {
      "text/plain": []
     },
     "execution_count": 17,
     "metadata": {},
     "output_type": "execute_result"
    }
   ],
   "source": [
    "for (int i : std::views::transform(std::views::filter(ints, even), square))\n",
    "    std::cout << i << ' ';"
   ]
  },
  {
   "cell_type": "code",
   "execution_count": 18,
   "id": "9212084a",
   "metadata": {},
   "outputs": [
    {
     "name": "stdout",
     "output_type": "stream",
     "text": [
      "0 4 16 \n"
     ]
    },
    {
     "data": {
      "text/plain": [
       "(std::basic_ostream<char, std::char_traits<char> > &) @0x7f1334e17500\n"
      ]
     },
     "execution_count": 18,
     "metadata": {},
     "output_type": "execute_result"
    }
   ],
   "source": [
    "for (int i : std::views::iota(0, 6)\n",
    "           | std::views::filter(even)\n",
    "           | std::views::transform(square))\n",
    "    std::cout << i << ' ';\n",
    "std::cout << '\\n';"
   ]
  },
  {
   "cell_type": "markdown",
   "id": "6bee865d",
   "metadata": {},
   "source": [
    "## 7.2 range concepts"
   ]
  },
  {
   "cell_type": "code",
   "execution_count": 19,
   "id": "9945b967",
   "metadata": {},
   "outputs": [
    {
     "data": {
      "text/plain": []
     },
     "execution_count": 19,
     "metadata": {},
     "output_type": "execute_result"
    }
   ],
   "source": [
    "template <typename R> \n",
    "concept is_range = requires(R& r){\n",
    "    std::ranges::begin(r);\n",
    "    std::ranges::end(r);\n",
    "};"
   ]
  },
  {
   "cell_type": "code",
   "execution_count": 20,
   "id": "785e4188",
   "metadata": {},
   "outputs": [
    {
     "data": {
      "text/plain": []
     },
     "execution_count": 20,
     "metadata": {},
     "output_type": "execute_result"
    }
   ],
   "source": [
    "static_assert(is_range<std::vector<int>>);"
   ]
  },
  {
   "cell_type": "code",
   "execution_count": 21,
   "id": "a0bd2a8e",
   "metadata": {},
   "outputs": [
    {
     "data": {
      "text/plain": []
     },
     "execution_count": 21,
     "metadata": {},
     "output_type": "execute_result"
    }
   ],
   "source": [
    "static_assert(is_range<std::string>);"
   ]
  },
  {
   "cell_type": "code",
   "execution_count": 22,
   "id": "5cf8b785",
   "metadata": {},
   "outputs": [
    {
     "data": {
      "text/plain": []
     },
     "execution_count": 22,
     "metadata": {},
     "output_type": "execute_result"
    }
   ],
   "source": [
    "static_assert(is_range<int[10]>);"
   ]
  },
  {
   "cell_type": "code",
   "execution_count": 23,
   "id": "b2f05600",
   "metadata": {},
   "outputs": [
    {
     "data": {
      "text/plain": []
     },
     "execution_count": 23,
     "metadata": {},
     "output_type": "execute_result"
    }
   ],
   "source": [
    "template<std::ranges::borrowed_range R>\n",
    "void f(R&& r){\n",
    "\n",
    "};"
   ]
  },
  {
   "cell_type": "markdown",
   "id": "25ac0fcb",
   "metadata": {},
   "source": [
    "borrowed_range"
   ]
  },
  {
   "cell_type": "code",
   "execution_count": 24,
   "id": "c242e776",
   "metadata": {},
   "outputs": [
    {
     "data": {
      "text/plain": []
     },
     "execution_count": 24,
     "metadata": {},
     "output_type": "execute_result"
    }
   ],
   "source": [
    "// not compile\n",
    "// f(std::vector<int>{1,2,3,4});"
   ]
  },
  {
   "cell_type": "code",
   "execution_count": 25,
   "id": "441883d9",
   "metadata": {},
   "outputs": [
    {
     "data": {
      "text/plain": [
       "(void) @0x7f13217f9030\n"
      ]
     },
     "execution_count": 25,
     "metadata": {},
     "output_type": "execute_result"
    }
   ],
   "source": [
    "std::vector v_test{1,2,3,4};\n",
    "f(v_test);"
   ]
  },
  {
   "cell_type": "code",
   "execution_count": 26,
   "id": "21936dfb",
   "metadata": {},
   "outputs": [
    {
     "data": {
      "text/plain": [
       "(void) nullptr\n"
      ]
     },
     "execution_count": 26,
     "metadata": {},
     "output_type": "execute_result"
    }
   ],
   "source": [
    "f(std::string_view{\"1234\"});"
   ]
  },
  {
   "cell_type": "markdown",
   "id": "8e44ee71",
   "metadata": {},
   "source": [
    "sized_range"
   ]
  },
  {
   "cell_type": "code",
   "execution_count": 27,
   "id": "05b86c6b",
   "metadata": {},
   "outputs": [
    {
     "data": {
      "text/plain": []
     },
     "execution_count": 27,
     "metadata": {},
     "output_type": "execute_result"
    }
   ],
   "source": [
    "template<typename R>\n",
    "concept is_sized_range = is_range<R> && requires(R &r) {std::ranges::size(r);};"
   ]
  },
  {
   "cell_type": "code",
   "execution_count": 28,
   "id": "594b817c",
   "metadata": {},
   "outputs": [
    {
     "data": {
      "text/plain": [
       "(bool) true\n"
      ]
     },
     "execution_count": 28,
     "metadata": {},
     "output_type": "execute_result"
    }
   ],
   "source": [
    "is_sized_range<int[10]>"
   ]
  },
  {
   "cell_type": "code",
   "execution_count": 29,
   "id": "6939fc66",
   "metadata": {},
   "outputs": [
    {
     "data": {
      "text/plain": [
       "(bool) true\n"
      ]
     },
     "execution_count": 29,
     "metadata": {},
     "output_type": "execute_result"
    }
   ],
   "source": [
    "is_sized_range<std::array<int, 10>>"
   ]
  },
  {
   "cell_type": "code",
   "execution_count": 30,
   "id": "66ced34b",
   "metadata": {},
   "outputs": [
    {
     "data": {
      "text/plain": [
       "(bool) true\n"
      ]
     },
     "execution_count": 30,
     "metadata": {},
     "output_type": "execute_result"
    }
   ],
   "source": [
    "is_sized_range<std::list<int>>"
   ]
  },
  {
   "cell_type": "markdown",
   "id": "265e447a",
   "metadata": {},
   "source": [
    "view"
   ]
  },
  {
   "cell_type": "code",
   "execution_count": 31,
   "id": "3399862a",
   "metadata": {},
   "outputs": [
    {
     "data": {
      "text/plain": [
       "(bool) true\n"
      ]
     },
     "execution_count": 31,
     "metadata": {},
     "output_type": "execute_result"
    }
   ],
   "source": [
    "std::ranges::view<std::string_view>"
   ]
  },
  {
   "cell_type": "code",
   "execution_count": 32,
   "id": "13988abf",
   "metadata": {},
   "outputs": [
    {
     "data": {
      "text/plain": [
       "(bool) false\n"
      ]
     },
     "execution_count": 32,
     "metadata": {},
     "output_type": "execute_result"
    }
   ],
   "source": [
    "std::ranges::view<std::vector<int>>"
   ]
  },
  {
   "cell_type": "code",
   "execution_count": 33,
   "id": "dcc4f5b7",
   "metadata": {},
   "outputs": [
    {
     "data": {
      "text/plain": [
       "(bool) false\n"
      ]
     },
     "execution_count": 33,
     "metadata": {},
     "output_type": "execute_result"
    }
   ],
   "source": [
    "std::ranges::view<std::string>"
   ]
  },
  {
   "cell_type": "code",
   "execution_count": 34,
   "id": "a2fe4b6d",
   "metadata": {},
   "outputs": [
    {
     "data": {
      "text/plain": []
     },
     "execution_count": 34,
     "metadata": {},
     "output_type": "execute_result"
    }
   ],
   "source": [
    "template<typename R>\n",
    "concept is_view = is_range<R> && std::movable<R> && std::default_initializable<R> && std::ranges::enable_view<R>;"
   ]
  },
  {
   "cell_type": "code",
   "execution_count": 35,
   "id": "ec834352",
   "metadata": {},
   "outputs": [
    {
     "data": {
      "text/plain": [
       "(bool) false\n"
      ]
     },
     "execution_count": 35,
     "metadata": {},
     "output_type": "execute_result"
    }
   ],
   "source": [
    "is_view<std::string>"
   ]
  },
  {
   "cell_type": "code",
   "execution_count": 36,
   "id": "b4d01205",
   "metadata": {},
   "outputs": [
    {
     "data": {
      "text/plain": [
       "(bool) false\n"
      ]
     },
     "execution_count": 36,
     "metadata": {},
     "output_type": "execute_result"
    }
   ],
   "source": [
    "is_view<std::vector<int>>"
   ]
  },
  {
   "cell_type": "code",
   "execution_count": 37,
   "id": "7e6fc1fa",
   "metadata": {},
   "outputs": [
    {
     "data": {
      "text/plain": [
       "(bool) true\n"
      ]
     },
     "execution_count": 37,
     "metadata": {},
     "output_type": "execute_result"
    }
   ],
   "source": [
    "is_view<std::string_view>"
   ]
  },
  {
   "cell_type": "code",
   "execution_count": 38,
   "id": "aad8bfa9",
   "metadata": {},
   "outputs": [
    {
     "data": {
      "text/plain": [
       "(bool) true\n"
      ]
     },
     "execution_count": 38,
     "metadata": {},
     "output_type": "execute_result"
    }
   ],
   "source": [
    "std::ranges::view<std::span<int>>"
   ]
  },
  {
   "cell_type": "markdown",
   "id": "7109ac18",
   "metadata": {},
   "source": [
    "other concepts"
   ]
  },
  {
   "cell_type": "code",
   "execution_count": 39,
   "id": "9198dc3d",
   "metadata": {},
   "outputs": [
    {
     "data": {
      "text/plain": []
     },
     "execution_count": 39,
     "metadata": {},
     "output_type": "execute_result"
    }
   ],
   "source": [
    "template<typename R>\n",
    "concept is_common_range = is_range<R> && std::same_as<std::ranges::iterator_t<R>, std::ranges::sentinel_t<R>>;"
   ]
  },
  {
   "cell_type": "code",
   "execution_count": 40,
   "id": "25577f1d",
   "metadata": {},
   "outputs": [
    {
     "data": {
      "text/plain": [
       "(bool) true\n"
      ]
     },
     "execution_count": 40,
     "metadata": {},
     "output_type": "execute_result"
    }
   ],
   "source": [
    "is_common_range<std::vector<int>>"
   ]
  },
  {
   "cell_type": "markdown",
   "id": "b53ef557",
   "metadata": {},
   "source": [
    "## 7.3 range components"
   ]
  },
  {
   "cell_type": "markdown",
   "id": "7a082749",
   "metadata": {},
   "source": [
    "view_interface example from cppreference website:"
   ]
  },
  {
   "cell_type": "code",
   "execution_count": 41,
   "id": "a4a4246d",
   "metadata": {},
   "outputs": [
    {
     "data": {
      "text/plain": []
     },
     "execution_count": 41,
     "metadata": {},
     "output_type": "execute_result"
    }
   ],
   "source": [
    "template<class T, class A>\n",
    "class VectorView : public std::ranges::view_interface<VectorView<T, A>>\n",
    "{\n",
    "public:\n",
    "    VectorView() = default;\n",
    " \n",
    "    VectorView(const std::vector<T, A>& vec) :\n",
    "        m_begin(vec.cbegin()), m_end(vec.cend())\n",
    "    {}\n",
    " \n",
    "    auto begin() const { return m_begin; }\n",
    " \n",
    "    auto end() const { return m_end; }\n",
    " \n",
    "private:\n",
    "    typename std::vector<T, A>::const_iterator m_begin{}, m_end{};\n",
    "};"
   ]
  },
  {
   "cell_type": "code",
   "execution_count": 42,
   "id": "70798607",
   "metadata": {},
   "outputs": [
    {
     "name": "stdout",
     "output_type": "stream",
     "text": [
      "1 4 9 16 \n",
      "v[0] = 1\n",
      "v[1] = 4\n",
      "v[2] = 9\n",
      "v[3] = 16\n"
     ]
    },
    {
     "data": {
      "text/plain": []
     },
     "execution_count": 42,
     "metadata": {},
     "output_type": "execute_result"
    }
   ],
   "source": [
    "{\n",
    "    std::vector<int> v = {1, 4, 9, 16};\n",
    " \n",
    "    VectorView view_over_v{v};\n",
    " \n",
    "    // We can iterate with begin() and end().\n",
    "    for (int n : view_over_v)\n",
    "        std::cout << n << ' ';\n",
    "    std::cout << '\\n';\n",
    " \n",
    "    // We get operator[] for free when inheriting from view_interface\n",
    "    // since we satisfy the random_access_range concept.\n",
    "    for (std::ptrdiff_t i = 0; i != view_over_v.size(); ++i)\n",
    "        std::cout << \"v[\" << i << \"] = \" << view_over_v[i] << '\\n';\n",
    "}"
   ]
  },
  {
   "cell_type": "markdown",
   "id": "7dafff4b",
   "metadata": {},
   "source": [
    "## 7.4 range factory"
   ]
  },
  {
   "cell_type": "code",
   "execution_count": 43,
   "id": "c6115518",
   "metadata": {},
   "outputs": [
    {
     "data": {
      "text/plain": []
     },
     "execution_count": 43,
     "metadata": {},
     "output_type": "execute_result"
    }
   ],
   "source": [
    "auto ev = std::ranges::empty_view<int>{};"
   ]
  },
  {
   "cell_type": "code",
   "execution_count": 44,
   "id": "fb2c1799",
   "metadata": {},
   "outputs": [
    {
     "data": {
      "text/plain": [
       "(bool) true\n"
      ]
     },
     "execution_count": 44,
     "metadata": {},
     "output_type": "execute_result"
    }
   ],
   "source": [
    "ev.empty()"
   ]
  },
  {
   "cell_type": "code",
   "execution_count": 45,
   "id": "458b2783",
   "metadata": {},
   "outputs": [
    {
     "data": {
      "text/plain": []
     },
     "execution_count": 45,
     "metadata": {},
     "output_type": "execute_result"
    }
   ],
   "source": [
    "std::ranges::single_view single_view{6};"
   ]
  },
  {
   "cell_type": "code",
   "execution_count": 47,
   "id": "d7789bc4",
   "metadata": {},
   "outputs": [
    {
     "data": {
      "text/plain": [
       "(int *) 0x7f1330070000\n"
      ]
     },
     "execution_count": 47,
     "metadata": {},
     "output_type": "execute_result"
    }
   ],
   "source": [
    "single_view.begin()"
   ]
  },
  {
   "cell_type": "code",
   "execution_count": 48,
   "id": "a02e480a",
   "metadata": {},
   "outputs": [
    {
     "data": {
      "text/plain": [
       "(int) 6\n"
      ]
     },
     "execution_count": 48,
     "metadata": {},
     "output_type": "execute_result"
    }
   ],
   "source": [
    "*single_view.begin()"
   ]
  },
  {
   "cell_type": "code",
   "execution_count": 49,
   "id": "217abf60",
   "metadata": {},
   "outputs": [
    {
     "data": {
      "text/plain": [
       "(int *) 0x7f1330070004\n"
      ]
     },
     "execution_count": 49,
     "metadata": {},
     "output_type": "execute_result"
    }
   ],
   "source": [
    "single_view.end()"
   ]
  },
  {
   "cell_type": "code",
   "execution_count": 51,
   "id": "c0e75e5d",
   "metadata": {},
   "outputs": [
    {
     "data": {
      "text/plain": [
       "(int *) 0x7f1330070004\n"
      ]
     },
     "execution_count": 51,
     "metadata": {},
     "output_type": "execute_result"
    }
   ],
   "source": [
    "single_view.begin() + 1"
   ]
  },
  {
   "cell_type": "code",
   "execution_count": 52,
   "id": "62114db6",
   "metadata": {},
   "outputs": [
    {
     "name": "stdout",
     "output_type": "stream",
     "text": [
      "0 1 2 3 4 \n"
     ]
    },
    {
     "data": {
      "text/plain": [
       "(std::basic_ostream<char, std::char_traits<char> >::__ostream_type &) @0x7f1334e17500\n"
      ]
     },
     "execution_count": 52,
     "metadata": {},
     "output_type": "execute_result"
    }
   ],
   "source": [
    "for(auto e : std::ranges::iota_view(0, 5)){\n",
    "    std::cout << e << ' ';\n",
    "}\n",
    "std::cout << std::endl;"
   ]
  },
  {
   "cell_type": "markdown",
   "id": "3b22f898",
   "metadata": {},
   "source": [
    "## 7.5 range adapter"
   ]
  },
  {
   "cell_type": "code",
   "execution_count": null,
   "id": "d4a1b94b",
   "metadata": {},
   "outputs": [],
   "source": []
  }
 ],
 "metadata": {
  "kernelspec": {
   "display_name": "C++20",
   "language": "C++",
   "name": "cling-cpp20"
  },
  "language_info": {
   "codemirror_mode": "c++",
   "file_extension": ".c++",
   "mimetype": "text/x-c++src",
   "name": "c++"
  }
 },
 "nbformat": 4,
 "nbformat_minor": 5
}
