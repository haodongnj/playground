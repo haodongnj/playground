{
 "cells": [
  {
   "cell_type": "code",
   "execution_count": 1,
   "id": "6ad9c240",
   "metadata": {},
   "outputs": [
    {
     "data": {
      "text/plain": []
     },
     "execution_count": 1,
     "metadata": {},
     "output_type": "execute_result"
    }
   ],
   "source": [
    "#include <ranges>\n",
    "#include <iostream>\n",
    "#include <vector>\n",
    "#include \"chapter07/sum.hpp\"\n",
    "#include <algorithm>\n",
    "#include <utility>\n",
    "#include <numeric>\n",
    "#include <string_view>\n",
    "#include <list>\n",
    "#include <map>\n",
    "#include <concepts>"
   ]
  },
  {
   "cell_type": "code",
   "execution_count": 2,
   "id": "ed71c68c",
   "metadata": {},
   "outputs": [
    {
     "data": {
      "text/plain": []
     },
     "execution_count": 2,
     "metadata": {},
     "output_type": "execute_result"
    }
   ],
   "source": [
    "constexpr auto res = std::views::iota(1) |\n",
    "    std::views::transform([](auto n){return n*n; }) | \n",
    "    std::views::filter([](auto n){return n % 2 == 1;}) |\n",
    "    std::views::take_while([](auto n) {return n < 10000;});"
   ]
  },
  {
   "cell_type": "code",
   "execution_count": 3,
   "id": "fa294831",
   "metadata": {},
   "outputs": [
    {
     "data": {
      "text/plain": [
       "(std::ranges::take_while_view<views::all_t<filter_view<transform_view<iota_view<int, unreachable_sentinel_t>, (lambda)>, (lambda)> >, (lambda)> &) @0x7fd19554d000\n"
      ]
     },
     "execution_count": 3,
     "metadata": {},
     "output_type": "execute_result"
    }
   ],
   "source": [
    "res"
   ]
  },
  {
   "cell_type": "code",
   "execution_count": 4,
   "id": "8a5bdb21",
   "metadata": {},
   "outputs": [
    {
     "data": {
      "text/plain": []
     },
     "execution_count": 4,
     "metadata": {},
     "output_type": "execute_result"
    }
   ],
   "source": [
    "std::vector v1{1,2,3,4,5};"
   ]
  },
  {
   "cell_type": "markdown",
   "id": "a4af6665",
   "metadata": {},
   "source": [
    "generic lambda can be included in a header file for cling for correct compilation.\n",
    "The cause can be found here: https://github.com/jupyter-xeus/xeus-cling/issues/258."
   ]
  },
  {
   "cell_type": "code",
   "execution_count": 5,
   "id": "ac6eb540",
   "metadata": {},
   "outputs": [
    {
     "data": {
      "text/plain": [
       "(int) 15\n"
      ]
     },
     "execution_count": 5,
     "metadata": {},
     "output_type": "execute_result"
    }
   ],
   "source": [
    "sum(v1);"
   ]
  },
  {
   "cell_type": "code",
   "execution_count": 6,
   "id": "7275c293",
   "metadata": {},
   "outputs": [
    {
     "data": {
      "text/plain": []
     },
     "execution_count": 6,
     "metadata": {},
     "output_type": "execute_result"
    }
   ],
   "source": [
    "int s0 = 0;\n",
    "for(auto i : std::views::iota(1) |\n",
    "    std::views::transform([](auto n){return n*n; }) | \n",
    "    std::views::filter([](auto n){return n % 2 == 1;}) |\n",
    "    std::views::take_while([](auto n) {return n < 10000;})){\n",
    "    s0 += i;\n",
    "}"
   ]
  },
  {
   "cell_type": "code",
   "execution_count": 7,
   "id": "11e4b4e2",
   "metadata": {},
   "outputs": [
    {
     "data": {
      "text/plain": [
       "(int) 166650\n"
      ]
     },
     "execution_count": 7,
     "metadata": {},
     "output_type": "execute_result"
    }
   ],
   "source": [
    "s0"
   ]
  },
  {
   "cell_type": "code",
   "execution_count": null,
   "id": "5d4cebf4",
   "metadata": {},
   "outputs": [],
   "source": []
  },
  {
   "cell_type": "markdown",
   "id": "29bddfc9",
   "metadata": {},
   "source": [
    "## 7.1 range access"
   ]
  },
  {
   "cell_type": "code",
   "execution_count": 8,
   "id": "76533c73",
   "metadata": {},
   "outputs": [
    {
     "data": {
      "text/plain": []
     },
     "execution_count": 8,
     "metadata": {},
     "output_type": "execute_result"
    }
   ],
   "source": [
    "namespace ns{\n",
    "    struct Foo{};\n",
    "    void swap(Foo&, Foo&) noexcept {std::cout << \"custom swap\" << std::endl;}\n",
    "}"
   ]
  },
  {
   "cell_type": "code",
   "execution_count": 9,
   "id": "c8016005",
   "metadata": {},
   "outputs": [
    {
     "data": {
      "text/plain": []
     },
     "execution_count": 9,
     "metadata": {},
     "output_type": "execute_result"
    }
   ],
   "source": [
    "ns::Foo a, b;"
   ]
  },
  {
   "cell_type": "code",
   "execution_count": 10,
   "id": "ec2a9033",
   "metadata": {},
   "outputs": [
    {
     "data": {
      "text/plain": [
       "(void) @0x7fd181ffa030\n"
      ]
     },
     "execution_count": 10,
     "metadata": {},
     "output_type": "execute_result"
    }
   ],
   "source": [
    "std::swap(a, b);"
   ]
  },
  {
   "cell_type": "code",
   "execution_count": 11,
   "id": "1cfcfc51",
   "metadata": {},
   "outputs": [
    {
     "name": "stdout",
     "output_type": "stream",
     "text": [
      "custom swap\n"
     ]
    },
    {
     "data": {
      "text/plain": [
       "(void) @0x7fd181ffa030\n"
      ]
     },
     "execution_count": 11,
     "metadata": {},
     "output_type": "execute_result"
    }
   ],
   "source": [
    "using std::swap;\n",
    "swap(a, b);"
   ]
  },
  {
   "cell_type": "code",
   "execution_count": 12,
   "id": "c77e891b",
   "metadata": {},
   "outputs": [
    {
     "name": "stdout",
     "output_type": "stream",
     "text": [
      "custom swap\n"
     ]
    },
    {
     "data": {
      "text/plain": [
       "(void) @0x7fd181ffa030\n"
      ]
     },
     "execution_count": 12,
     "metadata": {},
     "output_type": "execute_result"
    }
   ],
   "source": [
    "std::ranges::swap(a, b);"
   ]
  },
  {
   "cell_type": "code",
   "execution_count": 13,
   "id": "c043c53b",
   "metadata": {},
   "outputs": [
    {
     "name": "stdout",
     "output_type": "stream",
     "text": [
      "custom swap\n"
     ]
    },
    {
     "data": {
      "text/plain": []
     },
     "execution_count": 13,
     "metadata": {},
     "output_type": "execute_result"
    }
   ],
   "source": [
    "{\n",
    "    using std::ranges::swap;\n",
    "    swap(a, b);\n",
    "}"
   ]
  },
  {
   "cell_type": "code",
   "execution_count": 14,
   "id": "9b596bb8",
   "metadata": {},
   "outputs": [
    {
     "data": {
      "text/plain": []
     },
     "execution_count": 14,
     "metadata": {},
     "output_type": "execute_result"
    }
   ],
   "source": [
    "auto const ints = {0, 1, 2, 3, 4, 5};"
   ]
  },
  {
   "cell_type": "code",
   "execution_count": 15,
   "id": "2b94de60",
   "metadata": {},
   "outputs": [
    {
     "data": {
      "text/plain": [
       "(std::initializer_list<int> &) { 0, 1, 2, 3, 4, 5 }\n"
      ]
     },
     "execution_count": 15,
     "metadata": {},
     "output_type": "execute_result"
    }
   ],
   "source": [
    "ints"
   ]
  },
  {
   "cell_type": "code",
   "execution_count": 16,
   "id": "b85274cd",
   "metadata": {},
   "outputs": [
    {
     "name": "stdout",
     "output_type": "stream",
     "text": [
      "0 4 16 \n"
     ]
    },
    {
     "data": {
      "text/plain": [
       "(std::basic_ostream<char, std::char_traits<char> > &) @0x7fd195817500\n"
      ]
     },
     "execution_count": 16,
     "metadata": {},
     "output_type": "execute_result"
    }
   ],
   "source": [
    "auto even = [](int i) { return 0 == i % 2; };\n",
    "auto square = [](int i) { return i * i; };\n",
    "\n",
    "// the \"pipe\" syntax of composing the views:\n",
    "for (int i : ints | std::views::filter(even) | std::views::transform(square))\n",
    "    std::cout << i << ' ';\n",
    "\n",
    "std::cout << '\\n';"
   ]
  },
  {
   "cell_type": "code",
   "execution_count": 17,
   "id": "7016a206",
   "metadata": {},
   "outputs": [
    {
     "name": "stdout",
     "output_type": "stream",
     "text": [
      "0 4 16 "
     ]
    },
    {
     "data": {
      "text/plain": []
     },
     "execution_count": 17,
     "metadata": {},
     "output_type": "execute_result"
    }
   ],
   "source": [
    "for (int i : std::views::transform(std::views::filter(ints, even), square))\n",
    "    std::cout << i << ' ';"
   ]
  },
  {
   "cell_type": "code",
   "execution_count": 18,
   "id": "e1429fef",
   "metadata": {},
   "outputs": [
    {
     "name": "stdout",
     "output_type": "stream",
     "text": [
      "0 4 16 \n"
     ]
    },
    {
     "data": {
      "text/plain": [
       "(std::basic_ostream<char, std::char_traits<char> > &) @0x7fd195817500\n"
      ]
     },
     "execution_count": 18,
     "metadata": {},
     "output_type": "execute_result"
    }
   ],
   "source": [
    "for (int i : std::views::iota(0, 6)\n",
    "           | std::views::filter(even)\n",
    "           | std::views::transform(square))\n",
    "    std::cout << i << ' ';\n",
    "std::cout << '\\n';"
   ]
  },
  {
   "cell_type": "markdown",
   "id": "c4fa9428",
   "metadata": {},
   "source": [
    "## 7.2 range concepts"
   ]
  },
  {
   "cell_type": "code",
   "execution_count": 19,
   "id": "36cf6446",
   "metadata": {},
   "outputs": [
    {
     "data": {
      "text/plain": []
     },
     "execution_count": 19,
     "metadata": {},
     "output_type": "execute_result"
    }
   ],
   "source": [
    "template <typename R> \n",
    "concept is_range = requires(R& r){\n",
    "    std::ranges::begin(r);\n",
    "    std::ranges::end(r);\n",
    "};"
   ]
  },
  {
   "cell_type": "code",
   "execution_count": 20,
   "id": "3e9d0c69",
   "metadata": {},
   "outputs": [
    {
     "data": {
      "text/plain": []
     },
     "execution_count": 20,
     "metadata": {},
     "output_type": "execute_result"
    }
   ],
   "source": [
    "static_assert(is_range<std::vector<int>>);"
   ]
  },
  {
   "cell_type": "code",
   "execution_count": 21,
   "id": "e869b715",
   "metadata": {},
   "outputs": [
    {
     "data": {
      "text/plain": []
     },
     "execution_count": 21,
     "metadata": {},
     "output_type": "execute_result"
    }
   ],
   "source": [
    "static_assert(is_range<std::string>);"
   ]
  },
  {
   "cell_type": "code",
   "execution_count": 22,
   "id": "43c1a982",
   "metadata": {},
   "outputs": [
    {
     "data": {
      "text/plain": []
     },
     "execution_count": 22,
     "metadata": {},
     "output_type": "execute_result"
    }
   ],
   "source": [
    "static_assert(is_range<int[10]>);"
   ]
  },
  {
   "cell_type": "code",
   "execution_count": 23,
   "id": "7496a224",
   "metadata": {},
   "outputs": [
    {
     "data": {
      "text/plain": []
     },
     "execution_count": 23,
     "metadata": {},
     "output_type": "execute_result"
    }
   ],
   "source": [
    "template<std::ranges::borrowed_range R>\n",
    "void f(R&& r){\n",
    "\n",
    "};"
   ]
  },
  {
   "cell_type": "markdown",
   "id": "07db7053",
   "metadata": {},
   "source": [
    "borrowed_range"
   ]
  },
  {
   "cell_type": "code",
   "execution_count": 24,
   "id": "fbf40bd9",
   "metadata": {},
   "outputs": [
    {
     "data": {
      "text/plain": []
     },
     "execution_count": 24,
     "metadata": {},
     "output_type": "execute_result"
    }
   ],
   "source": [
    "// not compile\n",
    "// f(std::vector<int>{1,2,3,4});"
   ]
  },
  {
   "cell_type": "code",
   "execution_count": 25,
   "id": "335c3c3d",
   "metadata": {},
   "outputs": [
    {
     "data": {
      "text/plain": [
       "(void) @0x7fd181ffa030\n"
      ]
     },
     "execution_count": 25,
     "metadata": {},
     "output_type": "execute_result"
    }
   ],
   "source": [
    "std::vector v_test{1,2,3,4};\n",
    "f(v_test);"
   ]
  },
  {
   "cell_type": "code",
   "execution_count": 26,
   "id": "fd121336",
   "metadata": {},
   "outputs": [
    {
     "data": {
      "text/plain": [
       "(void) nullptr\n"
      ]
     },
     "execution_count": 26,
     "metadata": {},
     "output_type": "execute_result"
    }
   ],
   "source": [
    "f(std::string_view{\"1234\"});"
   ]
  },
  {
   "cell_type": "markdown",
   "id": "e50befde",
   "metadata": {},
   "source": [
    "sized_range"
   ]
  },
  {
   "cell_type": "code",
   "execution_count": 27,
   "id": "4a37d373",
   "metadata": {},
   "outputs": [
    {
     "data": {
      "text/plain": []
     },
     "execution_count": 27,
     "metadata": {},
     "output_type": "execute_result"
    }
   ],
   "source": [
    "template<typename R>\n",
    "concept is_sized_range = is_range<R> && requires(R &r) {std::ranges::size(r);};"
   ]
  },
  {
   "cell_type": "code",
   "execution_count": 28,
   "id": "77e9376d",
   "metadata": {},
   "outputs": [
    {
     "data": {
      "text/plain": [
       "(bool) true\n"
      ]
     },
     "execution_count": 28,
     "metadata": {},
     "output_type": "execute_result"
    }
   ],
   "source": [
    "is_sized_range<int[10]>"
   ]
  },
  {
   "cell_type": "code",
   "execution_count": 29,
   "id": "fb9ebd06",
   "metadata": {},
   "outputs": [
    {
     "data": {
      "text/plain": [
       "(bool) true\n"
      ]
     },
     "execution_count": 29,
     "metadata": {},
     "output_type": "execute_result"
    }
   ],
   "source": [
    "is_sized_range<std::array<int, 10>>"
   ]
  },
  {
   "cell_type": "code",
   "execution_count": 30,
   "id": "495d212d",
   "metadata": {},
   "outputs": [
    {
     "data": {
      "text/plain": [
       "(bool) true\n"
      ]
     },
     "execution_count": 30,
     "metadata": {},
     "output_type": "execute_result"
    }
   ],
   "source": [
    "is_sized_range<std::list<int>>"
   ]
  },
  {
   "cell_type": "markdown",
   "id": "ae62965a",
   "metadata": {},
   "source": [
    "view"
   ]
  },
  {
   "cell_type": "code",
   "execution_count": 31,
   "id": "0dba906b",
   "metadata": {},
   "outputs": [
    {
     "data": {
      "text/plain": [
       "(bool) true\n"
      ]
     },
     "execution_count": 31,
     "metadata": {},
     "output_type": "execute_result"
    }
   ],
   "source": [
    "std::ranges::view<std::string_view>"
   ]
  },
  {
   "cell_type": "code",
   "execution_count": 32,
   "id": "dead0032",
   "metadata": {},
   "outputs": [
    {
     "data": {
      "text/plain": [
       "(bool) false\n"
      ]
     },
     "execution_count": 32,
     "metadata": {},
     "output_type": "execute_result"
    }
   ],
   "source": [
    "std::ranges::view<std::vector<int>>"
   ]
  },
  {
   "cell_type": "code",
   "execution_count": 33,
   "id": "1f43a593",
   "metadata": {},
   "outputs": [
    {
     "data": {
      "text/plain": [
       "(bool) false\n"
      ]
     },
     "execution_count": 33,
     "metadata": {},
     "output_type": "execute_result"
    }
   ],
   "source": [
    "std::ranges::view<std::string>"
   ]
  },
  {
   "cell_type": "code",
   "execution_count": 34,
   "id": "78fe8f64",
   "metadata": {},
   "outputs": [
    {
     "data": {
      "text/plain": []
     },
     "execution_count": 34,
     "metadata": {},
     "output_type": "execute_result"
    }
   ],
   "source": [
    "template<typename R>\n",
    "concept is_view = is_range<R> && std::movable<R> && std::default_initializable<R> && std::ranges::enable_view<R>;"
   ]
  },
  {
   "cell_type": "code",
   "execution_count": 35,
   "id": "458c8313",
   "metadata": {},
   "outputs": [
    {
     "data": {
      "text/plain": [
       "(bool) false\n"
      ]
     },
     "execution_count": 35,
     "metadata": {},
     "output_type": "execute_result"
    }
   ],
   "source": [
    "is_view<std::string>"
   ]
  },
  {
   "cell_type": "code",
   "execution_count": 36,
   "id": "2d0fa469",
   "metadata": {},
   "outputs": [
    {
     "data": {
      "text/plain": [
       "(bool) false\n"
      ]
     },
     "execution_count": 36,
     "metadata": {},
     "output_type": "execute_result"
    }
   ],
   "source": [
    "is_view<std::vector<int>>"
   ]
  },
  {
   "cell_type": "code",
   "execution_count": 37,
   "id": "1578acf6",
   "metadata": {},
   "outputs": [
    {
     "data": {
      "text/plain": [
       "(bool) true\n"
      ]
     },
     "execution_count": 37,
     "metadata": {},
     "output_type": "execute_result"
    }
   ],
   "source": [
    "is_view<std::string_view>"
   ]
  },
  {
   "cell_type": "code",
   "execution_count": 38,
   "id": "2fd6b851",
   "metadata": {},
   "outputs": [
    {
     "data": {
      "text/plain": [
       "(bool) true\n"
      ]
     },
     "execution_count": 38,
     "metadata": {},
     "output_type": "execute_result"
    }
   ],
   "source": [
    "std::ranges::view<std::span<int>>"
   ]
  },
  {
   "cell_type": "markdown",
   "id": "add2b1c8",
   "metadata": {},
   "source": [
    "other concepts"
   ]
  },
  {
   "cell_type": "code",
   "execution_count": 39,
   "id": "e0e6d003",
   "metadata": {},
   "outputs": [
    {
     "data": {
      "text/plain": []
     },
     "execution_count": 39,
     "metadata": {},
     "output_type": "execute_result"
    }
   ],
   "source": [
    "template<typename R>\n",
    "concept is_common_range = is_range<R> && std::same_as<std::ranges::iterator_t<R>, std::ranges::sentinel_t<R>>;"
   ]
  },
  {
   "cell_type": "code",
   "execution_count": 40,
   "id": "b32ef5d7",
   "metadata": {},
   "outputs": [
    {
     "data": {
      "text/plain": [
       "(bool) true\n"
      ]
     },
     "execution_count": 40,
     "metadata": {},
     "output_type": "execute_result"
    }
   ],
   "source": [
    "is_common_range<std::vector<int>>"
   ]
  },
  {
   "cell_type": "markdown",
   "id": "138c244c",
   "metadata": {},
   "source": [
    "## 7.3 range components"
   ]
  },
  {
   "cell_type": "markdown",
   "id": "65866ee2",
   "metadata": {},
   "source": [
    "view_interface example from cppreference website:"
   ]
  },
  {
   "cell_type": "code",
   "execution_count": 41,
   "id": "1e455f6a",
   "metadata": {},
   "outputs": [
    {
     "data": {
      "text/plain": []
     },
     "execution_count": 41,
     "metadata": {},
     "output_type": "execute_result"
    }
   ],
   "source": [
    "template<class T, class A>\n",
    "class VectorView : public std::ranges::view_interface<VectorView<T, A>>\n",
    "{\n",
    "public:\n",
    "    VectorView() = default;\n",
    " \n",
    "    VectorView(const std::vector<T, A>& vec) :\n",
    "        m_begin(vec.cbegin()), m_end(vec.cend())\n",
    "    {}\n",
    " \n",
    "    auto begin() const { return m_begin; }\n",
    " \n",
    "    auto end() const { return m_end; }\n",
    " \n",
    "private:\n",
    "    typename std::vector<T, A>::const_iterator m_begin{}, m_end{};\n",
    "};"
   ]
  },
  {
   "cell_type": "code",
   "execution_count": 42,
   "id": "7c11974b",
   "metadata": {},
   "outputs": [
    {
     "name": "stdout",
     "output_type": "stream",
     "text": [
      "1 4 9 16 \n",
      "v[0] = 1\n",
      "v[1] = 4\n",
      "v[2] = 9\n",
      "v[3] = 16\n"
     ]
    },
    {
     "data": {
      "text/plain": []
     },
     "execution_count": 42,
     "metadata": {},
     "output_type": "execute_result"
    }
   ],
   "source": [
    "{\n",
    "    std::vector<int> v = {1, 4, 9, 16};\n",
    " \n",
    "    VectorView view_over_v{v};\n",
    " \n",
    "    // We can iterate with begin() and end().\n",
    "    for (int n : view_over_v)\n",
    "        std::cout << n << ' ';\n",
    "    std::cout << '\\n';\n",
    " \n",
    "    // We get operator[] for free when inheriting from view_interface\n",
    "    // since we satisfy the random_access_range concept.\n",
    "    for (std::ptrdiff_t i = 0; i != view_over_v.size(); ++i)\n",
    "        std::cout << \"v[\" << i << \"] = \" << view_over_v[i] << '\\n';\n",
    "}"
   ]
  },
  {
   "cell_type": "markdown",
   "id": "f7d93b26",
   "metadata": {},
   "source": [
    "## 7.4 range factory"
   ]
  },
  {
   "cell_type": "code",
   "execution_count": 43,
   "id": "a939ec37",
   "metadata": {},
   "outputs": [
    {
     "data": {
      "text/plain": []
     },
     "execution_count": 43,
     "metadata": {},
     "output_type": "execute_result"
    }
   ],
   "source": [
    "auto ev = std::ranges::empty_view<int>{};"
   ]
  },
  {
   "cell_type": "code",
   "execution_count": 44,
   "id": "002a6696",
   "metadata": {},
   "outputs": [
    {
     "data": {
      "text/plain": [
       "(bool) true\n"
      ]
     },
     "execution_count": 44,
     "metadata": {},
     "output_type": "execute_result"
    }
   ],
   "source": [
    "ev.empty()"
   ]
  },
  {
   "cell_type": "code",
   "execution_count": 45,
   "id": "643cb258",
   "metadata": {},
   "outputs": [
    {
     "data": {
      "text/plain": []
     },
     "execution_count": 45,
     "metadata": {},
     "output_type": "execute_result"
    }
   ],
   "source": [
    "std::ranges::single_view single_view{6};"
   ]
  },
  {
   "cell_type": "code",
   "execution_count": 46,
   "id": "1505a559",
   "metadata": {},
   "outputs": [
    {
     "data": {
      "text/plain": [
       "(int *) 0x7fd190111000\n"
      ]
     },
     "execution_count": 46,
     "metadata": {},
     "output_type": "execute_result"
    }
   ],
   "source": [
    "single_view.begin()"
   ]
  },
  {
   "cell_type": "code",
   "execution_count": 47,
   "id": "44c858ac",
   "metadata": {},
   "outputs": [
    {
     "data": {
      "text/plain": [
       "(int) 6\n"
      ]
     },
     "execution_count": 47,
     "metadata": {},
     "output_type": "execute_result"
    }
   ],
   "source": [
    "*single_view.begin()"
   ]
  },
  {
   "cell_type": "code",
   "execution_count": 48,
   "id": "f93093f1",
   "metadata": {},
   "outputs": [
    {
     "data": {
      "text/plain": [
       "(int *) 0x7fd190111004\n"
      ]
     },
     "execution_count": 48,
     "metadata": {},
     "output_type": "execute_result"
    }
   ],
   "source": [
    "single_view.end()"
   ]
  },
  {
   "cell_type": "code",
   "execution_count": 49,
   "id": "f7901106",
   "metadata": {},
   "outputs": [
    {
     "data": {
      "text/plain": [
       "(int *) 0x7fd190111004\n"
      ]
     },
     "execution_count": 49,
     "metadata": {},
     "output_type": "execute_result"
    }
   ],
   "source": [
    "single_view.begin() + 1"
   ]
  },
  {
   "cell_type": "code",
   "execution_count": 50,
   "id": "8343d756",
   "metadata": {},
   "outputs": [
    {
     "name": "stdout",
     "output_type": "stream",
     "text": [
      "0 1 2 3 4 \n"
     ]
    },
    {
     "data": {
      "text/plain": [
       "(std::basic_ostream<char, std::char_traits<char> >::__ostream_type &) @0x7fd195817500\n"
      ]
     },
     "execution_count": 50,
     "metadata": {},
     "output_type": "execute_result"
    }
   ],
   "source": [
    "for(auto e : std::ranges::iota_view(0, 5)){\n",
    "    std::cout << e << ' ';\n",
    "}\n",
    "std::cout << std::endl;"
   ]
  },
  {
   "cell_type": "markdown",
   "id": "f4082fba",
   "metadata": {},
   "source": [
    "## 7.5 range adapter"
   ]
  },
  {
   "cell_type": "code",
   "execution_count": 51,
   "id": "7961d53b",
   "metadata": {},
   "outputs": [
    {
     "data": {
      "text/plain": [
       "(std::initializer_list<int> &) { 0, 1, 2, 3, 4, 5 }\n"
      ]
     },
     "execution_count": 51,
     "metadata": {},
     "output_type": "execute_result"
    }
   ],
   "source": [
    "ints"
   ]
  },
  {
   "cell_type": "code",
   "execution_count": 52,
   "id": "b87b5a38",
   "metadata": {},
   "outputs": [
    {
     "data": {
      "text/plain": []
     },
     "execution_count": 52,
     "metadata": {},
     "output_type": "execute_result"
    }
   ],
   "source": [
    "auto even_view = ints | std::ranges::views::filter(even);"
   ]
  },
  {
   "cell_type": "code",
   "execution_count": 53,
   "id": "cf63f694",
   "metadata": {},
   "outputs": [
    {
     "data": {
      "text/plain": [
       "(std::ranges::filter_view<views::all_t<const initializer_list<int> &>, (lambda)> &) @0x7fd1900f0000\n"
      ]
     },
     "execution_count": 53,
     "metadata": {},
     "output_type": "execute_result"
    }
   ],
   "source": [
    "even_view"
   ]
  },
  {
   "cell_type": "code",
   "execution_count": 54,
   "id": "1a55ce4b",
   "metadata": {},
   "outputs": [
    {
     "name": "stdout",
     "output_type": "stream",
     "text": [
      "0 "
     ]
    },
    {
     "data": {
      "text/plain": []
     },
     "execution_count": 54,
     "metadata": {},
     "output_type": "execute_result"
    }
   ],
   "source": [
    "for(auto i : ints | std::ranges::views::take(2) | std::ranges::views::filter(even)){\n",
    "    std::cout << i << ' ' ;\n",
    "}"
   ]
  },
  {
   "cell_type": "code",
   "execution_count": 55,
   "id": "e5bca6da",
   "metadata": {},
   "outputs": [
    {
     "name": "stdout",
     "output_type": "stream",
     "text": [
      "0 2 "
     ]
    },
    {
     "data": {
      "text/plain": []
     },
     "execution_count": 55,
     "metadata": {},
     "output_type": "execute_result"
    }
   ],
   "source": [
    "for(auto i : ints | std::ranges::views::take_while([](auto n){return n <= 3;}) | std::ranges::views::filter(even)){\n",
    "    std::cout << i << ' ' ;\n",
    "}"
   ]
  },
  {
   "cell_type": "code",
   "execution_count": 56,
   "id": "036d90ce",
   "metadata": {},
   "outputs": [
    {
     "name": "stdout",
     "output_type": "stream",
     "text": [
      "2 4 "
     ]
    },
    {
     "data": {
      "text/plain": []
     },
     "execution_count": 56,
     "metadata": {},
     "output_type": "execute_result"
    }
   ],
   "source": [
    "for(auto i : ints | std::ranges::views::drop(2) | std::ranges::views::filter(even)){\n",
    "    std::cout << i << ' ' ;\n",
    "}"
   ]
  },
  {
   "cell_type": "code",
   "execution_count": 57,
   "id": "3f7ac161",
   "metadata": {},
   "outputs": [
    {
     "name": "stdout",
     "output_type": "stream",
     "text": [
      "4 "
     ]
    },
    {
     "data": {
      "text/plain": []
     },
     "execution_count": 57,
     "metadata": {},
     "output_type": "execute_result"
    }
   ],
   "source": [
    "for(auto i : ints | std::ranges::views::drop_while([](auto n){ return n <= 3;}) | std::ranges::views::filter(even)){\n",
    "    std::cout << i << ' ' ;\n",
    "}"
   ]
  },
  {
   "cell_type": "code",
   "execution_count": 58,
   "id": "26b59814",
   "metadata": {},
   "outputs": [
    {
     "data": {
      "text/plain": []
     },
     "execution_count": 58,
     "metadata": {},
     "output_type": "execute_result"
    }
   ],
   "source": [
    "std::vector<std::string_view> v_sv{\"hello\", \" \", \"world\", \"!\"};"
   ]
  },
  {
   "cell_type": "code",
   "execution_count": 59,
   "id": "fb4aaf26",
   "metadata": {},
   "outputs": [
    {
     "name": "stdout",
     "output_type": "stream",
     "text": [
      "hello world!"
     ]
    },
    {
     "data": {
      "text/plain": []
     },
     "execution_count": 59,
     "metadata": {},
     "output_type": "execute_result"
    }
   ],
   "source": [
    "for(auto ch : v_sv | std::ranges::views::join){\n",
    "    std::cout<< ch ;\n",
    "}"
   ]
  },
  {
   "cell_type": "code",
   "execution_count": 60,
   "id": "131d9349",
   "metadata": {},
   "outputs": [
    {
     "data": {
      "text/plain": []
     },
     "execution_count": 60,
     "metadata": {},
     "output_type": "execute_result"
    }
   ],
   "source": [
    "std::string_view test_sv{\"a b c d e f g\"};"
   ]
  },
  {
   "cell_type": "code",
   "execution_count": 61,
   "id": "d4f4096f",
   "metadata": {},
   "outputs": [
    {
     "name": "stdout",
     "output_type": "stream",
     "text": [
      "a\n",
      "b\n",
      "c\n",
      "d\n",
      "e\n",
      "f\n",
      "g\n"
     ]
    },
    {
     "data": {
      "text/plain": []
     },
     "execution_count": 61,
     "metadata": {},
     "output_type": "execute_result"
    }
   ],
   "source": [
    "for(auto word : test_sv | std::ranges::views::split(' ')){\n",
    "    for(auto ch : word){\n",
    "        std::cout << ch;\n",
    "    }\n",
    "    std::cout << std::endl;\n",
    "}"
   ]
  },
  {
   "cell_type": "code",
   "execution_count": 62,
   "id": "d52fe5e3",
   "metadata": {},
   "outputs": [
    {
     "name": "stdout",
     "output_type": "stream",
     "text": [
      "5\n",
      "4\n",
      "3\n",
      "2\n",
      "1\n",
      "0\n"
     ]
    },
    {
     "data": {
      "text/plain": []
     },
     "execution_count": 62,
     "metadata": {},
     "output_type": "execute_result"
    }
   ],
   "source": [
    "for(auto i : ints | std::ranges::views::reverse){\n",
    "    std::cout << i << std::endl;\n",
    "}"
   ]
  },
  {
   "cell_type": "code",
   "execution_count": 63,
   "id": "474fd5f9",
   "metadata": {},
   "outputs": [
    {
     "data": {
      "text/plain": []
     },
     "execution_count": 63,
     "metadata": {},
     "output_type": "execute_result"
    }
   ],
   "source": [
    "std::map<std::string, double> prices{\n",
    "    {\"apple\", 1.0},\n",
    "    {\"banana\", 0.5},\n",
    "}"
   ]
  },
  {
   "cell_type": "code",
   "execution_count": 64,
   "id": "b2453065",
   "metadata": {},
   "outputs": [
    {
     "name": "stdout",
     "output_type": "stream",
     "text": [
      "apple\n",
      "banana\n"
     ]
    },
    {
     "data": {
      "text/plain": []
     },
     "execution_count": 64,
     "metadata": {},
     "output_type": "execute_result"
    }
   ],
   "source": [
    "for(const auto& key_viewed : std::ranges::views::keys(prices)){\n",
    "    std::cout << key_viewed << std::endl;\n",
    "}"
   ]
  },
  {
   "cell_type": "markdown",
   "id": "19b3cc82",
   "metadata": {},
   "source": [
    "elements"
   ]
  },
  {
   "cell_type": "code",
   "execution_count": 65,
   "id": "82958897",
   "metadata": {},
   "outputs": [
    {
     "name": "stdout",
     "output_type": "stream",
     "text": [
      "apple\n",
      "banana\n"
     ]
    },
    {
     "data": {
      "text/plain": []
     },
     "execution_count": 65,
     "metadata": {},
     "output_type": "execute_result"
    }
   ],
   "source": [
    "for(auto && name : prices | std::ranges::views::elements<0>){\n",
    "    std::cout << name << std::endl;\n",
    "}"
   ]
  },
  {
   "cell_type": "code",
   "execution_count": 66,
   "id": "b376a002",
   "metadata": {},
   "outputs": [
    {
     "name": "stdout",
     "output_type": "stream",
     "text": [
      "1\n",
      "0.5\n"
     ]
    },
    {
     "data": {
      "text/plain": []
     },
     "execution_count": 66,
     "metadata": {},
     "output_type": "execute_result"
    }
   ],
   "source": [
    "for(auto && price : prices | std::ranges::views::elements<1>){\n",
    "    std::cout << price << std::endl;\n",
    "}"
   ]
  },
  {
   "cell_type": "markdown",
   "id": "0cda9058",
   "metadata": {},
   "source": [
    "## 7.6 others"
   ]
  },
  {
   "cell_type": "code",
   "execution_count": 67,
   "id": "e87afc32",
   "metadata": {},
   "outputs": [
    {
     "data": {
      "text/plain": []
     },
     "execution_count": 67,
     "metadata": {},
     "output_type": "execute_result"
    }
   ],
   "source": [
    "template<std::ranges::range R>\n",
    "using iter_concept = typename std::ranges::iterator_t<R>;"
   ]
  },
  {
   "cell_type": "code",
   "execution_count": 68,
   "id": "306d32b3",
   "metadata": {},
   "outputs": [
    {
     "data": {
      "text/plain": [
       "(bool) false\n"
      ]
     },
     "execution_count": 68,
     "metadata": {},
     "output_type": "execute_result"
    }
   ],
   "source": [
    "std::same_as<iter_concept<std::vector<int>>, std::contiguous_iterator_tag>"
   ]
  },
  {
   "cell_type": "code",
   "execution_count": 69,
   "id": "083aeb94",
   "metadata": {},
   "outputs": [
    {
     "data": {
      "text/plain": [
       "(bool) true\n"
      ]
     },
     "execution_count": 69,
     "metadata": {},
     "output_type": "execute_result"
    }
   ],
   "source": [
    "std::same_as<iter_concept<std::vector<int>>::iterator_concept, std::contiguous_iterator_tag>"
   ]
  },
  {
   "cell_type": "code",
   "execution_count": 70,
   "id": "099053e2",
   "metadata": {},
   "outputs": [
    {
     "data": {
      "text/plain": []
     },
     "execution_count": 70,
     "metadata": {},
     "output_type": "execute_result"
    }
   ],
   "source": [
    "auto it = std::ranges::find(ints, 3)"
   ]
  },
  {
   "cell_type": "code",
   "execution_count": 71,
   "id": "39d97a78",
   "metadata": {},
   "outputs": [
    {
     "data": {
      "text/plain": [
       "(borrowed_iterator_t<const std::initializer_list<int> &>) @0x7fd181ffa030\n"
      ]
     },
     "execution_count": 71,
     "metadata": {},
     "output_type": "execute_result"
    }
   ],
   "source": [
    "it"
   ]
  },
  {
   "cell_type": "code",
   "execution_count": 72,
   "id": "e7d0f025",
   "metadata": {},
   "outputs": [
    {
     "data": {
      "text/plain": [
       "(const int) 3\n"
      ]
     },
     "execution_count": 72,
     "metadata": {},
     "output_type": "execute_result"
    }
   ],
   "source": [
    "*it"
   ]
  },
  {
   "cell_type": "code",
   "execution_count": 73,
   "id": "b316881b",
   "metadata": {},
   "outputs": [
    {
     "data": {
      "text/plain": []
     },
     "execution_count": 73,
     "metadata": {},
     "output_type": "execute_result"
    }
   ],
   "source": [
    "std::vector<int> generate_vector(){\n",
    "    return {1,2,3,4};\n",
    "}"
   ]
  },
  {
   "cell_type": "code",
   "execution_count": 74,
   "id": "58936855",
   "metadata": {},
   "outputs": [
    {
     "data": {
      "text/plain": []
     },
     "execution_count": 74,
     "metadata": {},
     "output_type": "execute_result"
    }
   ],
   "source": [
    "auto it_dangling = std::ranges::find(generate_vector(), 3);"
   ]
  },
  {
   "cell_type": "code",
   "execution_count": 75,
   "id": "c2d06945",
   "metadata": {},
   "outputs": [
    {
     "data": {
      "text/plain": [
       "(std::ranges::borrowed_iterator_t<std::vector<int, std::allocator<int> > > &) @0x7fd1900ad000\n"
      ]
     },
     "execution_count": 75,
     "metadata": {},
     "output_type": "execute_result"
    }
   ],
   "source": [
    "it_dangling"
   ]
  },
  {
   "cell_type": "code",
   "execution_count": 76,
   "id": "f447a8ee",
   "metadata": {},
   "outputs": [
    {
     "data": {
      "text/plain": []
     },
     "execution_count": 76,
     "metadata": {},
     "output_type": "execute_result"
    }
   ],
   "source": [
    "// compile error: indirection requires pointer operand\n",
    "// *it_dangling"
   ]
  },
  {
   "cell_type": "code",
   "execution_count": 77,
   "id": "6f3489d1",
   "metadata": {},
   "outputs": [
    {
     "data": {
      "text/plain": []
     },
     "execution_count": 77,
     "metadata": {},
     "output_type": "execute_result"
    }
   ],
   "source": [
    "struct Point{\n",
    "    int x;\n",
    "    int y;\n",
    "    int GetDistance() const{\n",
    "        return std::abs(x) + std::abs(y);\n",
    "    }\n",
    "};"
   ]
  },
  {
   "cell_type": "code",
   "execution_count": 78,
   "id": "07063154",
   "metadata": {},
   "outputs": [
    {
     "data": {
      "text/plain": []
     },
     "execution_count": 78,
     "metadata": {},
     "output_type": "execute_result"
    }
   ],
   "source": [
    "std::vector<Point> points{\n",
    "    {1,2},\n",
    "    {2,3},\n",
    "    {0,0},\n",
    "    {1,1}\n",
    "}"
   ]
  },
  {
   "cell_type": "code",
   "execution_count": 79,
   "id": "0242d9c0",
   "metadata": {},
   "outputs": [
    {
     "data": {
      "text/plain": [
       "(__gnu_cxx::borrowed_iterator_t<vector<Point, allocator<Point> > &>) @0x7fd16389da40\n"
      ]
     },
     "execution_count": 79,
     "metadata": {},
     "output_type": "execute_result"
    }
   ],
   "source": [
    "std::ranges::sort(points, std::ranges::less{}, &Point::x);"
   ]
  },
  {
   "cell_type": "code",
   "execution_count": 80,
   "id": "9077537b",
   "metadata": {},
   "outputs": [
    {
     "name": "stdout",
     "output_type": "stream",
     "text": [
      "0 0\n",
      "1 2\n",
      "1 1\n",
      "2 3\n"
     ]
    },
    {
     "data": {
      "text/plain": []
     },
     "execution_count": 80,
     "metadata": {},
     "output_type": "execute_result"
    }
   ],
   "source": [
    "for(auto && p: points){\n",
    "    std::cout << p.x << ' ' << p.y << std::endl; \n",
    "}"
   ]
  },
  {
   "cell_type": "code",
   "execution_count": 81,
   "id": "1359f207",
   "metadata": {},
   "outputs": [
    {
     "data": {
      "text/plain": []
     },
     "execution_count": 81,
     "metadata": {},
     "output_type": "execute_result"
    }
   ],
   "source": [
    "auto it_distance = std::ranges::find(points, 5, &Point::GetDistance)"
   ]
  },
  {
   "cell_type": "code",
   "execution_count": 82,
   "id": "bab5aec8",
   "metadata": {},
   "outputs": [
    {
     "data": {
      "text/plain": [
       "(int) 2\n"
      ]
     },
     "execution_count": 82,
     "metadata": {},
     "output_type": "execute_result"
    }
   ],
   "source": [
    "it_distance->x"
   ]
  },
  {
   "cell_type": "code",
   "execution_count": 83,
   "id": "f8879972",
   "metadata": {},
   "outputs": [
    {
     "data": {
      "text/plain": [
       "(int) 3\n"
      ]
     },
     "execution_count": 83,
     "metadata": {},
     "output_type": "execute_result"
    }
   ],
   "source": [
    "it_distance->y"
   ]
  },
  {
   "cell_type": "markdown",
   "id": "de71910c",
   "metadata": {},
   "source": [
    "## 7.7 Applications"
   ]
  },
  {
   "cell_type": "markdown",
   "id": "c29b1207",
   "metadata": {},
   "source": []
  },
  {
   "cell_type": "code",
   "execution_count": null,
   "id": "b3667533",
   "metadata": {},
   "outputs": [],
   "source": []
  },
  {
   "cell_type": "code",
   "execution_count": null,
   "id": "68d00867",
   "metadata": {},
   "outputs": [],
   "source": []
  },
  {
   "cell_type": "code",
   "execution_count": null,
   "id": "fea359d6",
   "metadata": {},
   "outputs": [],
   "source": []
  }
 ],
 "metadata": {
  "kernelspec": {
   "display_name": "C++20",
   "language": "C++",
   "name": "cling-cpp20"
  },
  "language_info": {
   "codemirror_mode": "c++",
   "file_extension": ".c++",
   "mimetype": "text/x-c++src",
   "name": "c++"
  }
 },
 "nbformat": 4,
 "nbformat_minor": 5
}
