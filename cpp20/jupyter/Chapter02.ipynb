{
 "cells": [
  {
   "cell_type": "code",
   "execution_count": 1,
   "id": "ac0c4b02",
   "metadata": {},
   "outputs": [
    {
     "data": {
      "text/plain": []
     },
     "execution_count": 1,
     "metadata": {},
     "output_type": "execute_result"
    }
   ],
   "source": [
    "#include <iostream>\n",
    "#include <span>\n",
    "#include <vector>\n",
    "#include <array>\n",
    "#include <numeric>\n",
    "#include <type_traits>\n",
    "#include <cmath>\n",
    "#include <memory>\n",
    "#include <stdio.h> "
   ]
  },
  {
   "cell_type": "code",
   "execution_count": 2,
   "id": "482f5e53",
   "metadata": {},
   "outputs": [
    {
     "data": {
      "text/plain": []
     },
     "execution_count": 2,
     "metadata": {},
     "output_type": "execute_result"
    }
   ],
   "source": [
    "template<typename T>\n",
    "constexpr std::string_view type_name() {\n",
    "    std::string_view name, prefix, suffix;\n",
    "#ifdef __clang__\n",
    "    name = __PRETTY_FUNCTION__;\n",
    "    prefix = \"std::string_view type_name() [T = \";\n",
    "    suffix = \"]\";\n",
    "#elif defined(__GNUC__)\n",
    "    name = __PRETTY_FUNCTION__;\n",
    "    prefix = \"constexpr std::string_view type_name() [with T = \";\n",
    "    suffix = \"; std::string_view = std::basic_string_view<char>]\";\n",
    "#elif defined(_MSC_VER)\n",
    "    name = __FUNCSIG__;\n",
    "    prefix = \"class std::basic_string_view<char,struct std::char_traits<char> > __cdecl type_name<\";\n",
    "    suffix = \">(void)\";\n",
    "#endif\n",
    "    name.remove_prefix(prefix.size());\n",
    "    name.remove_suffix(suffix.size());\n",
    "    return name;\n",
    "}"
   ]
  },
  {
   "cell_type": "markdown",
   "id": "df937840",
   "metadata": {},
   "source": [
    "## 2.1.5 SFINAE"
   ]
  },
  {
   "cell_type": "code",
   "execution_count": 3,
   "id": "50d8bd8a",
   "metadata": {},
   "outputs": [
    {
     "data": {
      "text/plain": []
     },
     "execution_count": 3,
     "metadata": {},
     "output_type": "execute_result"
    }
   ],
   "source": [
    "template<typename T> T declval_(long);\n",
    "template<typename T, typename U=T&&> U declval_(int);"
   ]
  },
  {
   "cell_type": "code",
   "execution_count": 4,
   "id": "5c1b2684",
   "metadata": {},
   "outputs": [
    {
     "data": {
      "text/plain": []
     },
     "execution_count": 4,
     "metadata": {},
     "output_type": "execute_result"
    }
   ],
   "source": [
    "template<typename T> auto declval() -> decltype(declval_<T>(0)){\n",
    "    static_assert(\"Cannot be used in evaluation expression\");\n",
    "    return declval_<T>(0);\n",
    "}"
   ]
  },
  {
   "cell_type": "markdown",
   "id": "9f5cff78",
   "metadata": {},
   "source": [
    "## 2.2.1 Fibonacci"
   ]
  },
  {
   "cell_type": "code",
   "execution_count": 5,
   "id": "3c53af79",
   "metadata": {},
   "outputs": [
    {
     "data": {
      "text/plain": []
     },
     "execution_count": 5,
     "metadata": {},
     "output_type": "execute_result"
    }
   ],
   "source": [
    "template<size_t N> constexpr size_t Fibonacci = Fibonacci<N-1> + Fibonacci<N-2>;\n",
    "template<> constexpr size_t Fibonacci<0> = 0;\n",
    "template<> constexpr size_t Fibonacci<1> = 1;"
   ]
  },
  {
   "cell_type": "code",
   "execution_count": 6,
   "id": "ab53afbe",
   "metadata": {},
   "outputs": [
    {
     "name": "stdout",
     "output_type": "stream",
     "text": [
      "Fibonacci<10> is 55\n",
      "Fibonacci<2> is 1\n"
     ]
    },
    {
     "data": {
      "text/plain": [
       "(std::basic_ostream<char, std::char_traits<char> >::__ostream_type &) @0x7fa7ad217500\n"
      ]
     },
     "execution_count": 6,
     "metadata": {},
     "output_type": "execute_result"
    }
   ],
   "source": [
    "std::cout << \"Fibonacci<10> is \" << Fibonacci<10> << std::endl;\n",
    "std::cout << \"Fibonacci<2> is \" << Fibonacci<2> << std::endl;"
   ]
  },
  {
   "cell_type": "code",
   "execution_count": 7,
   "id": "7aa644ba",
   "metadata": {},
   "outputs": [
    {
     "data": {
      "text/plain": []
     },
     "execution_count": 7,
     "metadata": {},
     "output_type": "execute_result"
    }
   ],
   "source": [
    "template<size_t N> constexpr double golden_ratio = Fibonacci<N+1> * 1.0 / Fibonacci<N>;"
   ]
  },
  {
   "cell_type": "code",
   "execution_count": 8,
   "id": "4800c541",
   "metadata": {},
   "outputs": [
    {
     "name": "stdout",
     "output_type": "stream",
     "text": [
      "1.6180339985218033\n",
      "1.6180339887498949\n"
     ]
    },
    {
     "data": {
      "text/plain": [
       "(std::basic_ostream<char, std::char_traits<char> >::__ostream_type &) @0x7fa7ad217500\n"
      ]
     },
     "execution_count": 8,
     "metadata": {},
     "output_type": "execute_result"
    }
   ],
   "source": [
    "std::cout.precision(std::numeric_limits<double>::max_digits10);\n",
    "std::cout << golden_ratio<20> << std::endl;\n",
    "std::cout << golden_ratio<50> << std::endl;"
   ]
  },
  {
   "cell_type": "markdown",
   "id": "52f2c81f",
   "metadata": {},
   "source": [
    "## 2.2.2 Type Traits"
   ]
  },
  {
   "cell_type": "code",
   "execution_count": 9,
   "id": "94b1ebe5",
   "metadata": {},
   "outputs": [
    {
     "data": {
      "text/plain": []
     },
     "execution_count": 9,
     "metadata": {},
     "output_type": "execute_result"
    }
   ],
   "source": [
    "void PrintArrayLike(std::span<int> container){\n",
    "    std::cout << \"size: \" << container.size() << std::endl;\n",
    "    for(auto elem : container){\n",
    "        std::cout << elem << std::endl;\n",
    "    }\n",
    "}"
   ]
  },
  {
   "cell_type": "code",
   "execution_count": 10,
   "id": "a08ab907",
   "metadata": {},
   "outputs": [
    {
     "data": {
      "text/plain": []
     },
     "execution_count": 10,
     "metadata": {},
     "output_type": "execute_result"
    }
   ],
   "source": [
    "std::array arr{1,2,3,4};\n",
    "std::vector v{1,2,3};"
   ]
  },
  {
   "cell_type": "code",
   "execution_count": 11,
   "id": "b7e485e4",
   "metadata": {},
   "outputs": [
    {
     "name": "stdout",
     "output_type": "stream",
     "text": [
      "size: 4\n",
      "1\n",
      "2\n",
      "3\n",
      "4\n"
     ]
    },
    {
     "data": {
      "text/plain": [
       "(void) nullptr\n"
      ]
     },
     "execution_count": 11,
     "metadata": {},
     "output_type": "execute_result"
    }
   ],
   "source": [
    "PrintArrayLike(arr);"
   ]
  },
  {
   "cell_type": "code",
   "execution_count": 12,
   "id": "8f2da248",
   "metadata": {},
   "outputs": [
    {
     "name": "stdout",
     "output_type": "stream",
     "text": [
      "size: 3\n",
      "1\n",
      "2\n",
      "3\n"
     ]
    },
    {
     "data": {
      "text/plain": [
       "(void) nullptr\n"
      ]
     },
     "execution_count": 12,
     "metadata": {},
     "output_type": "execute_result"
    }
   ],
   "source": [
    "PrintArrayLike(v);"
   ]
  },
  {
   "cell_type": "code",
   "execution_count": 13,
   "id": "3c555f11",
   "metadata": {},
   "outputs": [
    {
     "data": {
      "text/plain": []
     },
     "execution_count": 13,
     "metadata": {},
     "output_type": "execute_result"
    }
   ],
   "source": [
    "using cint = const int;"
   ]
  },
  {
   "cell_type": "code",
   "execution_count": 14,
   "id": "ee15871b",
   "metadata": {},
   "outputs": [
    {
     "name": "stdout",
     "output_type": "stream",
     "text": [
      "const int\n"
     ]
    },
    {
     "data": {
      "text/plain": [
       "(std::basic_ostream<char, std::char_traits<char> >::__ostream_type &) @0x7fa7ad217500\n"
      ]
     },
     "execution_count": 14,
     "metadata": {},
     "output_type": "execute_result"
    }
   ],
   "source": [
    "std::cout << type_name<cint>() << std::endl;"
   ]
  },
  {
   "cell_type": "code",
   "execution_count": 15,
   "id": "6233d106",
   "metadata": {},
   "outputs": [
    {
     "name": "stdout",
     "output_type": "stream",
     "text": [
      "std::vector<double>\n"
     ]
    },
    {
     "data": {
      "text/plain": [
       "(std::basic_ostream<char, std::char_traits<char> >::__ostream_type &) @0x7fa7ad217500\n"
      ]
     },
     "execution_count": 15,
     "metadata": {},
     "output_type": "execute_result"
    }
   ],
   "source": [
    "using dvector = std::vector<double>;\n",
    "std::cout << type_name<dvector>() << std::endl;"
   ]
  },
  {
   "cell_type": "markdown",
   "id": "ce947741",
   "metadata": {},
   "source": [
    "## 2.2.3 辅助类"
   ]
  },
  {
   "cell_type": "code",
   "execution_count": null,
   "id": "2344a9c4",
   "metadata": {},
   "outputs": [],
   "source": []
  },
  {
   "cell_type": "code",
   "execution_count": 16,
   "id": "920f1320",
   "metadata": {},
   "outputs": [
    {
     "data": {
      "text/plain": []
     },
     "execution_count": 16,
     "metadata": {},
     "output_type": "execute_result"
    }
   ],
   "source": [
    "using TWO = std::integral_constant<int, 2>;\n",
    "using FOUR = std::integral_constant<int, 4>;"
   ]
  },
  {
   "cell_type": "code",
   "execution_count": 17,
   "id": "6f3fd534",
   "metadata": {},
   "outputs": [
    {
     "name": "stdout",
     "output_type": "stream",
     "text": [
      "int\n"
     ]
    },
    {
     "data": {
      "text/plain": [
       "(std::basic_ostream<char, std::char_traits<char> >::__ostream_type &) @0x7fa7ad217500\n"
      ]
     },
     "execution_count": 17,
     "metadata": {},
     "output_type": "execute_result"
    }
   ],
   "source": [
    "std::cout << type_name<TWO::value_type>() << std::endl;"
   ]
  },
  {
   "cell_type": "code",
   "execution_count": 18,
   "id": "7f31232f",
   "metadata": {},
   "outputs": [
    {
     "name": "stdout",
     "output_type": "stream",
     "text": [
      "2\n",
      "2\n"
     ]
    },
    {
     "data": {
      "text/plain": [
       "(std::basic_ostream<char, std::char_traits<char> >::__ostream_type &) @0x7fa7ad217500\n"
      ]
     },
     "execution_count": 18,
     "metadata": {},
     "output_type": "execute_result"
    }
   ],
   "source": [
    "std::cout << std::integral_constant<int, 2>::value << std::endl;\n",
    "std::cout << TWO::value << std::endl;"
   ]
  },
  {
   "cell_type": "code",
   "execution_count": 19,
   "id": "aa42176b",
   "metadata": {},
   "outputs": [
    {
     "name": "stdout",
     "output_type": "stream",
     "text": [
      "TWO::value is 2\n"
     ]
    },
    {
     "data": {
      "text/plain": [
       "(std::basic_ostream<char, std::char_traits<char> >::__ostream_type &) @0x7fa7ad217500\n"
      ]
     },
     "execution_count": 19,
     "metadata": {},
     "output_type": "execute_result"
    }
   ],
   "source": [
    "static_assert(TWO::value * TWO::value == FOUR::value);\n",
    "std::cout << \"TWO::value is \" << TWO::value << std::endl;"
   ]
  },
  {
   "cell_type": "code",
   "execution_count": 20,
   "id": "6fb4c0e4",
   "metadata": {},
   "outputs": [
    {
     "data": {
      "text/plain": []
     },
     "execution_count": 20,
     "metadata": {},
     "output_type": "execute_result"
    }
   ],
   "source": [
    "static_assert(not std::is_same<TWO, FOUR>::value,\n",
    "                  \"TWO and FOUR are equal!\");"
   ]
  },
  {
   "cell_type": "markdown",
   "id": "5334552f",
   "metadata": {},
   "source": [
    "## 2.2.4 Empty Base Class Optimization"
   ]
  },
  {
   "cell_type": "code",
   "execution_count": 21,
   "id": "caf2bf56",
   "metadata": {},
   "outputs": [
    {
     "data": {
      "text/plain": []
     },
     "execution_count": 21,
     "metadata": {},
     "output_type": "execute_result"
    }
   ],
   "source": [
    "struct Base0{};\n"
   ]
  },
  {
   "cell_type": "code",
   "execution_count": 22,
   "id": "b1e61707",
   "metadata": {},
   "outputs": [
    {
     "name": "stdout",
     "output_type": "stream",
     "text": [
      "size of Base0: 1\n"
     ]
    },
    {
     "data": {
      "text/plain": [
       "(std::basic_ostream<char, std::char_traits<char> >::__ostream_type &) @0x7fa7ad217500\n"
      ]
     },
     "execution_count": 22,
     "metadata": {},
     "output_type": "execute_result"
    }
   ],
   "source": [
    "std::cout << \"size of Base0: \" << sizeof(Base0) << std::endl;"
   ]
  },
  {
   "cell_type": "code",
   "execution_count": 23,
   "id": "264b236a",
   "metadata": {},
   "outputs": [
    {
     "data": {
      "text/plain": []
     },
     "execution_count": 23,
     "metadata": {},
     "output_type": "execute_result"
    }
   ],
   "source": [
    "struct Children0{\n",
    "    Base0 base;\n",
    "    int dummy;\n",
    "};"
   ]
  },
  {
   "cell_type": "code",
   "execution_count": 24,
   "id": "ae14de25",
   "metadata": {},
   "outputs": [
    {
     "name": "stdout",
     "output_type": "stream",
     "text": [
      "size of Children0: 8\n"
     ]
    },
    {
     "data": {
      "text/plain": [
       "(std::basic_ostream<char, std::char_traits<char> >::__ostream_type &) @0x7fa7ad217500\n"
      ]
     },
     "execution_count": 24,
     "metadata": {},
     "output_type": "execute_result"
    }
   ],
   "source": [
    "std::cout << \"size of Children0: \" << sizeof(Children0) << std::endl;"
   ]
  },
  {
   "cell_type": "code",
   "execution_count": 25,
   "id": "6f7c2d90",
   "metadata": {},
   "outputs": [
    {
     "data": {
      "text/plain": []
     },
     "execution_count": 25,
     "metadata": {},
     "output_type": "execute_result"
    }
   ],
   "source": [
    "struct Children1 : Base0{\n",
    "    int dummy;\n",
    "};"
   ]
  },
  {
   "cell_type": "code",
   "execution_count": 26,
   "id": "f949b3f0",
   "metadata": {},
   "outputs": [
    {
     "name": "stdout",
     "output_type": "stream",
     "text": [
      "size of Children1: 4\n"
     ]
    },
    {
     "data": {
      "text/plain": [
       "(std::basic_ostream<char, std::char_traits<char> >::__ostream_type &) @0x7fa7ad217500\n"
      ]
     },
     "execution_count": 26,
     "metadata": {},
     "output_type": "execute_result"
    }
   ],
   "source": [
    "std::cout << \"size of Children1: \" << sizeof(Children1) << std::endl;"
   ]
  },
  {
   "cell_type": "code",
   "execution_count": 27,
   "id": "566f5117",
   "metadata": {},
   "outputs": [
    {
     "data": {
      "text/plain": []
     },
     "execution_count": 27,
     "metadata": {},
     "output_type": "execute_result"
    }
   ],
   "source": [
    "struct Children2{\n",
    "    [[no_unique_address]] Base0 base;\n",
    "    int dummy;\n",
    "};"
   ]
  },
  {
   "cell_type": "code",
   "execution_count": 28,
   "id": "b60d94a1",
   "metadata": {},
   "outputs": [
    {
     "name": "stdout",
     "output_type": "stream",
     "text": [
      "size of Children2: 4\n"
     ]
    },
    {
     "data": {
      "text/plain": [
       "(std::basic_ostream<char, std::char_traits<char> >::__ostream_type &) @0x7fa7ad217500\n"
      ]
     },
     "execution_count": 28,
     "metadata": {},
     "output_type": "execute_result"
    }
   ],
   "source": [
    "std::cout << \"size of Children2: \" << sizeof(Children2) << std::endl;"
   ]
  },
  {
   "cell_type": "markdown",
   "id": "e8d9a93f",
   "metadata": {},
   "source": [
    "## 2.2.5 Implementing Type Traits"
   ]
  },
  {
   "cell_type": "code",
   "execution_count": 29,
   "id": "a6f5977a",
   "metadata": {},
   "outputs": [
    {
     "data": {
      "text/plain": []
     },
     "execution_count": 29,
     "metadata": {},
     "output_type": "execute_result"
    }
   ],
   "source": [
    "template<typename T> \n",
    "struct remove_const {using type = T; };\n",
    "template<typename T>\n",
    "struct remove_const<const T> {using type = T;};\n",
    "\n",
    "template<typename T>\n",
    "using remove_const_t = remove_const<T>::type;"
   ]
  },
  {
   "cell_type": "code",
   "execution_count": 30,
   "id": "d26e3c4e",
   "metadata": {},
   "outputs": [
    {
     "name": "stdout",
     "output_type": "stream",
     "text": [
      "double\n",
      "double\n"
     ]
    },
    {
     "data": {
      "text/plain": [
       "(std::basic_ostream<char, std::char_traits<char> >::__ostream_type &) @0x7fa7ad217500\n"
      ]
     },
     "execution_count": 30,
     "metadata": {},
     "output_type": "execute_result"
    }
   ],
   "source": [
    "std::cout << type_name<remove_const_t<double>>() << std::endl;\n",
    "std::cout << type_name<remove_const_t<const double>>() << std::endl;"
   ]
  },
  {
   "cell_type": "markdown",
   "id": "c5d26c5f",
   "metadata": {},
   "source": [
    "## 2.2.6 Type Reflection"
   ]
  },
  {
   "cell_type": "code",
   "execution_count": 31,
   "id": "6411bcf1",
   "metadata": {},
   "outputs": [
    {
     "data": {
      "text/plain": []
     },
     "execution_count": 31,
     "metadata": {},
     "output_type": "execute_result"
    }
   ],
   "source": [
    "template<typename F> struct function_trait;\n",
    "template<typename Ret, typename...Args> \n",
    "struct function_trait<Ret(Args...)> {\n",
    "    using result_type = Ret;\n",
    "    using args_type = std::tuple<Args...>;\n",
    "    static constexpr size_t num_of_args = sizeof...(Args);\n",
    "    template<size_t I> using arg = std::tuple_element_t<I, args_type>;\n",
    "};"
   ]
  },
  {
   "cell_type": "code",
   "execution_count": 32,
   "id": "cfd2ec5e",
   "metadata": {},
   "outputs": [
    {
     "data": {
      "text/plain": []
     },
     "execution_count": 32,
     "metadata": {},
     "output_type": "execute_result"
    }
   ],
   "source": [
    "using test_result_type = function_trait<decltype(PrintArrayLike)>::result_type;\n",
    "using test_arg_type = function_trait<decltype(PrintArrayLike)>::arg<0>;\n",
    "constexpr size_t test_n_args = function_trait<decltype(PrintArrayLike)>::num_of_args;"
   ]
  },
  {
   "cell_type": "code",
   "execution_count": 33,
   "id": "b9af3876",
   "metadata": {},
   "outputs": [
    {
     "name": "stdout",
     "output_type": "stream",
     "text": [
      "void\n",
      "std::span<int>\n",
      "number of args: 1\n"
     ]
    },
    {
     "data": {
      "text/plain": [
       "(std::basic_ostream<char, std::char_traits<char> >::__ostream_type &) @0x7fa7ad217500\n"
      ]
     },
     "execution_count": 33,
     "metadata": {},
     "output_type": "execute_result"
    }
   ],
   "source": [
    "std::cout << type_name<test_result_type>() << std::endl;\n",
    "std::cout << type_name<test_arg_type>() << std::endl;\n",
    "std::cout << \"number of args: \" << test_n_args << std::endl;"
   ]
  },
  {
   "cell_type": "markdown",
   "id": "6d45ddca",
   "metadata": {},
   "source": [
    "## 2.2.7 enable_if "
   ]
  },
  {
   "cell_type": "code",
   "execution_count": 34,
   "id": "c738a883",
   "metadata": {},
   "outputs": [
    {
     "data": {
      "text/plain": []
     },
     "execution_count": 34,
     "metadata": {},
     "output_type": "execute_result"
    }
   ],
   "source": [
    "template<bool, typename=void>\n",
    "struct enable_if{};\n",
    "\n",
    "template<typename T>  \n",
    "struct enable_if<true, T> {\n",
    "    using type = T;\n",
    "};\n",
    "\n",
    "template<bool B, typename T=void> \n",
    "using enable_if_t = typename enable_if<B, T>::type;"
   ]
  },
  {
   "cell_type": "code",
   "execution_count": 35,
   "id": "dead10dc",
   "metadata": {},
   "outputs": [
    {
     "data": {
      "text/plain": []
     },
     "execution_count": 35,
     "metadata": {},
     "output_type": "execute_result"
    }
   ],
   "source": [
    "template<typename T, enable_if_t<std::is_integral_v<T>>* = nullptr>\n",
    "bool numEqual(const T& lhs, const T& rhs){\n",
    "    std::cout << \"comparing using == \" << std::endl;\n",
    "    return lhs == rhs;\n",
    "}\n",
    "\n",
    "template<typename T, enable_if_t<std::is_floating_point_v<T>>* = nullptr>\n",
    "bool numEqual(const T& lhs, const T& rhs){\n",
    "    std::cout << \"comparing floating points\" << std::endl;\n",
    "    return std::fabs(lhs - rhs) < std::numeric_limits<T>::epsilon();\n",
    "};"
   ]
  },
  {
   "cell_type": "code",
   "execution_count": 36,
   "id": "e0d45384",
   "metadata": {},
   "outputs": [
    {
     "name": "stdout",
     "output_type": "stream",
     "text": [
      "comparing using == \n"
     ]
    },
    {
     "data": {
      "text/plain": [
       "(bool) true\n"
      ]
     },
     "execution_count": 36,
     "metadata": {},
     "output_type": "execute_result"
    }
   ],
   "source": [
    "numEqual(1,1);"
   ]
  },
  {
   "cell_type": "code",
   "execution_count": 37,
   "id": "7f6df557",
   "metadata": {},
   "outputs": [
    {
     "name": "stdout",
     "output_type": "stream",
     "text": [
      "comparing floating points\n"
     ]
    },
    {
     "data": {
      "text/plain": [
       "(bool) true\n"
      ]
     },
     "execution_count": 37,
     "metadata": {},
     "output_type": "execute_result"
    }
   ],
   "source": [
    "numEqual(1.0, 1.0);"
   ]
  },
  {
   "cell_type": "markdown",
   "id": "f5532f40",
   "metadata": {},
   "source": [
    "## 2.2.8 tag dispatching"
   ]
  },
  {
   "cell_type": "code",
   "execution_count": 38,
   "id": "f849e425",
   "metadata": {},
   "outputs": [
    {
     "data": {
      "text/plain": []
     },
     "execution_count": 38,
     "metadata": {},
     "output_type": "execute_result"
    }
   ],
   "source": [
    "template<typename T> \n",
    "bool numEqualImpl(const T& lhs, const T& rhs, std::true_type){\n",
    "    std::cout << \"numEqualImpl from true_type tag\" << std::endl;\n",
    "    return std::fabs(lhs - rhs) < std::numeric_limits<T>::epsilon();\n",
    "}\n",
    "\n",
    "template<typename T>\n",
    "bool numEqualImpl(const T& lhs, const T& rhs, std::false_type){\n",
    "    std::cout << \"numEqualImpl from false_type tag\" << std::endl;\n",
    "    return lhs == rhs;\n",
    "}"
   ]
  },
  {
   "cell_type": "code",
   "execution_count": 39,
   "id": "88e15a09",
   "metadata": {},
   "outputs": [
    {
     "data": {
      "text/plain": []
     },
     "execution_count": 39,
     "metadata": {},
     "output_type": "execute_result"
    }
   ],
   "source": [
    "template<typename T> \n",
    "bool numEqualDispatch(const T& lhs, const T& rhs){\n",
    "    return numEqualImpl(lhs, rhs, std::is_floating_point<T>{});\n",
    "}"
   ]
  },
  {
   "cell_type": "code",
   "execution_count": 40,
   "id": "bf2128d7",
   "metadata": {},
   "outputs": [
    {
     "name": "stdout",
     "output_type": "stream",
     "text": [
      "numEqualImpl from true_type tag\n"
     ]
    },
    {
     "data": {
      "text/plain": [
       "(bool) false\n"
      ]
     },
     "execution_count": 40,
     "metadata": {},
     "output_type": "execute_result"
    }
   ],
   "source": [
    "numEqualDispatch(1.0, 2.0);"
   ]
  },
  {
   "cell_type": "code",
   "execution_count": 41,
   "id": "2dec0e32",
   "metadata": {},
   "outputs": [
    {
     "name": "stdout",
     "output_type": "stream",
     "text": [
      "numEqualImpl from false_type tag\n"
     ]
    },
    {
     "data": {
      "text/plain": [
       "(bool) false\n"
      ]
     },
     "execution_count": 41,
     "metadata": {},
     "output_type": "execute_result"
    }
   ],
   "source": [
    "numEqualDispatch(1, 2);"
   ]
  },
  {
   "cell_type": "markdown",
   "id": "5330587c",
   "metadata": {},
   "source": [
    "with auto to deduce return type:"
   ]
  },
  {
   "cell_type": "code",
   "execution_count": 42,
   "id": "479cfe7a",
   "metadata": {},
   "outputs": [
    {
     "data": {
      "text/plain": []
     },
     "execution_count": 42,
     "metadata": {},
     "output_type": "execute_result"
    }
   ],
   "source": [
    "template<typename T>\n",
    "auto numEqualDispatch2(const T& lhs, const T& rhs) -> enable_if_t<std::is_arithmetic_v<T>, bool> {\n",
    "    return numEqualImpl(lhs, rhs, std::is_floating_point<T>{});\n",
    "}"
   ]
  },
  {
   "cell_type": "code",
   "execution_count": 43,
   "id": "6a34d498",
   "metadata": {},
   "outputs": [
    {
     "name": "stdout",
     "output_type": "stream",
     "text": [
      "numEqualImpl from true_type tag\n"
     ]
    },
    {
     "data": {
      "text/plain": [
       "(bool) false\n"
      ]
     },
     "execution_count": 43,
     "metadata": {},
     "output_type": "execute_result"
    }
   ],
   "source": [
    "numEqualDispatch2(1.0, 2.0);"
   ]
  },
  {
   "cell_type": "code",
   "execution_count": 44,
   "id": "c00ca00c",
   "metadata": {},
   "outputs": [
    {
     "name": "stdout",
     "output_type": "stream",
     "text": [
      "numEqualImpl from false_type tag\n"
     ]
    },
    {
     "data": {
      "text/plain": [
       "(bool) false\n"
      ]
     },
     "execution_count": 44,
     "metadata": {},
     "output_type": "execute_result"
    }
   ],
   "source": [
    "numEqualDispatch2(1, 2);"
   ]
  },
  {
   "cell_type": "markdown",
   "id": "1c8824ec",
   "metadata": {},
   "source": [
    "## 2.2.9 if constexpr"
   ]
  },
  {
   "cell_type": "code",
   "execution_count": 45,
   "id": "7a7dad00",
   "metadata": {},
   "outputs": [
    {
     "data": {
      "text/plain": []
     },
     "execution_count": 45,
     "metadata": {},
     "output_type": "execute_result"
    }
   ],
   "source": [
    "template<typename T> \n",
    "auto numEqual3(const T& lhs, const T& rhs){\n",
    "    if constexpr(std::is_integral_v<T>){\n",
    "        return lhs == rhs;\n",
    "    }else{\n",
    "        return std::fabs(lhs - rhs) < std::numeric_limits<T>::epsilon();\n",
    "    }\n",
    "}"
   ]
  },
  {
   "cell_type": "code",
   "execution_count": 46,
   "id": "52610d85",
   "metadata": {},
   "outputs": [
    {
     "data": {
      "text/plain": [
       "(bool) false\n"
      ]
     },
     "execution_count": 46,
     "metadata": {},
     "output_type": "execute_result"
    }
   ],
   "source": [
    "numEqual3(1.0, 2.0);"
   ]
  },
  {
   "cell_type": "code",
   "execution_count": 47,
   "id": "bc1115a8",
   "metadata": {},
   "outputs": [
    {
     "data": {
      "text/plain": [
       "(bool) true\n"
      ]
     },
     "execution_count": 47,
     "metadata": {},
     "output_type": "execute_result"
    }
   ],
   "source": [
    "numEqual3(1,1);"
   ]
  },
  {
   "cell_type": "markdown",
   "id": "ce6c67a9",
   "metadata": {},
   "source": [
    "## 2.2.10 void_t "
   ]
  },
  {
   "cell_type": "code",
   "execution_count": 48,
   "id": "8c0e48c5",
   "metadata": {},
   "outputs": [
    {
     "data": {
      "text/plain": []
     },
     "execution_count": 48,
     "metadata": {},
     "output_type": "execute_result"
    }
   ],
   "source": [
    "template<typename...> using void_t = void;"
   ]
  },
  {
   "cell_type": "code",
   "execution_count": 49,
   "id": "036b7fc6",
   "metadata": {},
   "outputs": [
    {
     "data": {
      "text/plain": []
     },
     "execution_count": 49,
     "metadata": {},
     "output_type": "execute_result"
    }
   ],
   "source": [
    "// main template\n",
    "template<typename T, typename = void>\n",
    "struct HasTypeMember : std::false_type{};"
   ]
  },
  {
   "cell_type": "code",
   "execution_count": 50,
   "id": "68cf6607",
   "metadata": {},
   "outputs": [
    {
     "data": {
      "text/plain": []
     },
     "execution_count": 50,
     "metadata": {},
     "output_type": "execute_result"
    }
   ],
   "source": [
    "// partial specialized\n",
    "template<typename T>\n",
    "struct HasTypeMember<T, void_t<typename T::type>> : std::true_type{};"
   ]
  },
  {
   "cell_type": "code",
   "execution_count": 51,
   "id": "1cd052d7",
   "metadata": {},
   "outputs": [
    {
     "data": {
      "text/plain": []
     },
     "execution_count": 51,
     "metadata": {},
     "output_type": "execute_result"
    }
   ],
   "source": [
    "static_assert(not HasTypeMember<int>::value);\n",
    "static_assert(HasTypeMember<std::true_type>::value);"
   ]
  },
  {
   "cell_type": "markdown",
   "id": "0865b5d2",
   "metadata": {},
   "source": [
    "## 2.3.1 CRTP: visitor code reuse "
   ]
  },
  {
   "cell_type": "code",
   "execution_count": 52,
   "id": "de02b505",
   "metadata": {},
   "outputs": [
    {
     "data": {
      "text/plain": []
     },
     "execution_count": 52,
     "metadata": {},
     "output_type": "execute_result"
    }
   ],
   "source": [
    "struct PrintInfoByPrintf;\n",
    "struct PrintInfoByCout;\n",
    "\n",
    "struct Visitor{\n",
    "    virtual void visit(PrintInfoByCout&) = 0;\n",
    "    virtual void visit(PrintInfoByPrintf&) = 0;\n",
    "    virtual ~Visitor() = default;\n",
    "};"
   ]
  },
  {
   "cell_type": "code",
   "execution_count": 53,
   "id": "0b3a337b",
   "metadata": {},
   "outputs": [
    {
     "data": {
      "text/plain": []
     },
     "execution_count": 53,
     "metadata": {},
     "output_type": "execute_result"
    }
   ],
   "source": [
    "struct PrintInfo{\n",
    "    virtual void AcceptInfo(Visitor& visitor) = 0;\n",
    "    virtual ~PrintInfo() = default;\n",
    "};"
   ]
  },
  {
   "cell_type": "code",
   "execution_count": 54,
   "id": "fe08924e",
   "metadata": {},
   "outputs": [
    {
     "data": {
      "text/plain": []
     },
     "execution_count": 54,
     "metadata": {},
     "output_type": "execute_result"
    }
   ],
   "source": [
    "template<typename Derived>\n",
    "struct AutoPrintInfo : PrintInfo{\n",
    "    void AcceptInfo(Visitor& visitor) override{\n",
    "        visitor.visit(static_cast<Derived&>(*this));\n",
    "    }\n",
    "};\n",
    "\n",
    "struct PrintInfoByCout : AutoPrintInfo<PrintInfoByCout>{\n",
    "    void PrintByCout(void){\n",
    "        std::cout << \"PrintByCout called\" << std::endl;\n",
    "    }\n",
    "};\n",
    "\n",
    "struct PrintInfoByPrintf : AutoPrintInfo<PrintInfoByPrintf>{\n",
    "    void PrintByPrintf(void){\n",
    "        printf(\"PrintByPrintf called\\n\");\n",
    "    }\n",
    "};\n",
    "\n",
    "\n",
    "\n",
    "struct PrintVisitor : Visitor{\n",
    "    void visit(PrintInfoByCout& print){\n",
    "        print.PrintByCout();\n",
    "    }\n",
    "    void visit(PrintInfoByPrintf& print){\n",
    "        print.PrintByPrintf();\n",
    "    }\n",
    "};\n"
   ]
  },
  {
   "cell_type": "code",
   "execution_count": 55,
   "id": "29c7886a",
   "metadata": {},
   "outputs": [
    {
     "data": {
      "text/plain": []
     },
     "execution_count": 55,
     "metadata": {},
     "output_type": "execute_result"
    }
   ],
   "source": [
    "PrintVisitor print_visitor;\n",
    "PrintInfoByCout print_cout;\n",
    "PrintInfoByPrintf print_printf;"
   ]
  },
  {
   "cell_type": "code",
   "execution_count": 56,
   "id": "03ce1304",
   "metadata": {},
   "outputs": [
    {
     "name": "stdout",
     "output_type": "stream",
     "text": [
      "PrintByCout called\n"
     ]
    },
    {
     "data": {
      "text/plain": [
       "(void) @0x7fa7997f9030\n"
      ]
     },
     "execution_count": 56,
     "metadata": {},
     "output_type": "execute_result"
    }
   ],
   "source": [
    "print_cout.AcceptInfo(print_visitor);"
   ]
  },
  {
   "cell_type": "code",
   "execution_count": 57,
   "id": "15683351",
   "metadata": {},
   "outputs": [
    {
     "name": "stdout",
     "output_type": "stream",
     "text": [
      "PrintByPrintf called\n"
     ]
    },
    {
     "data": {
      "text/plain": [
       "(void) @0x7fa7997f9030\n"
      ]
     },
     "execution_count": 57,
     "metadata": {},
     "output_type": "execute_result"
    }
   ],
   "source": [
    "print_printf.AcceptInfo(print_visitor);"
   ]
  },
  {
   "cell_type": "code",
   "execution_count": 58,
   "id": "d42b0c5b",
   "metadata": {},
   "outputs": [
    {
     "data": {
      "text/plain": []
     },
     "execution_count": 58,
     "metadata": {},
     "output_type": "execute_result"
    }
   ],
   "source": [
    "struct PrintVisitorWithPrefix : Visitor{\n",
    "    void visit(PrintInfoByCout& print){\n",
    "        std::cout << \"Added some prefix from PrintVisitorWithPrefix\" << std::endl;\n",
    "        print.PrintByCout();\n",
    "    }\n",
    "    void visit(PrintInfoByPrintf& print){\n",
    "        std::cout << \"Added some prefix from PrintVisitorWithPrefix\" << std::endl;\n",
    "        print.PrintByPrintf();\n",
    "    }\n",
    "};"
   ]
  },
  {
   "cell_type": "code",
   "execution_count": 59,
   "id": "c08ad49a",
   "metadata": {},
   "outputs": [
    {
     "data": {
      "text/plain": []
     },
     "execution_count": 59,
     "metadata": {},
     "output_type": "execute_result"
    }
   ],
   "source": [
    "PrintVisitorWithPrefix print_prefix_visitor;"
   ]
  },
  {
   "cell_type": "code",
   "execution_count": 60,
   "id": "9d87d448",
   "metadata": {},
   "outputs": [
    {
     "name": "stdout",
     "output_type": "stream",
     "text": [
      "Added some prefix from PrintVisitorWithPrefix\n",
      "PrintByCout called\n"
     ]
    },
    {
     "data": {
      "text/plain": [
       "(void) @0x7fa7997f9030\n"
      ]
     },
     "execution_count": 60,
     "metadata": {},
     "output_type": "execute_result"
    }
   ],
   "source": [
    "print_cout.AcceptInfo(print_prefix_visitor);"
   ]
  },
  {
   "cell_type": "code",
   "execution_count": 61,
   "id": "fea2285a",
   "metadata": {},
   "outputs": [
    {
     "name": "stdout",
     "output_type": "stream",
     "text": [
      "Added some prefix from PrintVisitorWithPrefix\n",
      "PrintByPrintf called\n"
     ]
    },
    {
     "data": {
      "text/plain": [
       "(void) @0x7fa7997f9030\n"
      ]
     },
     "execution_count": 61,
     "metadata": {},
     "output_type": "execute_result"
    }
   ],
   "source": [
    "print_printf.AcceptInfo(print_prefix_visitor);"
   ]
  },
  {
   "cell_type": "markdown",
   "id": "00ac1b41",
   "metadata": {},
   "source": [
    "## 2.3.2 compilation time polymorphism"
   ]
  },
  {
   "cell_type": "code",
   "execution_count": 62,
   "id": "8fa3b5c3",
   "metadata": {},
   "outputs": [
    {
     "data": {
      "text/plain": []
     },
     "execution_count": 62,
     "metadata": {},
     "output_type": "execute_result"
    }
   ],
   "source": [
    "template <typename Derived> struct Animal {\n",
    "    void bark() {static_cast<Derived&>(*this).barkImpl(); }\n",
    "};"
   ]
  },
  {
   "cell_type": "code",
   "execution_count": 63,
   "id": "5832996b",
   "metadata": {},
   "outputs": [
    {
     "data": {
      "text/plain": []
     },
     "execution_count": 63,
     "metadata": {},
     "output_type": "execute_result"
    }
   ],
   "source": [
    "class Cat : public Animal<Cat> {\n",
    "    friend Animal;\n",
    "    void barkImpl(){\n",
    "        std::cout << \"Miao\" << std::endl;\n",
    "    }\n",
    "};\n",
    "\n",
    "class Dog : public Animal<Dog> {\n",
    "    friend Animal;\n",
    "    void barkImpl(){\n",
    "        std::cout << \"Wang\" << std::endl;\n",
    "    }\n",
    "}"
   ]
  },
  {
   "cell_type": "code",
   "execution_count": 64,
   "id": "1630ebc4",
   "metadata": {},
   "outputs": [
    {
     "name": "stdout",
     "output_type": "stream",
     "text": [
      "Wang\n",
      "Miao\n"
     ]
    },
    {
     "data": {
      "text/plain": [
       "(void) @0x7fa7997f9030\n"
      ]
     },
     "execution_count": 64,
     "metadata": {},
     "output_type": "execute_result"
    }
   ],
   "source": [
    "Dog dog;\n",
    "Cat cat;\n",
    "\n",
    "dog.bark();\n",
    "cat.bark();"
   ]
  },
  {
   "cell_type": "code",
   "execution_count": null,
   "id": "4158a8ed",
   "metadata": {},
   "outputs": [],
   "source": []
  },
  {
   "cell_type": "markdown",
   "id": "7aa984dc",
   "metadata": {},
   "source": [
    "## 2.3.3 enable_shared_from_this"
   ]
  },
  {
   "cell_type": "code",
   "execution_count": 65,
   "id": "51419df0",
   "metadata": {},
   "outputs": [
    {
     "data": {
      "text/plain": []
     },
     "execution_count": 65,
     "metadata": {},
     "output_type": "execute_result"
    }
   ],
   "source": [
    "struct Obj : std::enable_shared_from_this<Obj> {\n",
    "    int dummy;\n",
    "};"
   ]
  },
  {
   "cell_type": "code",
   "execution_count": 66,
   "id": "a3306180",
   "metadata": {},
   "outputs": [
    {
     "name": "stdout",
     "output_type": "stream",
     "text": [
      "0x7fa77b68c510\n",
      "1\n",
      "0x7fa77b68c510\n",
      "2\n"
     ]
    },
    {
     "data": {
      "text/plain": [
       "(std::basic_ostream<char, std::char_traits<char> >::__ostream_type &) @0x7fa7ad217500\n"
      ]
     },
     "execution_count": 66,
     "metadata": {},
     "output_type": "execute_result"
    }
   ],
   "source": [
    "auto sp1 = std::make_shared<Obj>();\n",
    "std::cout << sp1.get() << std::endl;\n",
    "std::cout << sp1.use_count() << std::endl;\n",
    "auto sp2 = sp1->shared_from_this();\n",
    "std::cout << sp2.get() << std::endl;\n",
    "std::cout << sp2.use_count() << std::endl;"
   ]
  },
  {
   "cell_type": "markdown",
   "id": "5d944d5d",
   "metadata": {},
   "source": [
    "## 2.4.1 scalar delayed computation"
   ]
  },
  {
   "cell_type": "code",
   "execution_count": 67,
   "id": "3a9bab03",
   "metadata": {},
   "outputs": [
    {
     "data": {
      "text/plain": []
     },
     "execution_count": 67,
     "metadata": {},
     "output_type": "execute_result"
    }
   ],
   "source": [
    "template<typename T, typename U, typename OP>\n",
    "struct BinaryExpression{\n",
    "    BinaryExpression(T lhs_, U rhs_, OP op_): lhs(lhs_), rhs(rhs_), op(op_){\n",
    "    \n",
    "    };\n",
    "    double operator() () const {return op(rhs, lhs);};\n",
    "    protected:\n",
    "    T lhs;\n",
    "    U rhs;\n",
    "    OP op;\n",
    "};"
   ]
  },
  {
   "cell_type": "code",
   "execution_count": 68,
   "id": "f44b5e18",
   "metadata": {},
   "outputs": [
    {
     "data": {
      "text/plain": []
     },
     "execution_count": 68,
     "metadata": {},
     "output_type": "execute_result"
    }
   ],
   "source": [
    "//Generic lambda, another kind of template by lambda expression.\n",
    "auto plus = [](auto x, auto y){return x + y; };"
   ]
  },
  {
   "cell_type": "code",
   "execution_count": 69,
   "id": "fa5a9fa2",
   "metadata": {},
   "outputs": [
    {
     "data": {
      "text/plain": []
     },
     "execution_count": 69,
     "metadata": {},
     "output_type": "execute_result"
    }
   ],
   "source": [
    "auto plus_double = [](double x, double y) -> double {return x + y;};"
   ]
  },
  {
   "cell_type": "code",
   "execution_count": 70,
   "id": "a0742d3f",
   "metadata": {},
   "outputs": [
    {
     "data": {
      "text/plain": []
     },
     "execution_count": 70,
     "metadata": {},
     "output_type": "execute_result"
    }
   ],
   "source": [
    "// BinaryExpression expr1(5, 3.5, plus);"
   ]
  },
  {
   "cell_type": "markdown",
   "id": "04593783",
   "metadata": {},
   "source": [
    "Somehow lambda doesn't work here. But the code can be compiled and run tested on compiler explorer."
   ]
  },
  {
   "cell_type": "code",
   "execution_count": 71,
   "id": "1e239c92",
   "metadata": {},
   "outputs": [
    {
     "data": {
      "text/plain": []
     },
     "execution_count": 71,
     "metadata": {},
     "output_type": "execute_result"
    }
   ],
   "source": [
    "// expr1();"
   ]
  },
  {
   "cell_type": "code",
   "execution_count": 72,
   "id": "63ba3990",
   "metadata": {},
   "outputs": [
    {
     "data": {
      "text/plain": []
     },
     "execution_count": 72,
     "metadata": {},
     "output_type": "execute_result"
    }
   ],
   "source": [
    "// BinaryExpression expr2(5, 3.5, plus_double);"
   ]
  },
  {
   "cell_type": "code",
   "execution_count": 73,
   "id": "2cae2f88",
   "metadata": {},
   "outputs": [
    {
     "data": {
      "text/plain": []
     },
     "execution_count": 73,
     "metadata": {},
     "output_type": "execute_result"
    }
   ],
   "source": [
    "// expr2();"
   ]
  },
  {
   "cell_type": "markdown",
   "id": "170c5f86",
   "metadata": {},
   "source": [
    "test the code below on https://cpp.sh/\n",
    "```C++\n",
    "#include <iostream>\n",
    "template<typename T, typename U, typename OP>\n",
    "struct BinaryExpression{\n",
    "    BinaryExpression(T lhs_, U rhs_, OP op_): lhs(lhs_), rhs(rhs_), op(op_){\n",
    "    \n",
    "    };\n",
    "    double operator() () const {return op(rhs, lhs);};\n",
    "    protected:\n",
    "    T lhs;\n",
    "    U rhs;\n",
    "    OP op;\n",
    "};\n",
    "auto plus = [](auto x, auto y){return x + y; };\n",
    "BinaryExpression expr1(5, 3.5, plus);\n",
    "int main(){\n",
    "    auto plus_result = expr1();\n",
    "    std::cout << plus_result << std::endl;\n",
    "}\n",
    "```"
   ]
  },
  {
   "cell_type": "code",
   "execution_count": null,
   "id": "d0864af8",
   "metadata": {},
   "outputs": [],
   "source": []
  }
 ],
 "metadata": {
  "kernelspec": {
   "display_name": "C++2b",
   "language": "C++",
   "name": "cling-cpp2b"
  },
  "language_info": {
   "codemirror_mode": "c++",
   "file_extension": ".c++",
   "mimetype": "text/x-c++src",
   "name": "c++"
  }
 },
 "nbformat": 4,
 "nbformat_minor": 5
}
