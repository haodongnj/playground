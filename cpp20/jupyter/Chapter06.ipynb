{
 "cells": [
  {
   "cell_type": "code",
   "execution_count": 1,
   "id": "4802f4e8",
   "metadata": {},
   "outputs": [
    {
     "data": {
      "text/plain": []
     },
     "execution_count": 1,
     "metadata": {},
     "output_type": "execute_result"
    }
   ],
   "source": [
    "#include <type_traits>\n",
    "#include <mutex>\n",
    "#include <limits>\n",
    "#include <initializer_list>\n",
    "#include <vector>\n",
    "#include <numbers>\n",
    "#include <array>\n",
    "#include <cmath>\n",
    "#include <algorithm>"
   ]
  },
  {
   "cell_type": "markdown",
   "id": "3d6497d7",
   "metadata": {},
   "source": [
    "## 6.1 constexpr variable"
   ]
  },
  {
   "cell_type": "code",
   "execution_count": 2,
   "id": "65c27c09",
   "metadata": {},
   "outputs": [
    {
     "data": {
      "text/plain": []
     },
     "execution_count": 2,
     "metadata": {},
     "output_type": "execute_result"
    }
   ],
   "source": [
    "constexpr double PI = 3.1415926535;\n",
    "constexpr auto area = PI * 2.0 * 2.0;"
   ]
  },
  {
   "cell_type": "code",
   "execution_count": 3,
   "id": "cc2d6d49",
   "metadata": {},
   "outputs": [
    {
     "data": {
      "text/plain": []
     },
     "execution_count": 3,
     "metadata": {},
     "output_type": "execute_result"
    }
   ],
   "source": [
    "template<typename T> \n",
    "constexpr bool is_integral_v = std::is_integral_v<T>;"
   ]
  },
  {
   "cell_type": "code",
   "execution_count": 4,
   "id": "ce3a3dc2",
   "metadata": {},
   "outputs": [
    {
     "data": {
      "text/plain": []
     },
     "execution_count": 4,
     "metadata": {},
     "output_type": "execute_result"
    }
   ],
   "source": [
    "static_assert( is_integral_v<int> );"
   ]
  },
  {
   "cell_type": "code",
   "execution_count": 5,
   "id": "134358a5",
   "metadata": {},
   "outputs": [
    {
     "data": {
      "text/plain": []
     },
     "execution_count": 5,
     "metadata": {},
     "output_type": "execute_result"
    }
   ],
   "source": [
    "static_assert( not is_integral_v<void>);"
   ]
  },
  {
   "cell_type": "code",
   "execution_count": 6,
   "id": "d194b9d8",
   "metadata": {},
   "outputs": [
    {
     "data": {
      "text/plain": []
     },
     "execution_count": 6,
     "metadata": {},
     "output_type": "execute_result"
    }
   ],
   "source": [
    "template<char c>\n",
    "constexpr bool is_digit = (c >= '0' and c <= '9');"
   ]
  },
  {
   "cell_type": "code",
   "execution_count": 7,
   "id": "ff11a646",
   "metadata": {},
   "outputs": [
    {
     "data": {
      "text/plain": []
     },
     "execution_count": 7,
     "metadata": {},
     "output_type": "execute_result"
    }
   ],
   "source": [
    "static_assert(is_digit<'0'>);"
   ]
  },
  {
   "cell_type": "code",
   "execution_count": 8,
   "id": "687d6814",
   "metadata": {},
   "outputs": [
    {
     "data": {
      "text/plain": []
     },
     "execution_count": 8,
     "metadata": {},
     "output_type": "execute_result"
    }
   ],
   "source": [
    "static_assert(not is_digit<'x'>);"
   ]
  },
  {
   "cell_type": "markdown",
   "id": "bd4573fc",
   "metadata": {},
   "source": [
    "## 6.2 constinit"
   ]
  },
  {
   "cell_type": "code",
   "execution_count": 9,
   "id": "620804e7",
   "metadata": {},
   "outputs": [
    {
     "data": {
      "text/plain": []
     },
     "execution_count": 9,
     "metadata": {},
     "output_type": "execute_result"
    }
   ],
   "source": [
    "// constinit std::mutex g_mtx;"
   ]
  },
  {
   "cell_type": "markdown",
   "id": "f6d3ea07",
   "metadata": {},
   "source": [
    "constinit is not supported Cling with gcc 12.2.0 on Debian."
   ]
  },
  {
   "cell_type": "markdown",
   "id": "7cbc464d",
   "metadata": {},
   "source": [
    "## 6.3 fold expression"
   ]
  },
  {
   "cell_type": "code",
   "execution_count": 10,
   "id": "4031007f",
   "metadata": {},
   "outputs": [
    {
     "data": {
      "text/plain": []
     },
     "execution_count": 10,
     "metadata": {},
     "output_type": "execute_result"
    }
   ],
   "source": [
    "template<size_t...Is>\n",
    "constexpr size_t rsum = (Is + ... + 0);\n",
    "template<size_t...Is>\n",
    "constexpr size_t lsum = (0 + ... + Is);"
   ]
  },
  {
   "cell_type": "code",
   "execution_count": 11,
   "id": "3cbc533b",
   "metadata": {},
   "outputs": [
    {
     "data": {
      "text/plain": [
       "(const unsigned long) 100\n"
      ]
     },
     "execution_count": 11,
     "metadata": {},
     "output_type": "execute_result"
    }
   ],
   "source": [
    "lsum<100>"
   ]
  },
  {
   "cell_type": "code",
   "execution_count": 12,
   "id": "011f2220",
   "metadata": {},
   "outputs": [
    {
     "data": {
      "text/plain": [
       "(const unsigned long) 101\n"
      ]
     },
     "execution_count": 12,
     "metadata": {},
     "output_type": "execute_result"
    }
   ],
   "source": [
    "lsum<100, 1>"
   ]
  },
  {
   "cell_type": "code",
   "execution_count": 13,
   "id": "0c914bf6",
   "metadata": {},
   "outputs": [
    {
     "data": {
      "text/plain": [
       "(const unsigned long) 101\n"
      ]
     },
     "execution_count": 13,
     "metadata": {},
     "output_type": "execute_result"
    }
   ],
   "source": [
    "rsum<1, 100>"
   ]
  },
  {
   "cell_type": "code",
   "execution_count": 14,
   "id": "13bb127b",
   "metadata": {},
   "outputs": [
    {
     "data": {
      "text/plain": []
     },
     "execution_count": 14,
     "metadata": {},
     "output_type": "execute_result"
    }
   ],
   "source": [
    "template<size_t...Is>\n",
    "constexpr int rsub = ( Is - ... - 0);\n",
    "template<size_t...Is>\n",
    "constexpr int lsub = (0 - ... - Is);"
   ]
  },
  {
   "cell_type": "code",
   "execution_count": 15,
   "id": "69a9f1b5",
   "metadata": {},
   "outputs": [
    {
     "data": {
      "text/plain": [
       "(const int) 100\n"
      ]
     },
     "execution_count": 15,
     "metadata": {},
     "output_type": "execute_result"
    }
   ],
   "source": [
    "rsub<100>"
   ]
  },
  {
   "cell_type": "code",
   "execution_count": 16,
   "id": "bebaf1ab",
   "metadata": {},
   "outputs": [
    {
     "data": {
      "text/plain": [
       "(const int) -100\n"
      ]
     },
     "execution_count": 16,
     "metadata": {},
     "output_type": "execute_result"
    }
   ],
   "source": [
    "lsub<100>"
   ]
  },
  {
   "cell_type": "code",
   "execution_count": 17,
   "id": "2a4e1653",
   "metadata": {},
   "outputs": [
    {
     "data": {
      "text/plain": [
       "(const int) 90\n"
      ]
     },
     "execution_count": 17,
     "metadata": {},
     "output_type": "execute_result"
    }
   ],
   "source": [
    "rsub<100, 10>"
   ]
  },
  {
   "cell_type": "code",
   "execution_count": 18,
   "id": "52735ccd",
   "metadata": {},
   "outputs": [
    {
     "data": {
      "text/plain": [
       "(const int) -110\n"
      ]
     },
     "execution_count": 18,
     "metadata": {},
     "output_type": "execute_result"
    }
   ],
   "source": [
    "lsub<100, 10>"
   ]
  },
  {
   "cell_type": "markdown",
   "id": "5c49c7bf",
   "metadata": {},
   "source": [
    "## 6.4 constexpr function"
   ]
  },
  {
   "cell_type": "code",
   "execution_count": 19,
   "id": "f9cbfa10",
   "metadata": {},
   "outputs": [
    {
     "data": {
      "text/plain": []
     },
     "execution_count": 19,
     "metadata": {},
     "output_type": "execute_result"
    }
   ],
   "source": [
    "constexpr int min(std::initializer_list<int> xs){\n",
    "    int low = std::numeric_limits<int>::max();\n",
    "    for(auto x : xs){\n",
    "        if(x < low){\n",
    "            low = x;\n",
    "        }\n",
    "    }\n",
    "    return low;\n",
    "}"
   ]
  },
  {
   "cell_type": "code",
   "execution_count": 20,
   "id": "e8c8e1c5",
   "metadata": {},
   "outputs": [
    {
     "data": {
      "text/plain": [
       "(int) 1\n"
      ]
     },
     "execution_count": 20,
     "metadata": {},
     "output_type": "execute_result"
    }
   ],
   "source": [
    "min({1,1,3,4});"
   ]
  },
  {
   "cell_type": "markdown",
   "id": "26c857a4",
   "metadata": {},
   "source": [
    "It seems cling does not support `consteval`:\n",
    "```C++\n",
    "consteval int min_eval(std::initializer_list<int> xs){\n",
    "    int low = std::numeric_limits<int>::max();\n",
    "    for(auto x : xs){\n",
    "        if(x < low){\n",
    "            low = x;\n",
    "        }\n",
    "    }\n",
    "    return low;\n",
    "}\n",
    "```"
   ]
  },
  {
   "cell_type": "markdown",
   "id": "13e4b965",
   "metadata": {},
   "source": [
    "Compilation time allocated memory should be freed before the end of compilation."
   ]
  },
  {
   "cell_type": "markdown",
   "id": "86e0e863",
   "metadata": {},
   "source": [
    "```C++\n",
    "#include <vector>\n",
    "#include <array>\n",
    "#include <iostream>\n",
    "\n",
    "constexpr std::vector<int> sievePrime(int n){\n",
    "    std::vector<bool> marked(n+1, true);\n",
    "    for(int p = 2; p * p < n; ++p){\n",
    "        if(marked[p]){\n",
    "            for(int i = p * p; i <= n; i += p){\n",
    "                marked[i] = false;\n",
    "            }\n",
    "        }\n",
    "    }\n",
    "    \n",
    "    std::vector<int> result;\n",
    "    for(int p = 2; p < n; ++p){\n",
    "        if(marked[p]){\n",
    "            result.push_back(p);\n",
    "        }\n",
    "    }\n",
    "    return result;\n",
    "}\n",
    "\n",
    "constexpr std::size_t primeCount(int n){\n",
    "    return sievePrime(n).size();\n",
    "}\n",
    "\n",
    "template<int n>\n",
    "consteval auto savePrimeToArray(){\n",
    "    std::array<int, primeCount(n)> result;\n",
    "    auto primes = sievePrime(n);\n",
    "    std::copy(primes.begin(), primes.end(), result.begin());\n",
    "    return result;\n",
    "}\n",
    "\n",
    "int main(void){\n",
    "    static_assert(primeCount(100) == 25);\n",
    "    auto primes = savePrimeToArray<100>();\n",
    "    for(auto e: primes){\n",
    "        std::cout << e << std::endl;\n",
    "    }\n",
    "}\n",
    "```"
   ]
  },
  {
   "cell_type": "code",
   "execution_count": 21,
   "id": "5fcfb921",
   "metadata": {},
   "outputs": [
    {
     "data": {
      "text/plain": []
     },
     "execution_count": 21,
     "metadata": {},
     "output_type": "execute_result"
    }
   ],
   "source": [
    "struct Shape{\n",
    "    virtual ~Shape() = default;\n",
    "    virtual double getArea() const = 0;\n",
    "};"
   ]
  },
  {
   "cell_type": "code",
   "execution_count": 22,
   "id": "7f2df928",
   "metadata": {},
   "outputs": [
    {
     "data": {
      "text/plain": []
     },
     "execution_count": 22,
     "metadata": {},
     "output_type": "execute_result"
    }
   ],
   "source": [
    "struct Circle : Shape{\n",
    "    constexpr Circle(double r) : r_(r){}\n",
    "    constexpr double getArea() const override{\n",
    "        return std::numbers::pi * r_ * r_;\n",
    "    }\n",
    "private:\n",
    "    double r_;\n",
    "}"
   ]
  },
  {
   "cell_type": "code",
   "execution_count": 23,
   "id": "5db84b1a",
   "metadata": {},
   "outputs": [
    {
     "data": {
      "text/plain": []
     },
     "execution_count": 23,
     "metadata": {},
     "output_type": "execute_result"
    }
   ],
   "source": [
    "struct Rectangle : Shape{\n",
    "    constexpr Rectangle(double l, double w) : l_(l), w_(w){\n",
    "    \n",
    "    }\n",
    "    constexpr double getArea() const override{\n",
    "        return l_ * w_;\n",
    "    }\n",
    "private:\n",
    "    double l_;\n",
    "    double w_;\n",
    "}"
   ]
  },
  {
   "cell_type": "code",
   "execution_count": 24,
   "id": "879cdde3",
   "metadata": {},
   "outputs": [
    {
     "data": {
      "text/plain": []
     },
     "execution_count": 24,
     "metadata": {},
     "output_type": "execute_result"
    }
   ],
   "source": [
    "constexpr double testSubType(){\n",
    "    std::array<Shape*, 2> shapes{\n",
    "        new Circle(10), new Rectangle(3, 5)\n",
    "    };\n",
    "    double sum = 0.0;\n",
    "    for(auto s : shapes){\n",
    "        sum += s->getArea();\n",
    "        delete s;\n",
    "    }\n",
    "    return sum;\n",
    "}"
   ]
  },
  {
   "cell_type": "code",
   "execution_count": 25,
   "id": "356b103e",
   "metadata": {},
   "outputs": [
    {
     "data": {
      "text/plain": [
       "(double) 329.15927\n"
      ]
     },
     "execution_count": 25,
     "metadata": {},
     "output_type": "execute_result"
    }
   ],
   "source": [
    "testSubType()"
   ]
  },
  {
   "cell_type": "code",
   "execution_count": 26,
   "id": "148b4e47",
   "metadata": {},
   "outputs": [
    {
     "data": {
      "text/plain": []
     },
     "execution_count": 26,
     "metadata": {},
     "output_type": "execute_result"
    }
   ],
   "source": [
    "constexpr double testDynamicCast(){\n",
    "    std::array<Shape*, 2> shapes{\n",
    "        new Circle(10), new Rectangle(3, 5)\n",
    "    };\n",
    "    double sum = 0.0;\n",
    "    for(auto s : shapes){\n",
    "        if(auto rec = dynamic_cast<Rectangle*>(s)){\n",
    "            sum += rec->getArea();\n",
    "        }\n",
    "        delete s;\n",
    "    }\n",
    "    return sum;\n",
    "}"
   ]
  },
  {
   "cell_type": "code",
   "execution_count": 27,
   "id": "0dd299fc",
   "metadata": {},
   "outputs": [
    {
     "data": {
      "text/plain": [
       "(double) 15.000000\n"
      ]
     },
     "execution_count": 27,
     "metadata": {},
     "output_type": "execute_result"
    }
   ],
   "source": [
    "testDynamicCast()"
   ]
  },
  {
   "cell_type": "markdown",
   "id": "8fc0820b",
   "metadata": {},
   "source": [
    "Using example from cpp reference:"
   ]
  },
  {
   "cell_type": "code",
   "execution_count": 28,
   "id": "990c8269",
   "metadata": {},
   "outputs": [
    {
     "data": {
      "text/plain": []
     },
     "execution_count": 28,
     "metadata": {},
     "output_type": "execute_result"
    }
   ],
   "source": [
    "constexpr double power(double b, int x)\n",
    "{\n",
    "    if (std::is_constant_evaluated() && !(b == 0.0 && x < 0))\n",
    "    {\n",
    "        // A constant-evaluation context: Use a constexpr-friendly algorithm.\n",
    "        if (x == 0)\n",
    "            return 1.0;\n",
    "        double r {1.0};\n",
    "        double p {x > 0 ? b : 1.0 / b};\n",
    "        for (auto u = unsigned(x > 0 ? x : -x); u != 0; u /= 2)\n",
    "        {\n",
    "            if (u & 1)\n",
    "                r *= p;\n",
    "            p *= p;\n",
    "        }\n",
    "        return r;\n",
    "    }\n",
    "    else\n",
    "    {\n",
    "        // Let the code generator figure it out.\n",
    "        return std::pow(b, double(x));\n",
    "    }\n",
    "}"
   ]
  },
  {
   "cell_type": "code",
   "execution_count": 29,
   "id": "140dba81",
   "metadata": {},
   "outputs": [
    {
     "data": {
      "text/plain": []
     },
     "execution_count": 29,
     "metadata": {},
     "output_type": "execute_result"
    }
   ],
   "source": [
    "// A constant-expression context\n",
    "constexpr double kilo = power(10.0, 3);\n",
    "int n = 3;"
   ]
  },
  {
   "cell_type": "code",
   "execution_count": 30,
   "id": "39453c62",
   "metadata": {},
   "outputs": [
    {
     "data": {
      "text/plain": [
       "(const double) 1000.0000\n"
      ]
     },
     "execution_count": 30,
     "metadata": {},
     "output_type": "execute_result"
    }
   ],
   "source": [
    "kilo"
   ]
  },
  {
   "cell_type": "code",
   "execution_count": 31,
   "id": "ed34ed06",
   "metadata": {},
   "outputs": [
    {
     "data": {
      "text/plain": []
     },
     "execution_count": 31,
     "metadata": {},
     "output_type": "execute_result"
    }
   ],
   "source": [
    "// Not a constant expression, because n cannot be converted to an rvalue\n",
    "// in a constant-expression context\n",
    "// Equivalent to std::pow(10.0, double(n))\n",
    "double mucho = power(10.0, n);"
   ]
  },
  {
   "cell_type": "code",
   "execution_count": 32,
   "id": "2bc5d5bb",
   "metadata": {},
   "outputs": [
    {
     "data": {
      "text/plain": [
       "(double) 1000.0000\n"
      ]
     },
     "execution_count": 32,
     "metadata": {},
     "output_type": "execute_result"
    }
   ],
   "source": [
    "mucho"
   ]
  },
  {
   "cell_type": "code",
   "execution_count": 33,
   "id": "de2ad4e4",
   "metadata": {},
   "outputs": [
    {
     "data": {
      "text/plain": []
     },
     "execution_count": 33,
     "metadata": {},
     "output_type": "execute_result"
    }
   ],
   "source": [
    "static_assert(std::is_constant_evaluated())"
   ]
  },
  {
   "cell_type": "code",
   "execution_count": 34,
   "id": "53aeccb0",
   "metadata": {},
   "outputs": [
    {
     "data": {
      "text/plain": []
     },
     "execution_count": 34,
     "metadata": {},
     "output_type": "execute_result"
    }
   ],
   "source": [
    "int y = 0;"
   ]
  },
  {
   "cell_type": "code",
   "execution_count": 35,
   "id": "de67a50f",
   "metadata": {},
   "outputs": [
    {
     "data": {
      "text/plain": []
     },
     "execution_count": 35,
     "metadata": {},
     "output_type": "execute_result"
    }
   ],
   "source": [
    "const int a = std::is_constant_evaluated() ? y : 1;"
   ]
  },
  {
   "cell_type": "code",
   "execution_count": 36,
   "id": "6900330d",
   "metadata": {},
   "outputs": [
    {
     "data": {
      "text/plain": [
       "(const int) 1\n"
      ]
     },
     "execution_count": 36,
     "metadata": {},
     "output_type": "execute_result"
    }
   ],
   "source": [
    "a"
   ]
  },
  {
   "cell_type": "code",
   "execution_count": 37,
   "id": "7305c670",
   "metadata": {},
   "outputs": [
    {
     "data": {
      "text/plain": []
     },
     "execution_count": 37,
     "metadata": {},
     "output_type": "execute_result"
    }
   ],
   "source": [
    "const int b = std::is_constant_evaluated() ? 2 : y;"
   ]
  },
  {
   "cell_type": "code",
   "execution_count": 38,
   "id": "a6861fc8",
   "metadata": {},
   "outputs": [
    {
     "data": {
      "text/plain": [
       "(const int) 2\n"
      ]
     },
     "execution_count": 38,
     "metadata": {},
     "output_type": "execute_result"
    }
   ],
   "source": [
    "b"
   ]
  },
  {
   "cell_type": "markdown",
   "id": "868e23cc",
   "metadata": {},
   "source": [
    "Collatz Conjecture:\n",
    "$ f(n) = n / 2 $ if n is even, $ f(n) = 3 n + 1 $ if n is odd, for n > 0 and n is integral, f(n) converge to 1.\n"
   ]
  },
  {
   "cell_type": "code",
   "execution_count": 39,
   "id": "b1b55576",
   "metadata": {},
   "outputs": [
    {
     "data": {
      "text/plain": []
     },
     "execution_count": 39,
     "metadata": {},
     "output_type": "execute_result"
    }
   ],
   "source": [
    "constexpr size_t collatz_time(size_t n){\n",
    "    size_t steps = 0;\n",
    "    for(; n > 1; ++steps){\n",
    "        n = (n % 2 == 0) ? n / 2 : 3 * n + 1;\n",
    "    }\n",
    "    return steps;\n",
    "}"
   ]
  },
  {
   "cell_type": "code",
   "execution_count": 40,
   "id": "2c986b53",
   "metadata": {},
   "outputs": [
    {
     "data": {
      "text/plain": []
     },
     "execution_count": 40,
     "metadata": {},
     "output_type": "execute_result"
    }
   ],
   "source": [
    "constexpr size_t sum_collatz_time(size_t n){\n",
    "    size_t sum = 0;\n",
    "    for(size_t i = 1; i <= n; ++i){\n",
    "        sum += collatz_time(i);\n",
    "    }\n",
    "    return sum;\n",
    "}"
   ]
  },
  {
   "cell_type": "code",
   "execution_count": 41,
   "id": "86f8aa1e",
   "metadata": {},
   "outputs": [
    {
     "data": {
      "text/plain": []
     },
     "execution_count": 41,
     "metadata": {},
     "output_type": "execute_result"
    }
   ],
   "source": [
    "const auto s1 = sum_collatz_time(10000)"
   ]
  },
  {
   "cell_type": "code",
   "execution_count": 42,
   "id": "7a7286be",
   "metadata": {},
   "outputs": [
    {
     "data": {
      "text/plain": [
       "(const unsigned long) 849666\n"
      ]
     },
     "execution_count": 42,
     "metadata": {},
     "output_type": "execute_result"
    }
   ],
   "source": [
    "s1"
   ]
  },
  {
   "cell_type": "code",
   "execution_count": 43,
   "id": "a94861c7",
   "metadata": {},
   "outputs": [
    {
     "data": {
      "text/plain": []
     },
     "execution_count": 43,
     "metadata": {},
     "output_type": "execute_result"
    }
   ],
   "source": [
    "const auto s2 = sum_collatz_time(100000)"
   ]
  },
  {
   "cell_type": "code",
   "execution_count": 44,
   "id": "bb4bc86f",
   "metadata": {},
   "outputs": [
    {
     "data": {
      "text/plain": [
       "(const unsigned long) 10753840\n"
      ]
     },
     "execution_count": 44,
     "metadata": {},
     "output_type": "execute_result"
    }
   ],
   "source": [
    "s2"
   ]
  },
  {
   "cell_type": "code",
   "execution_count": 45,
   "id": "edb4a630",
   "metadata": {},
   "outputs": [
    {
     "data": {
      "text/plain": []
     },
     "execution_count": 45,
     "metadata": {},
     "output_type": "execute_result"
    }
   ],
   "source": [
    "const auto s3 = sum_collatz_time(1000000)"
   ]
  },
  {
   "cell_type": "code",
   "execution_count": 46,
   "id": "144de66a",
   "metadata": {},
   "outputs": [
    {
     "data": {
      "text/plain": [
       "(const unsigned long) 131434424\n"
      ]
     },
     "execution_count": 46,
     "metadata": {},
     "output_type": "execute_result"
    }
   ],
   "source": [
    "s3"
   ]
  },
  {
   "cell_type": "code",
   "execution_count": 47,
   "id": "b554e277",
   "metadata": {},
   "outputs": [
    {
     "data": {
      "text/plain": []
     },
     "execution_count": 47,
     "metadata": {},
     "output_type": "execute_result"
    }
   ],
   "source": [
    "const auto s4 = sum_collatz_time(10000000)"
   ]
  },
  {
   "cell_type": "code",
   "execution_count": 48,
   "id": "121ae9cc",
   "metadata": {},
   "outputs": [
    {
     "data": {
      "text/plain": [
       "(const unsigned long) 1552724831\n"
      ]
     },
     "execution_count": 48,
     "metadata": {},
     "output_type": "execute_result"
    }
   ],
   "source": [
    "s4"
   ]
  },
  {
   "cell_type": "code",
   "execution_count": 49,
   "id": "1b33cac3",
   "metadata": {},
   "outputs": [
    {
     "data": {
      "text/plain": []
     },
     "execution_count": 49,
     "metadata": {},
     "output_type": "execute_result"
    }
   ],
   "source": [
    "// const auto s5 = sum_collatz_time(10000000000)"
   ]
  },
  {
   "cell_type": "code",
   "execution_count": null,
   "id": "264532c5",
   "metadata": {},
   "outputs": [],
   "source": []
  },
  {
   "cell_type": "markdown",
   "id": "60689dce",
   "metadata": {},
   "source": [
    "Detection of UB:"
   ]
  },
  {
   "cell_type": "code",
   "execution_count": 50,
   "id": "941593ec",
   "metadata": {},
   "outputs": [
    {
     "data": {
      "text/plain": []
     },
     "execution_count": 50,
     "metadata": {},
     "output_type": "execute_result"
    }
   ],
   "source": [
    "// constexpr double v = 1/0;"
   ]
  },
  {
   "cell_type": "code",
   "execution_count": 51,
   "id": "71a59552",
   "metadata": {},
   "outputs": [
    {
     "data": {
      "text/plain": []
     },
     "execution_count": 51,
     "metadata": {},
     "output_type": "execute_result"
    }
   ],
   "source": [
    "constexpr int f(){\n",
    "    std::vector<int> v(700);\n",
    "    int* q = &v[7];\n",
    "    v.resize(900);\n",
    "    return *q;\n",
    "}"
   ]
  },
  {
   "cell_type": "code",
   "execution_count": 52,
   "id": "8ff981f5",
   "metadata": {},
   "outputs": [
    {
     "data": {
      "text/plain": []
     },
     "execution_count": 52,
     "metadata": {},
     "output_type": "execute_result"
    }
   ],
   "source": [
    "// constexpr int x = f();"
   ]
  },
  {
   "cell_type": "markdown",
   "id": "758766d7",
   "metadata": {},
   "source": [
    "## 6.5 non-type template parameters"
   ]
  },
  {
   "cell_type": "markdown",
   "id": "a525f68a",
   "metadata": {},
   "source": [
    "non-type template parameters constraints are loosened in C++20."
   ]
  },
  {
   "cell_type": "code",
   "execution_count": 53,
   "id": "5d0623e6",
   "metadata": {},
   "outputs": [
    {
     "data": {
      "text/plain": []
     },
     "execution_count": 53,
     "metadata": {},
     "output_type": "execute_result"
    }
   ],
   "source": [
    "template<size_t N>\n",
    "struct FixedString{\n",
    "    char str[N];\n",
    "    constexpr FixedString(const char(&s)[N]){\n",
    "        std::copy_n(s, N, str);\n",
    "    }\n",
    "};"
   ]
  },
  {
   "cell_type": "code",
   "execution_count": 54,
   "id": "ef4d1acd",
   "metadata": {},
   "outputs": [
    {
     "data": {
      "text/plain": []
     },
     "execution_count": 54,
     "metadata": {},
     "output_type": "execute_result"
    }
   ],
   "source": [
    "template<FixedString str> struct C{};\n",
    "static_assert(std::is_same_v<C<\"hello\">, C<\"hello\">>);\n",
    "static_assert(not std::is_same_v<C<\"hello\">, C<\"world\">>);"
   ]
  },
  {
   "cell_type": "code",
   "execution_count": 55,
   "id": "c55dc89d",
   "metadata": {},
   "outputs": [
    {
     "data": {
      "text/plain": []
     },
     "execution_count": 55,
     "metadata": {},
     "output_type": "execute_result"
    }
   ],
   "source": [
    "template<FixedString fixed_str>\n",
    "constexpr decltype(fixed_str) operator\"\"_fs(){return fixed_str;};"
   ]
  },
  {
   "cell_type": "code",
   "execution_count": 56,
   "id": "104475c7",
   "metadata": {},
   "outputs": [
    {
     "data": {
      "text/plain": [
       "(char[6]) \"hello\"\n"
      ]
     },
     "execution_count": 56,
     "metadata": {},
     "output_type": "execute_result"
    }
   ],
   "source": [
    "\"hello\"_fs.str"
   ]
  },
  {
   "cell_type": "code",
   "execution_count": 57,
   "id": "fabeb113",
   "metadata": {},
   "outputs": [
    {
     "data": {
      "text/plain": []
     },
     "execution_count": 57,
     "metadata": {},
     "output_type": "execute_result"
    }
   ],
   "source": [
    "struct CountedPolicy{\n",
    "    bool move_constructable{true};\n",
    "    bool copy_constructable{true};\n",
    "    bool move_assignable{true};\n",
    "    bool copy_assignable{true};\n",
    "};\n",
    "\n",
    "constexpr CountedPolicy default_counted_policy;\n",
    "constexpr CountedPolicy OnlyPolicy{true, true, false, false};"
   ]
  },
  {
   "cell_type": "code",
   "execution_count": 58,
   "id": "dde7ca3a",
   "metadata": {},
   "outputs": [
    {
     "data": {
      "text/plain": []
     },
     "execution_count": 58,
     "metadata": {},
     "output_type": "execute_result"
    }
   ],
   "source": [
    "template<CountedPolicy policy=default_counted_policy>\n",
    "struct Counted{\n",
    "\n",
    "};"
   ]
  },
  {
   "cell_type": "code",
   "execution_count": 59,
   "id": "49c32d22",
   "metadata": {},
   "outputs": [
    {
     "data": {
      "text/plain": []
     },
     "execution_count": 59,
     "metadata": {},
     "output_type": "execute_result"
    }
   ],
   "source": [
    "using CountedOnly = Counted<CountedPolicy{\n",
    "    .move_assignable = false,\n",
    "    .copy_assignable = false,\n",
    "}>;"
   ]
  },
  {
   "cell_type": "code",
   "execution_count": 60,
   "id": "9baf937f",
   "metadata": {},
   "outputs": [
    {
     "data": {
      "text/plain": []
     },
     "execution_count": 60,
     "metadata": {},
     "output_type": "execute_result"
    }
   ],
   "source": [
    "using AnotherCountedOnly = Counted<OnlyPolicy>;"
   ]
  },
  {
   "cell_type": "markdown",
   "id": "b37bf865",
   "metadata": {},
   "source": [
    "## 6.6 constexpr and TypeList"
   ]
  },
  {
   "cell_type": "code",
   "execution_count": 61,
   "id": "ccc9bf67",
   "metadata": {},
   "outputs": [
    {
     "data": {
      "text/plain": []
     },
     "execution_count": 61,
     "metadata": {},
     "output_type": "execute_result"
    }
   ],
   "source": [
    "template<typename...Ts>\n",
    "struct TypeList{\n",
    "    constexpr size_t size() const { return sizeof...(Ts);}\n",
    "};"
   ]
  },
  {
   "cell_type": "code",
   "execution_count": 62,
   "id": "3397d979",
   "metadata": {},
   "outputs": [
    {
     "data": {
      "text/plain": []
     },
     "execution_count": 62,
     "metadata": {},
     "output_type": "execute_result"
    }
   ],
   "source": [
    "template<typename T>\n",
    "struct TypeConst {using type = T;};\n",
    "template<typename T> \n",
    "constexpr TypeConst<T> _t;"
   ]
  },
  {
   "cell_type": "code",
   "execution_count": 63,
   "id": "b0924eb5",
   "metadata": {},
   "outputs": [
    {
     "data": {
      "text/plain": []
     },
     "execution_count": 63,
     "metadata": {},
     "output_type": "execute_result"
    }
   ],
   "source": [
    "template<typename...Ts>\n",
    "constexpr auto type_list = TypeList<TypeConst<Ts>...>{};"
   ]
  },
  {
   "cell_type": "code",
   "execution_count": 64,
   "id": "c4053eec",
   "metadata": {},
   "outputs": [
    {
     "data": {
      "text/plain": []
     },
     "execution_count": 64,
     "metadata": {},
     "output_type": "execute_result"
    }
   ],
   "source": [
    "template<typename...LHS, typename...RHS>\n",
    "constexpr bool operator==(TypeList<LHS...>, TypeList<RHS...>){\n",
    "    if constexpr (sizeof...(LHS) != sizeof...(RHS)){\n",
    "        return false;\n",
    "    }else{\n",
    "        return ((std::is_same_v<LHS, RHS> && ...));\n",
    "    }\n",
    "}"
   ]
  },
  {
   "cell_type": "code",
   "execution_count": null,
   "id": "9e7959cf",
   "metadata": {},
   "outputs": [],
   "source": []
  }
 ],
 "metadata": {
  "kernelspec": {
   "display_name": "C++2b",
   "language": "C++",
   "name": "cling-cpp2b"
  },
  "language_info": {
   "codemirror_mode": "c++",
   "file_extension": ".c++",
   "mimetype": "text/x-c++src",
   "name": "c++"
  }
 },
 "nbformat": 4,
 "nbformat_minor": 5
}
