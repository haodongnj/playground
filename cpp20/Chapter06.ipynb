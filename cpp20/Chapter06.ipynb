{
 "cells": [
  {
   "cell_type": "code",
   "execution_count": 13,
   "id": "f3c8e190",
   "metadata": {},
   "outputs": [
    {
     "data": {
      "text/plain": []
     },
     "execution_count": 13,
     "metadata": {},
     "output_type": "execute_result"
    }
   ],
   "source": [
    "#include <type_traits>\n",
    "#include <mutex>"
   ]
  },
  {
   "cell_type": "markdown",
   "id": "9eb093e6",
   "metadata": {},
   "source": [
    "## 6.1 constexpr variable"
   ]
  },
  {
   "cell_type": "code",
   "execution_count": 3,
   "id": "98f33851",
   "metadata": {},
   "outputs": [
    {
     "data": {
      "text/plain": []
     },
     "execution_count": 3,
     "metadata": {},
     "output_type": "execute_result"
    }
   ],
   "source": [
    "constexpr double PI = 3.1415926535;\n",
    "constexpr auto area = PI * 2.0 * 2.0;"
   ]
  },
  {
   "cell_type": "code",
   "execution_count": 5,
   "id": "0eeaca3f",
   "metadata": {},
   "outputs": [
    {
     "data": {
      "text/plain": []
     },
     "execution_count": 5,
     "metadata": {},
     "output_type": "execute_result"
    }
   ],
   "source": [
    "template<typename T> \n",
    "constexpr bool is_integral_v = std::is_integral_v<T>;"
   ]
  },
  {
   "cell_type": "code",
   "execution_count": 6,
   "id": "91f13132",
   "metadata": {},
   "outputs": [
    {
     "data": {
      "text/plain": []
     },
     "execution_count": 6,
     "metadata": {},
     "output_type": "execute_result"
    }
   ],
   "source": [
    "static_assert( is_integral_v<int> );"
   ]
  },
  {
   "cell_type": "code",
   "execution_count": 7,
   "id": "cdc65b4c",
   "metadata": {},
   "outputs": [
    {
     "data": {
      "text/plain": []
     },
     "execution_count": 7,
     "metadata": {},
     "output_type": "execute_result"
    }
   ],
   "source": [
    "static_assert( not is_integral_v<void>);"
   ]
  },
  {
   "cell_type": "code",
   "execution_count": 8,
   "id": "37fd2815",
   "metadata": {},
   "outputs": [
    {
     "data": {
      "text/plain": []
     },
     "execution_count": 8,
     "metadata": {},
     "output_type": "execute_result"
    }
   ],
   "source": [
    "template<char c>\n",
    "constexpr bool is_digit = (c >= '0' and c <= '9');"
   ]
  },
  {
   "cell_type": "code",
   "execution_count": 9,
   "id": "fbf4d27e",
   "metadata": {},
   "outputs": [
    {
     "data": {
      "text/plain": []
     },
     "execution_count": 9,
     "metadata": {},
     "output_type": "execute_result"
    }
   ],
   "source": [
    "static_assert(is_digit<'0'>);"
   ]
  },
  {
   "cell_type": "code",
   "execution_count": 10,
   "id": "1fca618b",
   "metadata": {},
   "outputs": [
    {
     "data": {
      "text/plain": []
     },
     "execution_count": 10,
     "metadata": {},
     "output_type": "execute_result"
    }
   ],
   "source": [
    "static_assert(not is_digit<'x'>);"
   ]
  },
  {
   "cell_type": "markdown",
   "id": "f0f7e005",
   "metadata": {},
   "source": [
    "## 6.2 constinit"
   ]
  },
  {
   "cell_type": "code",
   "execution_count": 15,
   "id": "21f51fa4",
   "metadata": {},
   "outputs": [
    {
     "data": {
      "text/plain": []
     },
     "execution_count": 15,
     "metadata": {},
     "output_type": "execute_result"
    }
   ],
   "source": [
    "// constinit std::mutex g_mtx;"
   ]
  },
  {
   "cell_type": "markdown",
   "id": "492a6c26",
   "metadata": {},
   "source": [
    "constinit is not supported Cling with gcc 12.2.0 on Debian."
   ]
  },
  {
   "cell_type": "markdown",
   "id": "9d48c4bf",
   "metadata": {},
   "source": [
    "## 6.3 fold expression"
   ]
  },
  {
   "cell_type": "code",
   "execution_count": 17,
   "id": "92945059",
   "metadata": {},
   "outputs": [
    {
     "data": {
      "text/plain": []
     },
     "execution_count": 17,
     "metadata": {},
     "output_type": "execute_result"
    }
   ],
   "source": [
    "template<size_t...Is>\n",
    "constexpr size_t rsum = (Is + ... + 0);\n",
    "template<size_t...Is>\n",
    "constexpr size_t lsum = (0 + ... + Is);"
   ]
  },
  {
   "cell_type": "code",
   "execution_count": 18,
   "id": "990e3f57",
   "metadata": {},
   "outputs": [
    {
     "data": {
      "text/plain": [
       "(const unsigned long) 100\n"
      ]
     },
     "execution_count": 18,
     "metadata": {},
     "output_type": "execute_result"
    }
   ],
   "source": [
    "lsum<100>"
   ]
  },
  {
   "cell_type": "code",
   "execution_count": 19,
   "id": "8b1360a8",
   "metadata": {},
   "outputs": [
    {
     "data": {
      "text/plain": [
       "(const unsigned long) 101\n"
      ]
     },
     "execution_count": 19,
     "metadata": {},
     "output_type": "execute_result"
    }
   ],
   "source": [
    "lsum<100, 1>"
   ]
  },
  {
   "cell_type": "code",
   "execution_count": 20,
   "id": "c028b07c",
   "metadata": {},
   "outputs": [
    {
     "data": {
      "text/plain": [
       "(const unsigned long) 101\n"
      ]
     },
     "execution_count": 20,
     "metadata": {},
     "output_type": "execute_result"
    }
   ],
   "source": [
    "rsum<1, 100>"
   ]
  },
  {
   "cell_type": "code",
   "execution_count": 21,
   "id": "9be06b7c",
   "metadata": {},
   "outputs": [
    {
     "data": {
      "text/plain": []
     },
     "execution_count": 21,
     "metadata": {},
     "output_type": "execute_result"
    }
   ],
   "source": [
    "template<size_t...Is>\n",
    "constexpr int rsub = ( Is - ... - 0);\n",
    "template<size_t...Is>\n",
    "constexpr int lsub = (0 - ... - Is);"
   ]
  },
  {
   "cell_type": "code",
   "execution_count": 22,
   "id": "cb50fcbb",
   "metadata": {},
   "outputs": [
    {
     "data": {
      "text/plain": [
       "(const int) 100\n"
      ]
     },
     "execution_count": 22,
     "metadata": {},
     "output_type": "execute_result"
    }
   ],
   "source": [
    "rsub<100>"
   ]
  },
  {
   "cell_type": "code",
   "execution_count": 23,
   "id": "19847b48",
   "metadata": {},
   "outputs": [
    {
     "data": {
      "text/plain": [
       "(const int) -100\n"
      ]
     },
     "execution_count": 23,
     "metadata": {},
     "output_type": "execute_result"
    }
   ],
   "source": [
    "lsub<100>"
   ]
  },
  {
   "cell_type": "code",
   "execution_count": 24,
   "id": "08eebd70",
   "metadata": {},
   "outputs": [
    {
     "data": {
      "text/plain": [
       "(const int) 90\n"
      ]
     },
     "execution_count": 24,
     "metadata": {},
     "output_type": "execute_result"
    }
   ],
   "source": [
    "rsub<100, 10>"
   ]
  },
  {
   "cell_type": "code",
   "execution_count": 25,
   "id": "2ecf352d",
   "metadata": {},
   "outputs": [
    {
     "data": {
      "text/plain": [
       "(const int) -110\n"
      ]
     },
     "execution_count": 25,
     "metadata": {},
     "output_type": "execute_result"
    }
   ],
   "source": [
    "lsub<100, 10>"
   ]
  },
  {
   "cell_type": "code",
   "execution_count": null,
   "id": "9eed7993",
   "metadata": {},
   "outputs": [],
   "source": []
  }
 ],
 "metadata": {
  "kernelspec": {
   "display_name": "C++20",
   "language": "C++",
   "name": "cling-cpp20"
  },
  "language_info": {
   "codemirror_mode": "c++",
   "file_extension": ".c++",
   "mimetype": "text/x-c++src",
   "name": "c++"
  }
 },
 "nbformat": 4,
 "nbformat_minor": 5
}
