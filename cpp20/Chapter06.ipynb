{
 "cells": [
  {
   "cell_type": "code",
   "execution_count": 23,
   "id": "19e24736",
   "metadata": {},
   "outputs": [
    {
     "data": {
      "text/plain": []
     },
     "execution_count": 23,
     "metadata": {},
     "output_type": "execute_result"
    }
   ],
   "source": [
    "#include <type_traits>\n",
    "#include <mutex>\n",
    "#include <limits>\n",
    "#include <initializer_list>\n",
    "#include <vector>"
   ]
  },
  {
   "cell_type": "markdown",
   "id": "4985c2f3",
   "metadata": {},
   "source": [
    "## 6.1 constexpr variable"
   ]
  },
  {
   "cell_type": "code",
   "execution_count": 2,
   "id": "3f710e1c",
   "metadata": {},
   "outputs": [
    {
     "data": {
      "text/plain": []
     },
     "execution_count": 2,
     "metadata": {},
     "output_type": "execute_result"
    }
   ],
   "source": [
    "constexpr double PI = 3.1415926535;\n",
    "constexpr auto area = PI * 2.0 * 2.0;"
   ]
  },
  {
   "cell_type": "code",
   "execution_count": 3,
   "id": "04807b57",
   "metadata": {},
   "outputs": [
    {
     "data": {
      "text/plain": []
     },
     "execution_count": 3,
     "metadata": {},
     "output_type": "execute_result"
    }
   ],
   "source": [
    "template<typename T> \n",
    "constexpr bool is_integral_v = std::is_integral_v<T>;"
   ]
  },
  {
   "cell_type": "code",
   "execution_count": 4,
   "id": "33a49c0b",
   "metadata": {},
   "outputs": [
    {
     "data": {
      "text/plain": []
     },
     "execution_count": 4,
     "metadata": {},
     "output_type": "execute_result"
    }
   ],
   "source": [
    "static_assert( is_integral_v<int> );"
   ]
  },
  {
   "cell_type": "code",
   "execution_count": 5,
   "id": "92fb93c4",
   "metadata": {},
   "outputs": [
    {
     "data": {
      "text/plain": []
     },
     "execution_count": 5,
     "metadata": {},
     "output_type": "execute_result"
    }
   ],
   "source": [
    "static_assert( not is_integral_v<void>);"
   ]
  },
  {
   "cell_type": "code",
   "execution_count": 6,
   "id": "47a802a5",
   "metadata": {},
   "outputs": [
    {
     "data": {
      "text/plain": []
     },
     "execution_count": 6,
     "metadata": {},
     "output_type": "execute_result"
    }
   ],
   "source": [
    "template<char c>\n",
    "constexpr bool is_digit = (c >= '0' and c <= '9');"
   ]
  },
  {
   "cell_type": "code",
   "execution_count": 7,
   "id": "68d3b125",
   "metadata": {},
   "outputs": [
    {
     "data": {
      "text/plain": []
     },
     "execution_count": 7,
     "metadata": {},
     "output_type": "execute_result"
    }
   ],
   "source": [
    "static_assert(is_digit<'0'>);"
   ]
  },
  {
   "cell_type": "code",
   "execution_count": 8,
   "id": "b848bf84",
   "metadata": {},
   "outputs": [
    {
     "data": {
      "text/plain": []
     },
     "execution_count": 8,
     "metadata": {},
     "output_type": "execute_result"
    }
   ],
   "source": [
    "static_assert(not is_digit<'x'>);"
   ]
  },
  {
   "cell_type": "markdown",
   "id": "9f9a5d7d",
   "metadata": {},
   "source": [
    "## 6.2 constinit"
   ]
  },
  {
   "cell_type": "code",
   "execution_count": 9,
   "id": "ab335613",
   "metadata": {},
   "outputs": [
    {
     "data": {
      "text/plain": []
     },
     "execution_count": 9,
     "metadata": {},
     "output_type": "execute_result"
    }
   ],
   "source": [
    "// constinit std::mutex g_mtx;"
   ]
  },
  {
   "cell_type": "markdown",
   "id": "957625a4",
   "metadata": {},
   "source": [
    "constinit is not supported Cling with gcc 12.2.0 on Debian."
   ]
  },
  {
   "cell_type": "markdown",
   "id": "04a6d23e",
   "metadata": {},
   "source": [
    "## 6.3 fold expression"
   ]
  },
  {
   "cell_type": "code",
   "execution_count": 10,
   "id": "26095796",
   "metadata": {},
   "outputs": [
    {
     "data": {
      "text/plain": []
     },
     "execution_count": 10,
     "metadata": {},
     "output_type": "execute_result"
    }
   ],
   "source": [
    "template<size_t...Is>\n",
    "constexpr size_t rsum = (Is + ... + 0);\n",
    "template<size_t...Is>\n",
    "constexpr size_t lsum = (0 + ... + Is);"
   ]
  },
  {
   "cell_type": "code",
   "execution_count": 11,
   "id": "09ad43fb",
   "metadata": {},
   "outputs": [
    {
     "data": {
      "text/plain": [
       "(const unsigned long) 100\n"
      ]
     },
     "execution_count": 11,
     "metadata": {},
     "output_type": "execute_result"
    }
   ],
   "source": [
    "lsum<100>"
   ]
  },
  {
   "cell_type": "code",
   "execution_count": 12,
   "id": "dd8c796b",
   "metadata": {},
   "outputs": [
    {
     "data": {
      "text/plain": [
       "(const unsigned long) 101\n"
      ]
     },
     "execution_count": 12,
     "metadata": {},
     "output_type": "execute_result"
    }
   ],
   "source": [
    "lsum<100, 1>"
   ]
  },
  {
   "cell_type": "code",
   "execution_count": 13,
   "id": "1b1c924c",
   "metadata": {},
   "outputs": [
    {
     "data": {
      "text/plain": [
       "(const unsigned long) 101\n"
      ]
     },
     "execution_count": 13,
     "metadata": {},
     "output_type": "execute_result"
    }
   ],
   "source": [
    "rsum<1, 100>"
   ]
  },
  {
   "cell_type": "code",
   "execution_count": 14,
   "id": "27613d78",
   "metadata": {},
   "outputs": [
    {
     "data": {
      "text/plain": []
     },
     "execution_count": 14,
     "metadata": {},
     "output_type": "execute_result"
    }
   ],
   "source": [
    "template<size_t...Is>\n",
    "constexpr int rsub = ( Is - ... - 0);\n",
    "template<size_t...Is>\n",
    "constexpr int lsub = (0 - ... - Is);"
   ]
  },
  {
   "cell_type": "code",
   "execution_count": 15,
   "id": "eda79fd7",
   "metadata": {},
   "outputs": [
    {
     "data": {
      "text/plain": [
       "(const int) 100\n"
      ]
     },
     "execution_count": 15,
     "metadata": {},
     "output_type": "execute_result"
    }
   ],
   "source": [
    "rsub<100>"
   ]
  },
  {
   "cell_type": "code",
   "execution_count": 16,
   "id": "1edd0e94",
   "metadata": {},
   "outputs": [
    {
     "data": {
      "text/plain": [
       "(const int) -100\n"
      ]
     },
     "execution_count": 16,
     "metadata": {},
     "output_type": "execute_result"
    }
   ],
   "source": [
    "lsub<100>"
   ]
  },
  {
   "cell_type": "code",
   "execution_count": 17,
   "id": "cb1cd614",
   "metadata": {},
   "outputs": [
    {
     "data": {
      "text/plain": [
       "(const int) 90\n"
      ]
     },
     "execution_count": 17,
     "metadata": {},
     "output_type": "execute_result"
    }
   ],
   "source": [
    "rsub<100, 10>"
   ]
  },
  {
   "cell_type": "code",
   "execution_count": 18,
   "id": "31586518",
   "metadata": {},
   "outputs": [
    {
     "data": {
      "text/plain": [
       "(const int) -110\n"
      ]
     },
     "execution_count": 18,
     "metadata": {},
     "output_type": "execute_result"
    }
   ],
   "source": [
    "lsub<100, 10>"
   ]
  },
  {
   "cell_type": "markdown",
   "id": "09c9b2a3",
   "metadata": {},
   "source": [
    "## 6.4 constexpr function"
   ]
  },
  {
   "cell_type": "code",
   "execution_count": 19,
   "id": "8f389f3d",
   "metadata": {},
   "outputs": [
    {
     "data": {
      "text/plain": []
     },
     "execution_count": 19,
     "metadata": {},
     "output_type": "execute_result"
    }
   ],
   "source": [
    "constexpr int min(std::initializer_list<int> xs){\n",
    "    int low = std::numeric_limits<int>::max();\n",
    "    for(auto x : xs){\n",
    "        if(x < low){\n",
    "            low = x;\n",
    "        }\n",
    "    }\n",
    "    return low;\n",
    "}"
   ]
  },
  {
   "cell_type": "code",
   "execution_count": 20,
   "id": "4db1bcca",
   "metadata": {},
   "outputs": [
    {
     "data": {
      "text/plain": [
       "(int) 1\n"
      ]
     },
     "execution_count": 20,
     "metadata": {},
     "output_type": "execute_result"
    }
   ],
   "source": [
    "min({1,1,3,4});"
   ]
  },
  {
   "cell_type": "markdown",
   "id": "6a439976",
   "metadata": {},
   "source": [
    "It seems cling does not support `consteval`:\n",
    "```C++\n",
    "consteval int min_eval(std::initializer_list<int> xs){\n",
    "    int low = std::numeric_limits<int>::max();\n",
    "    for(auto x : xs){\n",
    "        if(x < low){\n",
    "            low = x;\n",
    "        }\n",
    "    }\n",
    "    return low;\n",
    "}\n",
    "```"
   ]
  },
  {
   "cell_type": "markdown",
   "id": "d1d7a4d1",
   "metadata": {},
   "source": [
    "Compilation time allocated memory should be freed before the end of compilation."
   ]
  },
  {
   "cell_type": "markdown",
   "id": "1725ed5c",
   "metadata": {},
   "source": [
    "```C++\n",
    "#include <vector>\n",
    "#include <array>\n",
    "#include <iostream>\n",
    "\n",
    "constexpr std::vector<int> sievePrime(int n){\n",
    "    std::vector<bool> marked(n+1, true);\n",
    "    for(int p = 2; p * p < n; ++p){\n",
    "        if(marked[p]){\n",
    "            for(int i = p * p; i <= n; i += p){\n",
    "                marked[i] = false;\n",
    "            }\n",
    "        }\n",
    "    }\n",
    "    \n",
    "    std::vector<int> result;\n",
    "    for(int p = 2; p < n; ++p){\n",
    "        if(marked[p]){\n",
    "            result.push_back(p);\n",
    "        }\n",
    "    }\n",
    "    return result;\n",
    "}\n",
    "\n",
    "constexpr std::size_t primeCount(int n){\n",
    "    return sievePrime(n).size();\n",
    "}\n",
    "\n",
    "template<int n>\n",
    "consteval auto savePrimeToArray(){\n",
    "    std::array<int, primeCount(n)> result;\n",
    "    auto primes = sievePrime(n);\n",
    "    std::copy(primes.begin(), primes.end(), result.begin());\n",
    "    return result;\n",
    "}\n",
    "\n",
    "int main(void){\n",
    "    static_assert(primeCount(100) == 25);\n",
    "    auto primes = savePrimeToArray<100>();\n",
    "    for(auto e: primes){\n",
    "        std::cout << e << std::endl;\n",
    "    }\n",
    "}\n",
    "```"
   ]
  },
  {
   "cell_type": "code",
   "execution_count": null,
   "id": "c6f4add9",
   "metadata": {},
   "outputs": [],
   "source": []
  }
 ],
 "metadata": {
  "kernelspec": {
   "display_name": "C++2b",
   "language": "C++",
   "name": "cling-cpp2b"
  },
  "language_info": {
   "codemirror_mode": "c++",
   "file_extension": ".c++",
   "mimetype": "text/x-c++src",
   "name": "c++"
  }
 },
 "nbformat": 4,
 "nbformat_minor": 5
}
