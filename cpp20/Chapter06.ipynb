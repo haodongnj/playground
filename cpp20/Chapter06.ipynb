{
 "cells": [
  {
   "cell_type": "code",
   "execution_count": 1,
   "id": "2649710f",
   "metadata": {},
   "outputs": [
    {
     "data": {
      "text/plain": []
     },
     "execution_count": 1,
     "metadata": {},
     "output_type": "execute_result"
    }
   ],
   "source": [
    "#include <type_traits>\n",
    "#include <mutex>\n",
    "#include <limits>\n",
    "#include <initializer_list>\n",
    "#include <vector>\n",
    "#include <numbers>\n",
    "#include <array>\n",
    "#include <cmath>"
   ]
  },
  {
   "cell_type": "markdown",
   "id": "60921028",
   "metadata": {},
   "source": [
    "## 6.1 constexpr variable"
   ]
  },
  {
   "cell_type": "code",
   "execution_count": 2,
   "id": "6c448dae",
   "metadata": {},
   "outputs": [
    {
     "data": {
      "text/plain": []
     },
     "execution_count": 2,
     "metadata": {},
     "output_type": "execute_result"
    }
   ],
   "source": [
    "constexpr double PI = 3.1415926535;\n",
    "constexpr auto area = PI * 2.0 * 2.0;"
   ]
  },
  {
   "cell_type": "code",
   "execution_count": 3,
   "id": "718af379",
   "metadata": {},
   "outputs": [
    {
     "data": {
      "text/plain": []
     },
     "execution_count": 3,
     "metadata": {},
     "output_type": "execute_result"
    }
   ],
   "source": [
    "template<typename T> \n",
    "constexpr bool is_integral_v = std::is_integral_v<T>;"
   ]
  },
  {
   "cell_type": "code",
   "execution_count": 4,
   "id": "de7a3cc1",
   "metadata": {},
   "outputs": [
    {
     "data": {
      "text/plain": []
     },
     "execution_count": 4,
     "metadata": {},
     "output_type": "execute_result"
    }
   ],
   "source": [
    "static_assert( is_integral_v<int> );"
   ]
  },
  {
   "cell_type": "code",
   "execution_count": 5,
   "id": "a6018c32",
   "metadata": {},
   "outputs": [
    {
     "data": {
      "text/plain": []
     },
     "execution_count": 5,
     "metadata": {},
     "output_type": "execute_result"
    }
   ],
   "source": [
    "static_assert( not is_integral_v<void>);"
   ]
  },
  {
   "cell_type": "code",
   "execution_count": 6,
   "id": "4fe1a041",
   "metadata": {},
   "outputs": [
    {
     "data": {
      "text/plain": []
     },
     "execution_count": 6,
     "metadata": {},
     "output_type": "execute_result"
    }
   ],
   "source": [
    "template<char c>\n",
    "constexpr bool is_digit = (c >= '0' and c <= '9');"
   ]
  },
  {
   "cell_type": "code",
   "execution_count": 7,
   "id": "07df7a94",
   "metadata": {},
   "outputs": [
    {
     "data": {
      "text/plain": []
     },
     "execution_count": 7,
     "metadata": {},
     "output_type": "execute_result"
    }
   ],
   "source": [
    "static_assert(is_digit<'0'>);"
   ]
  },
  {
   "cell_type": "code",
   "execution_count": 8,
   "id": "6295b00e",
   "metadata": {},
   "outputs": [
    {
     "data": {
      "text/plain": []
     },
     "execution_count": 8,
     "metadata": {},
     "output_type": "execute_result"
    }
   ],
   "source": [
    "static_assert(not is_digit<'x'>);"
   ]
  },
  {
   "cell_type": "markdown",
   "id": "1b080c8a",
   "metadata": {},
   "source": [
    "## 6.2 constinit"
   ]
  },
  {
   "cell_type": "code",
   "execution_count": 9,
   "id": "e80f9778",
   "metadata": {},
   "outputs": [
    {
     "data": {
      "text/plain": []
     },
     "execution_count": 9,
     "metadata": {},
     "output_type": "execute_result"
    }
   ],
   "source": [
    "// constinit std::mutex g_mtx;"
   ]
  },
  {
   "cell_type": "markdown",
   "id": "ef7f6664",
   "metadata": {},
   "source": [
    "constinit is not supported Cling with gcc 12.2.0 on Debian."
   ]
  },
  {
   "cell_type": "markdown",
   "id": "4514f6f1",
   "metadata": {},
   "source": [
    "## 6.3 fold expression"
   ]
  },
  {
   "cell_type": "code",
   "execution_count": 10,
   "id": "110dbb1a",
   "metadata": {},
   "outputs": [
    {
     "data": {
      "text/plain": []
     },
     "execution_count": 10,
     "metadata": {},
     "output_type": "execute_result"
    }
   ],
   "source": [
    "template<size_t...Is>\n",
    "constexpr size_t rsum = (Is + ... + 0);\n",
    "template<size_t...Is>\n",
    "constexpr size_t lsum = (0 + ... + Is);"
   ]
  },
  {
   "cell_type": "code",
   "execution_count": 11,
   "id": "9844a9c4",
   "metadata": {},
   "outputs": [
    {
     "data": {
      "text/plain": [
       "(const unsigned long) 100\n"
      ]
     },
     "execution_count": 11,
     "metadata": {},
     "output_type": "execute_result"
    }
   ],
   "source": [
    "lsum<100>"
   ]
  },
  {
   "cell_type": "code",
   "execution_count": 12,
   "id": "1b185f41",
   "metadata": {},
   "outputs": [
    {
     "data": {
      "text/plain": [
       "(const unsigned long) 101\n"
      ]
     },
     "execution_count": 12,
     "metadata": {},
     "output_type": "execute_result"
    }
   ],
   "source": [
    "lsum<100, 1>"
   ]
  },
  {
   "cell_type": "code",
   "execution_count": 13,
   "id": "a866494e",
   "metadata": {},
   "outputs": [
    {
     "data": {
      "text/plain": [
       "(const unsigned long) 101\n"
      ]
     },
     "execution_count": 13,
     "metadata": {},
     "output_type": "execute_result"
    }
   ],
   "source": [
    "rsum<1, 100>"
   ]
  },
  {
   "cell_type": "code",
   "execution_count": 14,
   "id": "9320d041",
   "metadata": {},
   "outputs": [
    {
     "data": {
      "text/plain": []
     },
     "execution_count": 14,
     "metadata": {},
     "output_type": "execute_result"
    }
   ],
   "source": [
    "template<size_t...Is>\n",
    "constexpr int rsub = ( Is - ... - 0);\n",
    "template<size_t...Is>\n",
    "constexpr int lsub = (0 - ... - Is);"
   ]
  },
  {
   "cell_type": "code",
   "execution_count": 15,
   "id": "f8a0c3dd",
   "metadata": {},
   "outputs": [
    {
     "data": {
      "text/plain": [
       "(const int) 100\n"
      ]
     },
     "execution_count": 15,
     "metadata": {},
     "output_type": "execute_result"
    }
   ],
   "source": [
    "rsub<100>"
   ]
  },
  {
   "cell_type": "code",
   "execution_count": 16,
   "id": "47371e29",
   "metadata": {},
   "outputs": [
    {
     "data": {
      "text/plain": [
       "(const int) -100\n"
      ]
     },
     "execution_count": 16,
     "metadata": {},
     "output_type": "execute_result"
    }
   ],
   "source": [
    "lsub<100>"
   ]
  },
  {
   "cell_type": "code",
   "execution_count": 17,
   "id": "55d6b0bc",
   "metadata": {},
   "outputs": [
    {
     "data": {
      "text/plain": [
       "(const int) 90\n"
      ]
     },
     "execution_count": 17,
     "metadata": {},
     "output_type": "execute_result"
    }
   ],
   "source": [
    "rsub<100, 10>"
   ]
  },
  {
   "cell_type": "code",
   "execution_count": 18,
   "id": "1404384a",
   "metadata": {},
   "outputs": [
    {
     "data": {
      "text/plain": [
       "(const int) -110\n"
      ]
     },
     "execution_count": 18,
     "metadata": {},
     "output_type": "execute_result"
    }
   ],
   "source": [
    "lsub<100, 10>"
   ]
  },
  {
   "cell_type": "markdown",
   "id": "128736b8",
   "metadata": {},
   "source": [
    "## 6.4 constexpr function"
   ]
  },
  {
   "cell_type": "code",
   "execution_count": 19,
   "id": "b8b695ce",
   "metadata": {},
   "outputs": [
    {
     "data": {
      "text/plain": []
     },
     "execution_count": 19,
     "metadata": {},
     "output_type": "execute_result"
    }
   ],
   "source": [
    "constexpr int min(std::initializer_list<int> xs){\n",
    "    int low = std::numeric_limits<int>::max();\n",
    "    for(auto x : xs){\n",
    "        if(x < low){\n",
    "            low = x;\n",
    "        }\n",
    "    }\n",
    "    return low;\n",
    "}"
   ]
  },
  {
   "cell_type": "code",
   "execution_count": 20,
   "id": "346fb346",
   "metadata": {},
   "outputs": [
    {
     "data": {
      "text/plain": [
       "(int) 1\n"
      ]
     },
     "execution_count": 20,
     "metadata": {},
     "output_type": "execute_result"
    }
   ],
   "source": [
    "min({1,1,3,4});"
   ]
  },
  {
   "cell_type": "markdown",
   "id": "91138dfa",
   "metadata": {},
   "source": [
    "It seems cling does not support `consteval`:\n",
    "```C++\n",
    "consteval int min_eval(std::initializer_list<int> xs){\n",
    "    int low = std::numeric_limits<int>::max();\n",
    "    for(auto x : xs){\n",
    "        if(x < low){\n",
    "            low = x;\n",
    "        }\n",
    "    }\n",
    "    return low;\n",
    "}\n",
    "```"
   ]
  },
  {
   "cell_type": "markdown",
   "id": "363d06b5",
   "metadata": {},
   "source": [
    "Compilation time allocated memory should be freed before the end of compilation."
   ]
  },
  {
   "cell_type": "markdown",
   "id": "c3fd3cd8",
   "metadata": {},
   "source": [
    "```C++\n",
    "#include <vector>\n",
    "#include <array>\n",
    "#include <iostream>\n",
    "\n",
    "constexpr std::vector<int> sievePrime(int n){\n",
    "    std::vector<bool> marked(n+1, true);\n",
    "    for(int p = 2; p * p < n; ++p){\n",
    "        if(marked[p]){\n",
    "            for(int i = p * p; i <= n; i += p){\n",
    "                marked[i] = false;\n",
    "            }\n",
    "        }\n",
    "    }\n",
    "    \n",
    "    std::vector<int> result;\n",
    "    for(int p = 2; p < n; ++p){\n",
    "        if(marked[p]){\n",
    "            result.push_back(p);\n",
    "        }\n",
    "    }\n",
    "    return result;\n",
    "}\n",
    "\n",
    "constexpr std::size_t primeCount(int n){\n",
    "    return sievePrime(n).size();\n",
    "}\n",
    "\n",
    "template<int n>\n",
    "consteval auto savePrimeToArray(){\n",
    "    std::array<int, primeCount(n)> result;\n",
    "    auto primes = sievePrime(n);\n",
    "    std::copy(primes.begin(), primes.end(), result.begin());\n",
    "    return result;\n",
    "}\n",
    "\n",
    "int main(void){\n",
    "    static_assert(primeCount(100) == 25);\n",
    "    auto primes = savePrimeToArray<100>();\n",
    "    for(auto e: primes){\n",
    "        std::cout << e << std::endl;\n",
    "    }\n",
    "}\n",
    "```"
   ]
  },
  {
   "cell_type": "code",
   "execution_count": 21,
   "id": "06d72912",
   "metadata": {},
   "outputs": [
    {
     "data": {
      "text/plain": []
     },
     "execution_count": 21,
     "metadata": {},
     "output_type": "execute_result"
    }
   ],
   "source": [
    "struct Shape{\n",
    "    virtual ~Shape() = default;\n",
    "    virtual double getArea() const = 0;\n",
    "};"
   ]
  },
  {
   "cell_type": "code",
   "execution_count": 22,
   "id": "fd83b6c1",
   "metadata": {},
   "outputs": [
    {
     "data": {
      "text/plain": []
     },
     "execution_count": 22,
     "metadata": {},
     "output_type": "execute_result"
    }
   ],
   "source": [
    "struct Circle : Shape{\n",
    "    constexpr Circle(double r) : r_(r){}\n",
    "    constexpr double getArea() const override{\n",
    "        return std::numbers::pi * r_ * r_;\n",
    "    }\n",
    "private:\n",
    "    double r_;\n",
    "}"
   ]
  },
  {
   "cell_type": "code",
   "execution_count": 23,
   "id": "1653928b",
   "metadata": {},
   "outputs": [
    {
     "data": {
      "text/plain": []
     },
     "execution_count": 23,
     "metadata": {},
     "output_type": "execute_result"
    }
   ],
   "source": [
    "struct Rectangle : Shape{\n",
    "    constexpr Rectangle(double l, double w) : l_(l), w_(w){\n",
    "    \n",
    "    }\n",
    "    constexpr double getArea() const override{\n",
    "        return l_ * w_;\n",
    "    }\n",
    "private:\n",
    "    double l_;\n",
    "    double w_;\n",
    "}"
   ]
  },
  {
   "cell_type": "code",
   "execution_count": 24,
   "id": "d09067b2",
   "metadata": {},
   "outputs": [
    {
     "data": {
      "text/plain": []
     },
     "execution_count": 24,
     "metadata": {},
     "output_type": "execute_result"
    }
   ],
   "source": [
    "constexpr double testSubType(){\n",
    "    std::array<Shape*, 2> shapes{\n",
    "        new Circle(10), new Rectangle(3, 5)\n",
    "    };\n",
    "    double sum = 0.0;\n",
    "    for(auto s : shapes){\n",
    "        sum += s->getArea();\n",
    "        delete s;\n",
    "    }\n",
    "    return sum;\n",
    "}"
   ]
  },
  {
   "cell_type": "code",
   "execution_count": 25,
   "id": "ea4a84c0",
   "metadata": {},
   "outputs": [
    {
     "data": {
      "text/plain": [
       "(double) 329.15927\n"
      ]
     },
     "execution_count": 25,
     "metadata": {},
     "output_type": "execute_result"
    }
   ],
   "source": [
    "testSubType()"
   ]
  },
  {
   "cell_type": "code",
   "execution_count": 26,
   "id": "8ee909be",
   "metadata": {},
   "outputs": [
    {
     "data": {
      "text/plain": []
     },
     "execution_count": 26,
     "metadata": {},
     "output_type": "execute_result"
    }
   ],
   "source": [
    "constexpr double testDynamicCast(){\n",
    "    std::array<Shape*, 2> shapes{\n",
    "        new Circle(10), new Rectangle(3, 5)\n",
    "    };\n",
    "    double sum = 0.0;\n",
    "    for(auto s : shapes){\n",
    "        if(auto rec = dynamic_cast<Rectangle*>(s)){\n",
    "            sum += rec->getArea();\n",
    "        }\n",
    "        delete s;\n",
    "    }\n",
    "    return sum;\n",
    "}"
   ]
  },
  {
   "cell_type": "code",
   "execution_count": 27,
   "id": "6a6ebbc1",
   "metadata": {},
   "outputs": [
    {
     "data": {
      "text/plain": [
       "(double) 15.000000\n"
      ]
     },
     "execution_count": 27,
     "metadata": {},
     "output_type": "execute_result"
    }
   ],
   "source": [
    "testDynamicCast()"
   ]
  },
  {
   "cell_type": "markdown",
   "id": "5c857f9c",
   "metadata": {},
   "source": [
    "Using example from cpp reference:"
   ]
  },
  {
   "cell_type": "code",
   "execution_count": 28,
   "id": "6d701e78",
   "metadata": {},
   "outputs": [
    {
     "data": {
      "text/plain": []
     },
     "execution_count": 28,
     "metadata": {},
     "output_type": "execute_result"
    }
   ],
   "source": [
    "constexpr double power(double b, int x)\n",
    "{\n",
    "    if (std::is_constant_evaluated() && !(b == 0.0 && x < 0))\n",
    "    {\n",
    "        // A constant-evaluation context: Use a constexpr-friendly algorithm.\n",
    "        if (x == 0)\n",
    "            return 1.0;\n",
    "        double r {1.0};\n",
    "        double p {x > 0 ? b : 1.0 / b};\n",
    "        for (auto u = unsigned(x > 0 ? x : -x); u != 0; u /= 2)\n",
    "        {\n",
    "            if (u & 1)\n",
    "                r *= p;\n",
    "            p *= p;\n",
    "        }\n",
    "        return r;\n",
    "    }\n",
    "    else\n",
    "    {\n",
    "        // Let the code generator figure it out.\n",
    "        return std::pow(b, double(x));\n",
    "    }\n",
    "}"
   ]
  },
  {
   "cell_type": "code",
   "execution_count": 29,
   "id": "768451b0",
   "metadata": {},
   "outputs": [
    {
     "data": {
      "text/plain": []
     },
     "execution_count": 29,
     "metadata": {},
     "output_type": "execute_result"
    }
   ],
   "source": [
    "// A constant-expression context\n",
    "constexpr double kilo = power(10.0, 3);\n",
    "int n = 3;"
   ]
  },
  {
   "cell_type": "code",
   "execution_count": 30,
   "id": "95b1c805",
   "metadata": {},
   "outputs": [
    {
     "data": {
      "text/plain": [
       "(const double) 1000.0000\n"
      ]
     },
     "execution_count": 30,
     "metadata": {},
     "output_type": "execute_result"
    }
   ],
   "source": [
    "kilo"
   ]
  },
  {
   "cell_type": "code",
   "execution_count": 31,
   "id": "0ec417c9",
   "metadata": {},
   "outputs": [
    {
     "data": {
      "text/plain": []
     },
     "execution_count": 31,
     "metadata": {},
     "output_type": "execute_result"
    }
   ],
   "source": [
    "// Not a constant expression, because n cannot be converted to an rvalue\n",
    "// in a constant-expression context\n",
    "// Equivalent to std::pow(10.0, double(n))\n",
    "double mucho = power(10.0, n);"
   ]
  },
  {
   "cell_type": "code",
   "execution_count": 32,
   "id": "ad59dba2",
   "metadata": {},
   "outputs": [
    {
     "data": {
      "text/plain": [
       "(double) 1000.0000\n"
      ]
     },
     "execution_count": 32,
     "metadata": {},
     "output_type": "execute_result"
    }
   ],
   "source": [
    "mucho"
   ]
  },
  {
   "cell_type": "code",
   "execution_count": 33,
   "id": "bfeb9a6a",
   "metadata": {},
   "outputs": [
    {
     "data": {
      "text/plain": []
     },
     "execution_count": 33,
     "metadata": {},
     "output_type": "execute_result"
    }
   ],
   "source": [
    "static_assert(std::is_constant_evaluated())"
   ]
  },
  {
   "cell_type": "code",
   "execution_count": 34,
   "id": "a9e537a2",
   "metadata": {},
   "outputs": [
    {
     "data": {
      "text/plain": []
     },
     "execution_count": 34,
     "metadata": {},
     "output_type": "execute_result"
    }
   ],
   "source": [
    "int y = 0;"
   ]
  },
  {
   "cell_type": "code",
   "execution_count": 35,
   "id": "b8f24914",
   "metadata": {},
   "outputs": [
    {
     "data": {
      "text/plain": []
     },
     "execution_count": 35,
     "metadata": {},
     "output_type": "execute_result"
    }
   ],
   "source": [
    "const int a = std::is_constant_evaluated() ? y : 1;"
   ]
  },
  {
   "cell_type": "code",
   "execution_count": 36,
   "id": "c3c46836",
   "metadata": {},
   "outputs": [
    {
     "data": {
      "text/plain": [
       "(const int) 1\n"
      ]
     },
     "execution_count": 36,
     "metadata": {},
     "output_type": "execute_result"
    }
   ],
   "source": [
    "a"
   ]
  },
  {
   "cell_type": "code",
   "execution_count": 37,
   "id": "58cf7ca2",
   "metadata": {},
   "outputs": [
    {
     "data": {
      "text/plain": []
     },
     "execution_count": 37,
     "metadata": {},
     "output_type": "execute_result"
    }
   ],
   "source": [
    "const int b = std::is_constant_evaluated() ? 2 : y;"
   ]
  },
  {
   "cell_type": "code",
   "execution_count": 38,
   "id": "b06231f3",
   "metadata": {},
   "outputs": [
    {
     "data": {
      "text/plain": [
       "(const int) 2\n"
      ]
     },
     "execution_count": 38,
     "metadata": {},
     "output_type": "execute_result"
    }
   ],
   "source": [
    "b"
   ]
  },
  {
   "cell_type": "markdown",
   "id": "a9c7888e",
   "metadata": {},
   "source": [
    "Collatz Conjecture:\n",
    "$ f(n) = n / 2 $ if n is even, $ f(n) = 3 n + 1 $ if n is odd, for n > 0 and n is integral, f(n) converge to 1.\n"
   ]
  },
  {
   "cell_type": "code",
   "execution_count": 39,
   "id": "7ee812f5",
   "metadata": {},
   "outputs": [
    {
     "data": {
      "text/plain": []
     },
     "execution_count": 39,
     "metadata": {},
     "output_type": "execute_result"
    }
   ],
   "source": [
    "constexpr size_t collatz_time(size_t n){\n",
    "    size_t steps = 0;\n",
    "    for(; n > 1; ++steps){\n",
    "        n = (n % 2 == 0) ? n / 2 : 3 * n + 1;\n",
    "    }\n",
    "    return steps;\n",
    "}"
   ]
  },
  {
   "cell_type": "code",
   "execution_count": 40,
   "id": "f7a6df01",
   "metadata": {},
   "outputs": [
    {
     "data": {
      "text/plain": []
     },
     "execution_count": 40,
     "metadata": {},
     "output_type": "execute_result"
    }
   ],
   "source": [
    "constexpr size_t sum_collatz_time(size_t n){\n",
    "    size_t sum = 0;\n",
    "    for(size_t i = 1; i <= n; ++i){\n",
    "        sum += collatz_time(i);\n",
    "    }\n",
    "    return sum;\n",
    "}"
   ]
  },
  {
   "cell_type": "code",
   "execution_count": 41,
   "id": "95ed1edc",
   "metadata": {},
   "outputs": [
    {
     "data": {
      "text/plain": []
     },
     "execution_count": 41,
     "metadata": {},
     "output_type": "execute_result"
    }
   ],
   "source": [
    "const auto s1 = sum_collatz_time(10000)"
   ]
  },
  {
   "cell_type": "code",
   "execution_count": 42,
   "id": "5dc81916",
   "metadata": {},
   "outputs": [
    {
     "data": {
      "text/plain": [
       "(const unsigned long) 849666\n"
      ]
     },
     "execution_count": 42,
     "metadata": {},
     "output_type": "execute_result"
    }
   ],
   "source": [
    "s1"
   ]
  },
  {
   "cell_type": "code",
   "execution_count": 43,
   "id": "1b11cf5b",
   "metadata": {},
   "outputs": [
    {
     "data": {
      "text/plain": []
     },
     "execution_count": 43,
     "metadata": {},
     "output_type": "execute_result"
    }
   ],
   "source": [
    "const auto s2 = sum_collatz_time(100000)"
   ]
  },
  {
   "cell_type": "code",
   "execution_count": 44,
   "id": "9a79329d",
   "metadata": {},
   "outputs": [
    {
     "data": {
      "text/plain": [
       "(const unsigned long) 10753840\n"
      ]
     },
     "execution_count": 44,
     "metadata": {},
     "output_type": "execute_result"
    }
   ],
   "source": [
    "s2"
   ]
  },
  {
   "cell_type": "code",
   "execution_count": 45,
   "id": "f4c28618",
   "metadata": {},
   "outputs": [
    {
     "data": {
      "text/plain": []
     },
     "execution_count": 45,
     "metadata": {},
     "output_type": "execute_result"
    }
   ],
   "source": [
    "const auto s3 = sum_collatz_time(1000000)"
   ]
  },
  {
   "cell_type": "code",
   "execution_count": 46,
   "id": "053d15bc",
   "metadata": {},
   "outputs": [
    {
     "data": {
      "text/plain": [
       "(const unsigned long) 131434424\n"
      ]
     },
     "execution_count": 46,
     "metadata": {},
     "output_type": "execute_result"
    }
   ],
   "source": [
    "s3"
   ]
  },
  {
   "cell_type": "code",
   "execution_count": 47,
   "id": "ac83f99d",
   "metadata": {},
   "outputs": [
    {
     "data": {
      "text/plain": []
     },
     "execution_count": 47,
     "metadata": {},
     "output_type": "execute_result"
    }
   ],
   "source": [
    "const auto s4 = sum_collatz_time(10000000)"
   ]
  },
  {
   "cell_type": "code",
   "execution_count": 48,
   "id": "436b333c",
   "metadata": {},
   "outputs": [
    {
     "data": {
      "text/plain": [
       "(const unsigned long) 1552724831\n"
      ]
     },
     "execution_count": 48,
     "metadata": {},
     "output_type": "execute_result"
    }
   ],
   "source": [
    "s4"
   ]
  },
  {
   "cell_type": "code",
   "execution_count": 49,
   "id": "2c8353eb",
   "metadata": {},
   "outputs": [
    {
     "data": {
      "text/plain": []
     },
     "execution_count": 49,
     "metadata": {},
     "output_type": "execute_result"
    }
   ],
   "source": [
    "// const auto s5 = sum_collatz_time(10000000000)"
   ]
  },
  {
   "cell_type": "code",
   "execution_count": null,
   "id": "40b6eded",
   "metadata": {},
   "outputs": [],
   "source": []
  },
  {
   "cell_type": "markdown",
   "id": "4c290d74",
   "metadata": {},
   "source": [
    "Detection of UB:"
   ]
  },
  {
   "cell_type": "code",
   "execution_count": 50,
   "id": "f8fd8a96",
   "metadata": {},
   "outputs": [
    {
     "data": {
      "text/plain": []
     },
     "execution_count": 50,
     "metadata": {},
     "output_type": "execute_result"
    }
   ],
   "source": [
    "// constexpr double v = 1/0;"
   ]
  },
  {
   "cell_type": "code",
   "execution_count": 52,
   "id": "76987d32",
   "metadata": {},
   "outputs": [
    {
     "data": {
      "text/plain": []
     },
     "execution_count": 52,
     "metadata": {},
     "output_type": "execute_result"
    }
   ],
   "source": [
    "constexpr int f(){\n",
    "    std::vector<int> v(700);\n",
    "    int* q = &v[7];\n",
    "    v.resize(900);\n",
    "    return *q;\n",
    "}"
   ]
  },
  {
   "cell_type": "code",
   "execution_count": 54,
   "id": "a738f293",
   "metadata": {},
   "outputs": [
    {
     "data": {
      "text/plain": []
     },
     "execution_count": 54,
     "metadata": {},
     "output_type": "execute_result"
    }
   ],
   "source": [
    "// constexpr int x = f();"
   ]
  },
  {
   "cell_type": "markdown",
   "id": "d75f531d",
   "metadata": {},
   "source": [
    "## 6.5 non-type template parameters"
   ]
  },
  {
   "cell_type": "code",
   "execution_count": null,
   "id": "e012fd63",
   "metadata": {},
   "outputs": [],
   "source": []
  }
 ],
 "metadata": {
  "kernelspec": {
   "display_name": "C++2b",
   "language": "C++",
   "name": "cling-cpp2b"
  },
  "language_info": {
   "codemirror_mode": "c++",
   "file_extension": ".c++",
   "mimetype": "text/x-c++src",
   "name": "c++"
  }
 },
 "nbformat": 4,
 "nbformat_minor": 5
}
