{
 "cells": [
  {
   "cell_type": "code",
   "execution_count": 33,
   "id": "070b69f8",
   "metadata": {},
   "outputs": [
    {
     "data": {
      "text/plain": []
     },
     "execution_count": 33,
     "metadata": {},
     "output_type": "execute_result"
    }
   ],
   "source": [
    "#include <type_traits>\n",
    "#include <mutex>\n",
    "#include <limits>\n",
    "#include <initializer_list>\n",
    "#include <vector>\n",
    "#include <numbers>\n",
    "#include <array>"
   ]
  },
  {
   "cell_type": "markdown",
   "id": "dc431111",
   "metadata": {},
   "source": [
    "## 6.1 constexpr variable"
   ]
  },
  {
   "cell_type": "code",
   "execution_count": 2,
   "id": "d6d50e34",
   "metadata": {},
   "outputs": [
    {
     "data": {
      "text/plain": []
     },
     "execution_count": 2,
     "metadata": {},
     "output_type": "execute_result"
    }
   ],
   "source": [
    "constexpr double PI = 3.1415926535;\n",
    "constexpr auto area = PI * 2.0 * 2.0;"
   ]
  },
  {
   "cell_type": "code",
   "execution_count": 3,
   "id": "83fe755b",
   "metadata": {},
   "outputs": [
    {
     "data": {
      "text/plain": []
     },
     "execution_count": 3,
     "metadata": {},
     "output_type": "execute_result"
    }
   ],
   "source": [
    "template<typename T> \n",
    "constexpr bool is_integral_v = std::is_integral_v<T>;"
   ]
  },
  {
   "cell_type": "code",
   "execution_count": 4,
   "id": "65b3dbea",
   "metadata": {},
   "outputs": [
    {
     "data": {
      "text/plain": []
     },
     "execution_count": 4,
     "metadata": {},
     "output_type": "execute_result"
    }
   ],
   "source": [
    "static_assert( is_integral_v<int> );"
   ]
  },
  {
   "cell_type": "code",
   "execution_count": 5,
   "id": "183d11a9",
   "metadata": {},
   "outputs": [
    {
     "data": {
      "text/plain": []
     },
     "execution_count": 5,
     "metadata": {},
     "output_type": "execute_result"
    }
   ],
   "source": [
    "static_assert( not is_integral_v<void>);"
   ]
  },
  {
   "cell_type": "code",
   "execution_count": 6,
   "id": "068ae12f",
   "metadata": {},
   "outputs": [
    {
     "data": {
      "text/plain": []
     },
     "execution_count": 6,
     "metadata": {},
     "output_type": "execute_result"
    }
   ],
   "source": [
    "template<char c>\n",
    "constexpr bool is_digit = (c >= '0' and c <= '9');"
   ]
  },
  {
   "cell_type": "code",
   "execution_count": 7,
   "id": "cdc1254c",
   "metadata": {},
   "outputs": [
    {
     "data": {
      "text/plain": []
     },
     "execution_count": 7,
     "metadata": {},
     "output_type": "execute_result"
    }
   ],
   "source": [
    "static_assert(is_digit<'0'>);"
   ]
  },
  {
   "cell_type": "code",
   "execution_count": 8,
   "id": "db9b7caa",
   "metadata": {},
   "outputs": [
    {
     "data": {
      "text/plain": []
     },
     "execution_count": 8,
     "metadata": {},
     "output_type": "execute_result"
    }
   ],
   "source": [
    "static_assert(not is_digit<'x'>);"
   ]
  },
  {
   "cell_type": "markdown",
   "id": "63b26e43",
   "metadata": {},
   "source": [
    "## 6.2 constinit"
   ]
  },
  {
   "cell_type": "code",
   "execution_count": 9,
   "id": "27b6d2a0",
   "metadata": {},
   "outputs": [
    {
     "data": {
      "text/plain": []
     },
     "execution_count": 9,
     "metadata": {},
     "output_type": "execute_result"
    }
   ],
   "source": [
    "// constinit std::mutex g_mtx;"
   ]
  },
  {
   "cell_type": "markdown",
   "id": "dbcfa797",
   "metadata": {},
   "source": [
    "constinit is not supported Cling with gcc 12.2.0 on Debian."
   ]
  },
  {
   "cell_type": "markdown",
   "id": "66c1db90",
   "metadata": {},
   "source": [
    "## 6.3 fold expression"
   ]
  },
  {
   "cell_type": "code",
   "execution_count": 10,
   "id": "72a9a332",
   "metadata": {},
   "outputs": [
    {
     "data": {
      "text/plain": []
     },
     "execution_count": 10,
     "metadata": {},
     "output_type": "execute_result"
    }
   ],
   "source": [
    "template<size_t...Is>\n",
    "constexpr size_t rsum = (Is + ... + 0);\n",
    "template<size_t...Is>\n",
    "constexpr size_t lsum = (0 + ... + Is);"
   ]
  },
  {
   "cell_type": "code",
   "execution_count": 11,
   "id": "87ca3266",
   "metadata": {},
   "outputs": [
    {
     "data": {
      "text/plain": [
       "(const unsigned long) 100\n"
      ]
     },
     "execution_count": 11,
     "metadata": {},
     "output_type": "execute_result"
    }
   ],
   "source": [
    "lsum<100>"
   ]
  },
  {
   "cell_type": "code",
   "execution_count": 12,
   "id": "3877a905",
   "metadata": {},
   "outputs": [
    {
     "data": {
      "text/plain": [
       "(const unsigned long) 101\n"
      ]
     },
     "execution_count": 12,
     "metadata": {},
     "output_type": "execute_result"
    }
   ],
   "source": [
    "lsum<100, 1>"
   ]
  },
  {
   "cell_type": "code",
   "execution_count": 13,
   "id": "772eda2b",
   "metadata": {},
   "outputs": [
    {
     "data": {
      "text/plain": [
       "(const unsigned long) 101\n"
      ]
     },
     "execution_count": 13,
     "metadata": {},
     "output_type": "execute_result"
    }
   ],
   "source": [
    "rsum<1, 100>"
   ]
  },
  {
   "cell_type": "code",
   "execution_count": 14,
   "id": "716c2f05",
   "metadata": {},
   "outputs": [
    {
     "data": {
      "text/plain": []
     },
     "execution_count": 14,
     "metadata": {},
     "output_type": "execute_result"
    }
   ],
   "source": [
    "template<size_t...Is>\n",
    "constexpr int rsub = ( Is - ... - 0);\n",
    "template<size_t...Is>\n",
    "constexpr int lsub = (0 - ... - Is);"
   ]
  },
  {
   "cell_type": "code",
   "execution_count": 15,
   "id": "e9857dc8",
   "metadata": {},
   "outputs": [
    {
     "data": {
      "text/plain": [
       "(const int) 100\n"
      ]
     },
     "execution_count": 15,
     "metadata": {},
     "output_type": "execute_result"
    }
   ],
   "source": [
    "rsub<100>"
   ]
  },
  {
   "cell_type": "code",
   "execution_count": 16,
   "id": "733bad1b",
   "metadata": {},
   "outputs": [
    {
     "data": {
      "text/plain": [
       "(const int) -100\n"
      ]
     },
     "execution_count": 16,
     "metadata": {},
     "output_type": "execute_result"
    }
   ],
   "source": [
    "lsub<100>"
   ]
  },
  {
   "cell_type": "code",
   "execution_count": 17,
   "id": "95dd912d",
   "metadata": {},
   "outputs": [
    {
     "data": {
      "text/plain": [
       "(const int) 90\n"
      ]
     },
     "execution_count": 17,
     "metadata": {},
     "output_type": "execute_result"
    }
   ],
   "source": [
    "rsub<100, 10>"
   ]
  },
  {
   "cell_type": "code",
   "execution_count": 18,
   "id": "10539721",
   "metadata": {},
   "outputs": [
    {
     "data": {
      "text/plain": [
       "(const int) -110\n"
      ]
     },
     "execution_count": 18,
     "metadata": {},
     "output_type": "execute_result"
    }
   ],
   "source": [
    "lsub<100, 10>"
   ]
  },
  {
   "cell_type": "markdown",
   "id": "6124983b",
   "metadata": {},
   "source": [
    "## 6.4 constexpr function"
   ]
  },
  {
   "cell_type": "code",
   "execution_count": 19,
   "id": "c9185850",
   "metadata": {},
   "outputs": [
    {
     "data": {
      "text/plain": []
     },
     "execution_count": 19,
     "metadata": {},
     "output_type": "execute_result"
    }
   ],
   "source": [
    "constexpr int min(std::initializer_list<int> xs){\n",
    "    int low = std::numeric_limits<int>::max();\n",
    "    for(auto x : xs){\n",
    "        if(x < low){\n",
    "            low = x;\n",
    "        }\n",
    "    }\n",
    "    return low;\n",
    "}"
   ]
  },
  {
   "cell_type": "code",
   "execution_count": 20,
   "id": "07189d18",
   "metadata": {},
   "outputs": [
    {
     "data": {
      "text/plain": [
       "(int) 1\n"
      ]
     },
     "execution_count": 20,
     "metadata": {},
     "output_type": "execute_result"
    }
   ],
   "source": [
    "min({1,1,3,4});"
   ]
  },
  {
   "cell_type": "markdown",
   "id": "f1615442",
   "metadata": {},
   "source": [
    "It seems cling does not support `consteval`:\n",
    "```C++\n",
    "consteval int min_eval(std::initializer_list<int> xs){\n",
    "    int low = std::numeric_limits<int>::max();\n",
    "    for(auto x : xs){\n",
    "        if(x < low){\n",
    "            low = x;\n",
    "        }\n",
    "    }\n",
    "    return low;\n",
    "}\n",
    "```"
   ]
  },
  {
   "cell_type": "markdown",
   "id": "6221cc4b",
   "metadata": {},
   "source": [
    "Compilation time allocated memory should be freed before the end of compilation."
   ]
  },
  {
   "cell_type": "markdown",
   "id": "53027ad6",
   "metadata": {},
   "source": [
    "```C++\n",
    "#include <vector>\n",
    "#include <array>\n",
    "#include <iostream>\n",
    "\n",
    "constexpr std::vector<int> sievePrime(int n){\n",
    "    std::vector<bool> marked(n+1, true);\n",
    "    for(int p = 2; p * p < n; ++p){\n",
    "        if(marked[p]){\n",
    "            for(int i = p * p; i <= n; i += p){\n",
    "                marked[i] = false;\n",
    "            }\n",
    "        }\n",
    "    }\n",
    "    \n",
    "    std::vector<int> result;\n",
    "    for(int p = 2; p < n; ++p){\n",
    "        if(marked[p]){\n",
    "            result.push_back(p);\n",
    "        }\n",
    "    }\n",
    "    return result;\n",
    "}\n",
    "\n",
    "constexpr std::size_t primeCount(int n){\n",
    "    return sievePrime(n).size();\n",
    "}\n",
    "\n",
    "template<int n>\n",
    "consteval auto savePrimeToArray(){\n",
    "    std::array<int, primeCount(n)> result;\n",
    "    auto primes = sievePrime(n);\n",
    "    std::copy(primes.begin(), primes.end(), result.begin());\n",
    "    return result;\n",
    "}\n",
    "\n",
    "int main(void){\n",
    "    static_assert(primeCount(100) == 25);\n",
    "    auto primes = savePrimeToArray<100>();\n",
    "    for(auto e: primes){\n",
    "        std::cout << e << std::endl;\n",
    "    }\n",
    "}\n",
    "```"
   ]
  },
  {
   "cell_type": "code",
   "execution_count": 27,
   "id": "0c85a306",
   "metadata": {},
   "outputs": [
    {
     "data": {
      "text/plain": []
     },
     "execution_count": 27,
     "metadata": {},
     "output_type": "execute_result"
    }
   ],
   "source": [
    "struct Shape{\n",
    "    virtual ~Shape() = default;\n",
    "    virtual double getArea() const = 0;\n",
    "};"
   ]
  },
  {
   "cell_type": "code",
   "execution_count": 29,
   "id": "25a7b30b",
   "metadata": {},
   "outputs": [
    {
     "data": {
      "text/plain": []
     },
     "execution_count": 29,
     "metadata": {},
     "output_type": "execute_result"
    }
   ],
   "source": [
    "struct Circle : Shape{\n",
    "    constexpr Circle(double r) : r_(r){}\n",
    "    constexpr double getArea() const override{\n",
    "        return std::numbers::pi * r_ * r_;\n",
    "    }\n",
    "private:\n",
    "    double r_;\n",
    "}"
   ]
  },
  {
   "cell_type": "code",
   "execution_count": 30,
   "id": "752463f6",
   "metadata": {},
   "outputs": [
    {
     "data": {
      "text/plain": []
     },
     "execution_count": 30,
     "metadata": {},
     "output_type": "execute_result"
    }
   ],
   "source": [
    "struct Rectangle : Shape{\n",
    "    constexpr Rectangle(double l, double w) : l_(l), w_(w){\n",
    "    \n",
    "    }\n",
    "    constexpr double getArea() const override{\n",
    "        return l_ * w_;\n",
    "    }\n",
    "private:\n",
    "    double l_;\n",
    "    double w_;\n",
    "}"
   ]
  },
  {
   "cell_type": "code",
   "execution_count": 34,
   "id": "5946f218",
   "metadata": {},
   "outputs": [
    {
     "data": {
      "text/plain": []
     },
     "execution_count": 34,
     "metadata": {},
     "output_type": "execute_result"
    }
   ],
   "source": [
    "constexpr double testSubType(){\n",
    "    std::array<Shape*, 2> shapes{\n",
    "        new Circle(10), new Rectangle(3, 5)\n",
    "    };\n",
    "    double sum = 0.0;\n",
    "    for(auto s : shapes){\n",
    "        sum += s->getArea();\n",
    "        delete s;\n",
    "    }\n",
    "    return sum;\n",
    "}"
   ]
  },
  {
   "cell_type": "code",
   "execution_count": 35,
   "id": "f0563e70",
   "metadata": {},
   "outputs": [
    {
     "data": {
      "text/plain": [
       "(double) 329.15927\n"
      ]
     },
     "execution_count": 35,
     "metadata": {},
     "output_type": "execute_result"
    }
   ],
   "source": [
    "testSubType()"
   ]
  },
  {
   "cell_type": "code",
   "execution_count": 37,
   "id": "77e15d53",
   "metadata": {},
   "outputs": [
    {
     "data": {
      "text/plain": []
     },
     "execution_count": 37,
     "metadata": {},
     "output_type": "execute_result"
    }
   ],
   "source": [
    "constexpr double testDynamicCast(){\n",
    "    std::array<Shape*, 2> shapes{\n",
    "        new Circle(10), new Rectangle(3, 5)\n",
    "    };\n",
    "    double sum = 0.0;\n",
    "    for(auto s : shapes){\n",
    "        if(auto rec = dynamic_cast<Rectangle*>(s)){\n",
    "            sum += rec->getArea();\n",
    "        }\n",
    "        delete s;\n",
    "    }\n",
    "    return sum;\n",
    "}"
   ]
  },
  {
   "cell_type": "code",
   "execution_count": 38,
   "id": "387aca17",
   "metadata": {},
   "outputs": [
    {
     "data": {
      "text/plain": [
       "(double) 15.000000\n"
      ]
     },
     "execution_count": 38,
     "metadata": {},
     "output_type": "execute_result"
    }
   ],
   "source": [
    "testDynamicCast()"
   ]
  },
  {
   "cell_type": "code",
   "execution_count": null,
   "id": "db9b309a",
   "metadata": {},
   "outputs": [],
   "source": []
  }
 ],
 "metadata": {
  "kernelspec": {
   "display_name": "C++2b",
   "language": "C++",
   "name": "cling-cpp2b"
  },
  "language_info": {
   "codemirror_mode": "c++",
   "file_extension": ".c++",
   "mimetype": "text/x-c++src",
   "name": "c++"
  }
 },
 "nbformat": 4,
 "nbformat_minor": 5
}
