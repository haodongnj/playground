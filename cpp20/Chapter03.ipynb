{
 "cells": [
  {
   "cell_type": "code",
   "execution_count": 1,
   "id": "d07df8a9",
   "metadata": {},
   "outputs": [
    {
     "data": {
      "text/plain": []
     },
     "execution_count": 1,
     "metadata": {},
     "output_type": "execute_result"
    }
   ],
   "source": [
    "#include <concepts>\n",
    "#include <iostream>\n",
    "#include <vector>"
   ]
  },
  {
   "cell_type": "markdown",
   "id": "e4653d27",
   "metadata": {},
   "source": [
    "## 3.1 concept"
   ]
  },
  {
   "cell_type": "code",
   "execution_count": 2,
   "id": "1c3931e1",
   "metadata": {},
   "outputs": [
    {
     "data": {
      "text/plain": []
     },
     "execution_count": 2,
     "metadata": {},
     "output_type": "execute_result"
    }
   ],
   "source": [
    "template<typename T> \n",
    "concept is_integral = std::is_integral_v<T>;"
   ]
  },
  {
   "cell_type": "code",
   "execution_count": 3,
   "id": "c56e9c68",
   "metadata": {},
   "outputs": [
    {
     "name": "stdout",
     "output_type": "stream",
     "text": [
      "1\n"
     ]
    },
    {
     "data": {
      "text/plain": [
       "(std::basic_ostream<char, std::char_traits<char> >::__ostream_type &) @0x7f9b1e417500\n"
      ]
     },
     "execution_count": 3,
     "metadata": {},
     "output_type": "execute_result"
    }
   ],
   "source": [
    "std::cout << is_integral<int> << std::endl;"
   ]
  },
  {
   "cell_type": "code",
   "execution_count": 4,
   "id": "94b87039",
   "metadata": {},
   "outputs": [
    {
     "name": "stdout",
     "output_type": "stream",
     "text": [
      "0\n"
     ]
    },
    {
     "data": {
      "text/plain": [
       "(std::basic_ostream<char, std::char_traits<char> >::__ostream_type &) @0x7f9b1e417500\n"
      ]
     },
     "execution_count": 4,
     "metadata": {},
     "output_type": "execute_result"
    }
   ],
   "source": [
    "std::cout << is_integral<double> << std::endl;"
   ]
  },
  {
   "cell_type": "code",
   "execution_count": 5,
   "id": "81b86e3d",
   "metadata": {},
   "outputs": [
    {
     "data": {
      "text/plain": []
     },
     "execution_count": 5,
     "metadata": {},
     "output_type": "execute_result"
    }
   ],
   "source": [
    "template<typename T> \n",
    "concept is_floating_point = std::is_floating_point_v<T>;"
   ]
  },
  {
   "cell_type": "code",
   "execution_count": 6,
   "id": "0a116567",
   "metadata": {},
   "outputs": [
    {
     "data": {
      "text/plain": []
     },
     "execution_count": 6,
     "metadata": {},
     "output_type": "execute_result"
    }
   ],
   "source": [
    "template<typename T>\n",
    "concept is_real = is_integral<T> || is_floating_point<T>;"
   ]
  },
  {
   "cell_type": "code",
   "execution_count": 7,
   "id": "e3a25934",
   "metadata": {},
   "outputs": [
    {
     "data": {
      "text/plain": [
       "(bool) true\n"
      ]
     },
     "execution_count": 7,
     "metadata": {},
     "output_type": "execute_result"
    }
   ],
   "source": [
    "is_real<decltype(0.0)>"
   ]
  },
  {
   "cell_type": "code",
   "execution_count": 8,
   "id": "0c01ce26",
   "metadata": {},
   "outputs": [
    {
     "data": {
      "text/plain": [
       "(bool) true\n"
      ]
     },
     "execution_count": 8,
     "metadata": {},
     "output_type": "execute_result"
    }
   ],
   "source": [
    "is_real<decltype(1)> "
   ]
  },
  {
   "cell_type": "code",
   "execution_count": 9,
   "id": "e0e02346",
   "metadata": {},
   "outputs": [
    {
     "data": {
      "text/plain": []
     },
     "execution_count": 9,
     "metadata": {},
     "output_type": "execute_result"
    }
   ],
   "source": [
    "template<typename T>\n",
    "concept is_not_real = ! is_real<T>;"
   ]
  },
  {
   "cell_type": "code",
   "execution_count": 10,
   "id": "155ed4df",
   "metadata": {},
   "outputs": [
    {
     "data": {
      "text/plain": [
       "(bool) false\n"
      ]
     },
     "execution_count": 10,
     "metadata": {},
     "output_type": "execute_result"
    }
   ],
   "source": [
    "is_not_real<decltype(1)>"
   ]
  },
  {
   "cell_type": "code",
   "execution_count": 11,
   "id": "034e1682",
   "metadata": {},
   "outputs": [
    {
     "data": {
      "text/plain": [
       "(bool) true\n"
      ]
     },
     "execution_count": 11,
     "metadata": {},
     "output_type": "execute_result"
    }
   ],
   "source": [
    "is_not_real<decltype(std::true_type{})>"
   ]
  },
  {
   "cell_type": "markdown",
   "id": "ac1bb4f0",
   "metadata": {},
   "source": [
    "## 3.2 requires"
   ]
  },
  {
   "cell_type": "code",
   "execution_count": 12,
   "id": "312df5f6",
   "metadata": {},
   "outputs": [
    {
     "data": {
      "text/plain": []
     },
     "execution_count": 12,
     "metadata": {},
     "output_type": "execute_result"
    }
   ],
   "source": [
    "template<typename M>\n",
    "concept Machine = requires(M m){\n",
    "    m.powerUp();\n",
    "    m.powerDown();\n",
    "};"
   ]
  },
  {
   "cell_type": "code",
   "execution_count": 13,
   "id": "8b24cc05",
   "metadata": {},
   "outputs": [
    {
     "data": {
      "text/plain": []
     },
     "execution_count": 13,
     "metadata": {},
     "output_type": "execute_result"
    }
   ],
   "source": [
    "struct motor{\n",
    "    void powerUp(){};\n",
    "    void powerDown(){};\n",
    "};"
   ]
  },
  {
   "cell_type": "code",
   "execution_count": 14,
   "id": "e35d72a5",
   "metadata": {},
   "outputs": [
    {
     "data": {
      "text/plain": [
       "(bool) true\n"
      ]
     },
     "execution_count": 14,
     "metadata": {},
     "output_type": "execute_result"
    }
   ],
   "source": [
    "Machine<motor>;"
   ]
  },
  {
   "cell_type": "code",
   "execution_count": 15,
   "id": "e997bfa6",
   "metadata": {},
   "outputs": [
    {
     "data": {
      "text/plain": []
     },
     "execution_count": 15,
     "metadata": {},
     "output_type": "execute_result"
    }
   ],
   "source": [
    "struct Toy{\n",
    "    double powerUp(){return 1.0;};\n",
    "    double powerDown(){return 0;};\n",
    "};"
   ]
  },
  {
   "cell_type": "code",
   "execution_count": 16,
   "id": "289e9dd7",
   "metadata": {},
   "outputs": [
    {
     "data": {
      "text/plain": [
       "(bool) true\n"
      ]
     },
     "execution_count": 16,
     "metadata": {},
     "output_type": "execute_result"
    }
   ],
   "source": [
    "Machine<Toy>;"
   ]
  },
  {
   "cell_type": "code",
   "execution_count": 17,
   "id": "d659e76c",
   "metadata": {},
   "outputs": [
    {
     "data": {
      "text/plain": []
     },
     "execution_count": 17,
     "metadata": {},
     "output_type": "execute_result"
    }
   ],
   "source": [
    "template<typename T>\n",
    "concept C = requires{\n",
    "    typename T::type;\n",
    "    typename std::vector<T>;\n",
    "};"
   ]
  },
  {
   "cell_type": "code",
   "execution_count": 18,
   "id": "8b54bbb9",
   "metadata": {},
   "outputs": [
    {
     "data": {
      "text/plain": []
     },
     "execution_count": 18,
     "metadata": {},
     "output_type": "execute_result"
    }
   ],
   "source": [
    "struct Foo{ using type = float; };"
   ]
  },
  {
   "cell_type": "code",
   "execution_count": 19,
   "id": "29f5889d",
   "metadata": {},
   "outputs": [
    {
     "data": {
      "text/plain": [
       "(bool) true\n"
      ]
     },
     "execution_count": 19,
     "metadata": {},
     "output_type": "execute_result"
    }
   ],
   "source": [
    "C<Foo>;"
   ]
  },
  {
   "cell_type": "code",
   "execution_count": 20,
   "id": "03d78f40",
   "metadata": {},
   "outputs": [
    {
     "data": {
      "text/plain": [
       "(unsigned long) 1\n"
      ]
     },
     "execution_count": 20,
     "metadata": {},
     "output_type": "execute_result"
    }
   ],
   "source": [
    "sizeof(Foo);"
   ]
  },
  {
   "cell_type": "code",
   "execution_count": 21,
   "id": "6259eac8",
   "metadata": {},
   "outputs": [
    {
     "data": {
      "text/plain": []
     },
     "execution_count": 21,
     "metadata": {},
     "output_type": "execute_result"
    }
   ],
   "source": [
    "template<typename T>\n",
    "concept Movable = requires(T a, T b){\n",
    "    { a = std::move(b) } noexcept ;\n",
    "};"
   ]
  },
  {
   "cell_type": "code",
   "execution_count": 22,
   "id": "11a1dd95",
   "metadata": {},
   "outputs": [
    {
     "data": {
      "text/plain": [
       "(bool) true\n"
      ]
     },
     "execution_count": 22,
     "metadata": {},
     "output_type": "execute_result"
    }
   ],
   "source": [
    "Movable<std::vector<float>>"
   ]
  },
  {
   "cell_type": "code",
   "execution_count": 23,
   "id": "04c8c0a3",
   "metadata": {},
   "outputs": [
    {
     "data": {
      "text/plain": []
     },
     "execution_count": 23,
     "metadata": {},
     "output_type": "execute_result"
    }
   ],
   "source": [
    "template<typename T> \n",
    "concept C1  = requires(T t){\n",
    "    {t.f()} -> std::same_as<int>;\n",
    "    {t.g()} -> std::convertible_to<double>;\n",
    "};"
   ]
  },
  {
   "cell_type": "code",
   "execution_count": 24,
   "id": "77a253dc",
   "metadata": {},
   "outputs": [
    {
     "data": {
      "text/plain": []
     },
     "execution_count": 24,
     "metadata": {},
     "output_type": "execute_result"
    }
   ],
   "source": [
    "struct Bar{\n",
    "    int f(){return 1;};\n",
    "    double g(){return 0.0;};\n",
    "};"
   ]
  },
  {
   "cell_type": "code",
   "execution_count": 25,
   "id": "06f96e09",
   "metadata": {},
   "outputs": [
    {
     "data": {
      "text/plain": [
       "(bool) true\n"
      ]
     },
     "execution_count": 25,
     "metadata": {},
     "output_type": "execute_result"
    }
   ],
   "source": [
    "C1<Bar>"
   ]
  },
  {
   "cell_type": "code",
   "execution_count": 26,
   "id": "d308bd0f",
   "metadata": {},
   "outputs": [
    {
     "data": {
      "text/plain": []
     },
     "execution_count": 26,
     "metadata": {},
     "output_type": "execute_result"
    }
   ],
   "source": [
    "template<typename T>\n",
    "concept C2 = requires(T t){\n",
    "    t.f();\n",
    "    requires std::same_as<decltype((t.f())),int>;\n",
    "    t.g();\n",
    "    requires std::convertible_to<decltype((t.g())), double>;\n",
    "};"
   ]
  },
  {
   "cell_type": "code",
   "execution_count": 27,
   "id": "6aa72601",
   "metadata": {},
   "outputs": [
    {
     "data": {
      "text/plain": [
       "(bool) true\n"
      ]
     },
     "execution_count": 27,
     "metadata": {},
     "output_type": "execute_result"
    }
   ],
   "source": [
    "C2<Bar> "
   ]
  },
  {
   "cell_type": "code",
   "execution_count": 28,
   "id": "4ee41f57",
   "metadata": {},
   "outputs": [
    {
     "data": {
      "text/plain": []
     },
     "execution_count": 28,
     "metadata": {},
     "output_type": "execute_result"
    }
   ],
   "source": [
    "template<typename T> \n",
    "constexpr bool has_member_swap = requires(T a, T b){\n",
    "    a.swap(b);\n",
    "};"
   ]
  },
  {
   "cell_type": "code",
   "execution_count": 29,
   "id": "0ac820de",
   "metadata": {},
   "outputs": [
    {
     "data": {
      "text/plain": [
       "(const bool) true\n"
      ]
     },
     "execution_count": 29,
     "metadata": {},
     "output_type": "execute_result"
    }
   ],
   "source": [
    "has_member_swap<std::vector<float>>;"
   ]
  },
  {
   "cell_type": "code",
   "execution_count": 30,
   "id": "f2dd0be3",
   "metadata": {},
   "outputs": [
    {
     "data": {
      "text/plain": [
       "(const bool) false\n"
      ]
     },
     "execution_count": 30,
     "metadata": {},
     "output_type": "execute_result"
    }
   ],
   "source": [
    "has_member_swap<int>;"
   ]
  },
  {
   "cell_type": "markdown",
   "id": "673603e2",
   "metadata": {},
   "source": [
    "We get true or compilation time error when using `requires`."
   ]
  },
  {
   "cell_type": "code",
   "execution_count": 31,
   "id": "a39a18d1",
   "metadata": {},
   "outputs": [
    {
     "data": {
      "text/plain": []
     },
     "execution_count": 31,
     "metadata": {},
     "output_type": "execute_result"
    }
   ],
   "source": [
    "// constexpr bool has_int_member_swap = requires(int a, int b){\n",
    "//     a.swap(b);\n",
    "// };"
   ]
  },
  {
   "cell_type": "markdown",
   "id": "ede827bc",
   "metadata": {},
   "source": [
    "Below is a wrong case:"
   ]
  },
  {
   "cell_type": "code",
   "execution_count": 32,
   "id": "b87d7f7f",
   "metadata": {},
   "outputs": [
    {
     "data": {
      "text/plain": []
     },
     "execution_count": 32,
     "metadata": {},
     "output_type": "execute_result"
    }
   ],
   "source": [
    "template<size_t N> \n",
    "constexpr bool IsEven = requires{\n",
    "    N % 2 == 0;\n",
    "};"
   ]
  },
  {
   "cell_type": "code",
   "execution_count": 33,
   "id": "f160a947",
   "metadata": {},
   "outputs": [
    {
     "data": {
      "text/plain": [
       "(const bool) true\n"
      ]
     },
     "execution_count": 33,
     "metadata": {},
     "output_type": "execute_result"
    }
   ],
   "source": [
    "IsEven<2>"
   ]
  },
  {
   "cell_type": "code",
   "execution_count": 34,
   "id": "d72c979c",
   "metadata": {},
   "outputs": [
    {
     "data": {
      "text/plain": [
       "(const bool) true\n"
      ]
     },
     "execution_count": 34,
     "metadata": {},
     "output_type": "execute_result"
    }
   ],
   "source": [
    "IsEven<1>"
   ]
  },
  {
   "cell_type": "markdown",
   "id": "5cb51585",
   "metadata": {},
   "source": [
    "Below is a right case:"
   ]
  },
  {
   "cell_type": "code",
   "execution_count": 35,
   "id": "0fc3c163",
   "metadata": {},
   "outputs": [
    {
     "data": {
      "text/plain": []
     },
     "execution_count": 35,
     "metadata": {},
     "output_type": "execute_result"
    }
   ],
   "source": [
    "template<size_t N> \n",
    "constexpr bool Even = requires{\n",
    "    requires (N % 2 == 0);\n",
    "};"
   ]
  },
  {
   "cell_type": "code",
   "execution_count": 36,
   "id": "40022c58",
   "metadata": {},
   "outputs": [
    {
     "data": {
      "text/plain": [
       "(const bool) true\n"
      ]
     },
     "execution_count": 36,
     "metadata": {},
     "output_type": "execute_result"
    }
   ],
   "source": [
    "Even<2>"
   ]
  },
  {
   "cell_type": "code",
   "execution_count": 37,
   "id": "f4076b92",
   "metadata": {},
   "outputs": [
    {
     "data": {
      "text/plain": [
       "(const bool) false\n"
      ]
     },
     "execution_count": 37,
     "metadata": {},
     "output_type": "execute_result"
    }
   ],
   "source": [
    "Even<1>"
   ]
  },
  {
   "cell_type": "markdown",
   "id": "8f2696d5",
   "metadata": {},
   "source": [
    "Some mechanism like `SFINAE` is used here when requires leads to compilation time error."
   ]
  },
  {
   "cell_type": "code",
   "execution_count": 38,
   "id": "ba178074",
   "metadata": {},
   "outputs": [
    {
     "data": {
      "text/plain": []
     },
     "execution_count": 38,
     "metadata": {},
     "output_type": "execute_result"
    }
   ],
   "source": [
    "template <typename T> \n",
    "void clever_swap(T& a, T& b){\n",
    "    if constexpr (requires(T a, T b){a.swap(b);}){\n",
    "        a.swap(b);\n",
    "    }else{\n",
    "        std::swap(a, b);\n",
    "    }\n",
    "};"
   ]
  },
  {
   "cell_type": "code",
   "execution_count": 39,
   "id": "8724dcce",
   "metadata": {},
   "outputs": [
    {
     "data": {
      "text/plain": []
     },
     "execution_count": 39,
     "metadata": {},
     "output_type": "execute_result"
    }
   ],
   "source": [
    "std::vector v1{1}, v2{2};"
   ]
  },
  {
   "cell_type": "code",
   "execution_count": 40,
   "id": "7cc544b6",
   "metadata": {},
   "outputs": [
    {
     "data": {
      "text/plain": [
       "(void) @0x7f9b027fb030\n"
      ]
     },
     "execution_count": 40,
     "metadata": {},
     "output_type": "execute_result"
    }
   ],
   "source": [
    "clever_swap(v1, v2);"
   ]
  },
  {
   "cell_type": "code",
   "execution_count": 41,
   "id": "afa984e2",
   "metadata": {},
   "outputs": [
    {
     "data": {
      "text/plain": [
       "(std::vector<int, allocator<int> > &) { 2 }\n"
      ]
     },
     "execution_count": 41,
     "metadata": {},
     "output_type": "execute_result"
    }
   ],
   "source": [
    "v1"
   ]
  },
  {
   "cell_type": "code",
   "execution_count": 42,
   "id": "16b8b2be",
   "metadata": {},
   "outputs": [
    {
     "data": {
      "text/plain": [
       "(std::vector<int, allocator<int> > &) { 1 }\n"
      ]
     },
     "execution_count": 42,
     "metadata": {},
     "output_type": "execute_result"
    }
   ],
   "source": [
    "v2"
   ]
  },
  {
   "cell_type": "code",
   "execution_count": 43,
   "id": "5a28fed0",
   "metadata": {},
   "outputs": [
    {
     "data": {
      "text/plain": []
     },
     "execution_count": 43,
     "metadata": {},
     "output_type": "execute_result"
    }
   ],
   "source": [
    "int i1 = 1, i2 = 2;"
   ]
  },
  {
   "cell_type": "code",
   "execution_count": 44,
   "id": "96514a3e",
   "metadata": {},
   "outputs": [
    {
     "data": {
      "text/plain": [
       "(void) @0x7f9b027fb030\n"
      ]
     },
     "execution_count": 44,
     "metadata": {},
     "output_type": "execute_result"
    }
   ],
   "source": [
    "clever_swap(i1, i2);"
   ]
  },
  {
   "cell_type": "code",
   "execution_count": 45,
   "id": "3ebb56ba",
   "metadata": {},
   "outputs": [
    {
     "data": {
      "text/plain": [
       "(int) 2\n"
      ]
     },
     "execution_count": 45,
     "metadata": {},
     "output_type": "execute_result"
    }
   ],
   "source": [
    "i1"
   ]
  },
  {
   "cell_type": "code",
   "execution_count": 46,
   "id": "b5d03731",
   "metadata": {},
   "outputs": [
    {
     "data": {
      "text/plain": [
       "(int) 1\n"
      ]
     },
     "execution_count": 46,
     "metadata": {},
     "output_type": "execute_result"
    }
   ],
   "source": [
    "i2"
   ]
  },
  {
   "cell_type": "code",
   "execution_count": 47,
   "id": "c0c774f5",
   "metadata": {
    "scrolled": true
   },
   "outputs": [
    {
     "data": {
      "text/plain": []
     },
     "execution_count": 47,
     "metadata": {},
     "output_type": "execute_result"
    }
   ],
   "source": [
    "// template<typename T>\n",
    "// constexpr bool self_plus = requires (T v){\n",
    "//     requires (typename T::value_type x){++x;};\n",
    "// };"
   ]
  },
  {
   "cell_type": "markdown",
   "id": "acc12027",
   "metadata": {},
   "source": [
    "`(typename T::value_type x){++x;}` is not a valid bool expression."
   ]
  },
  {
   "cell_type": "code",
   "execution_count": 48,
   "id": "841fc0f2",
   "metadata": {},
   "outputs": [
    {
     "data": {
      "text/plain": []
     },
     "execution_count": 48,
     "metadata": {},
     "output_type": "execute_result"
    }
   ],
   "source": [
    "template<typename T>\n",
    "constexpr bool self_plus =  requires (T v){\n",
    "    requires requires (typename T::value_type x){++x;};\n",
    "};"
   ]
  },
  {
   "cell_type": "markdown",
   "id": "74bab788",
   "metadata": {},
   "source": [
    "GCC accept the code above and `self_plus<int>` below is false, we do not get a compilation time error."
   ]
  },
  {
   "cell_type": "code",
   "execution_count": 49,
   "id": "64b13261",
   "metadata": {},
   "outputs": [
    {
     "data": {
      "text/plain": [
       "(const bool) false\n"
      ]
     },
     "execution_count": 49,
     "metadata": {},
     "output_type": "execute_result"
    }
   ],
   "source": [
    "self_plus<int>"
   ]
  },
  {
   "cell_type": "code",
   "execution_count": 50,
   "id": "bc94313e",
   "metadata": {},
   "outputs": [
    {
     "data": {
      "text/plain": []
     },
     "execution_count": 50,
     "metadata": {},
     "output_type": "execute_result"
    }
   ],
   "source": [
    "struct Plus{\n",
    "    using value_type = int;\n",
    "};"
   ]
  },
  {
   "cell_type": "code",
   "execution_count": 51,
   "id": "777b4b63",
   "metadata": {},
   "outputs": [
    {
     "data": {
      "text/plain": [
       "(const bool) true\n"
      ]
     },
     "execution_count": 51,
     "metadata": {},
     "output_type": "execute_result"
    }
   ],
   "source": [
    "self_plus<Plus>"
   ]
  },
  {
   "cell_type": "markdown",
   "id": "598f2823",
   "metadata": {},
   "source": [
    "## 3.3 requires clause"
   ]
  },
  {
   "cell_type": "code",
   "execution_count": 52,
   "id": "a986a112",
   "metadata": {},
   "outputs": [
    {
     "data": {
      "text/plain": []
     },
     "execution_count": 52,
     "metadata": {},
     "output_type": "execute_result"
    }
   ],
   "source": [
    "template<typename T> \n",
    "requires std::is_integral_v<T>\n",
    "T simple_add(T a, T b){\n",
    "    return a + b;\n",
    "}"
   ]
  },
  {
   "cell_type": "code",
   "execution_count": 53,
   "id": "45e184b9",
   "metadata": {},
   "outputs": [
    {
     "data": {
      "text/plain": []
     },
     "execution_count": 53,
     "metadata": {},
     "output_type": "execute_result"
    }
   ],
   "source": [
    "// simple_add(1.0, 2.0);"
   ]
  },
  {
   "cell_type": "code",
   "execution_count": 54,
   "id": "2ac253b4",
   "metadata": {},
   "outputs": [
    {
     "data": {
      "text/plain": [
       "(int) 3\n"
      ]
     },
     "execution_count": 54,
     "metadata": {},
     "output_type": "execute_result"
    }
   ],
   "source": [
    "simple_add(1, 2);"
   ]
  },
  {
   "cell_type": "code",
   "execution_count": 55,
   "id": "7dc68178",
   "metadata": {},
   "outputs": [
    {
     "data": {
      "text/plain": []
     },
     "execution_count": 55,
     "metadata": {},
     "output_type": "execute_result"
    }
   ],
   "source": [
    "template<typename T>\n",
    "void f(T) {std::cout << \"2\" << std::endl;}\n",
    "\n",
    "template<typename T>\n",
    "requires std::is_trivial_v<T>\n",
    "void f(T) {std::cout << \"1\" << std::endl;}"
   ]
  },
  {
   "cell_type": "code",
   "execution_count": 56,
   "id": "f1ebaeda",
   "metadata": {},
   "outputs": [
    {
     "name": "stdout",
     "output_type": "stream",
     "text": [
      "1\n"
     ]
    },
    {
     "data": {
      "text/plain": [
       "(void) @0x7f9b027fb030\n"
      ]
     },
     "execution_count": 56,
     "metadata": {},
     "output_type": "execute_result"
    }
   ],
   "source": [
    "f(\"haha\");"
   ]
  },
  {
   "cell_type": "code",
   "execution_count": 57,
   "id": "db2db585",
   "metadata": {},
   "outputs": [
    {
     "name": "stdout",
     "output_type": "stream",
     "text": [
      "2\n"
     ]
    },
    {
     "data": {
      "text/plain": [
       "(void) @0x7f9b027fb030\n"
      ]
     },
     "execution_count": 57,
     "metadata": {},
     "output_type": "execute_result"
    }
   ],
   "source": [
    "f(std::vector<int>{});"
   ]
  },
  {
   "cell_type": "code",
   "execution_count": 58,
   "id": "fc162bc5",
   "metadata": {},
   "outputs": [
    {
     "name": "stdout",
     "output_type": "stream",
     "text": [
      "2\n"
     ]
    },
    {
     "data": {
      "text/plain": [
       "(void) @0x7f9b027fb030\n"
      ]
     },
     "execution_count": 58,
     "metadata": {},
     "output_type": "execute_result"
    }
   ],
   "source": [
    "f(std::vector<double>{});"
   ]
  },
  {
   "cell_type": "raw",
   "id": "73c2ef18",
   "metadata": {},
   "source": [
    "requires expression after a requires clause:"
   ]
  },
  {
   "cell_type": "code",
   "execution_count": 59,
   "id": "f7198b0f",
   "metadata": {},
   "outputs": [
    {
     "data": {
      "text/plain": []
     },
     "execution_count": 59,
     "metadata": {},
     "output_type": "execute_result"
    }
   ],
   "source": [
    "template<typename T>\n",
    "void PushSomeone(T& someone){\n",
    "    std::cout << \"Just do nothing and wait for end of workday.\" << std::endl;\n",
    "}\n",
    "\n",
    "template<typename T>\n",
    "requires requires(T worker){ worker.DoSomeWork();}\n",
    "void PushSomeone(T& someone){\n",
    "    someone.DoSomeWork();\n",
    "}"
   ]
  },
  {
   "cell_type": "code",
   "execution_count": 60,
   "id": "b811f6ed",
   "metadata": {},
   "outputs": [
    {
     "data": {
      "text/plain": []
     },
     "execution_count": 60,
     "metadata": {},
     "output_type": "execute_result"
    }
   ],
   "source": [
    "struct Worker{\n",
    "    void DoSomeWork(){\n",
    "        std::cout << \"Write some code.\" << std::endl;\n",
    "    }\n",
    "};\n",
    "\n",
    "struct LazyWorker{\n",
    "    \n",
    "};"
   ]
  },
  {
   "cell_type": "code",
   "execution_count": 61,
   "id": "56429dfc",
   "metadata": {},
   "outputs": [
    {
     "data": {
      "text/plain": []
     },
     "execution_count": 61,
     "metadata": {},
     "output_type": "execute_result"
    }
   ],
   "source": [
    "Worker worker;\n",
    "LazyWorker lazy_worker;"
   ]
  },
  {
   "cell_type": "code",
   "execution_count": 62,
   "id": "4dd0ad50",
   "metadata": {},
   "outputs": [
    {
     "name": "stdout",
     "output_type": "stream",
     "text": [
      "Write some code.\n"
     ]
    },
    {
     "data": {
      "text/plain": [
       "(void) @0x7f9b027fb030\n"
      ]
     },
     "execution_count": 62,
     "metadata": {},
     "output_type": "execute_result"
    }
   ],
   "source": [
    "PushSomeone(worker);"
   ]
  },
  {
   "cell_type": "code",
   "execution_count": 63,
   "id": "c3aeb6ac",
   "metadata": {},
   "outputs": [
    {
     "name": "stdout",
     "output_type": "stream",
     "text": [
      "Just do nothing and wait for end of workday.\n"
     ]
    },
    {
     "data": {
      "text/plain": [
       "(void) @0x7f9b027fb030\n"
      ]
     },
     "execution_count": 63,
     "metadata": {},
     "output_type": "execute_result"
    }
   ],
   "source": [
    "PushSomeone(lazy_worker);"
   ]
  },
  {
   "cell_type": "code",
   "execution_count": 64,
   "id": "6dc75fe4",
   "metadata": {},
   "outputs": [
    {
     "data": {
      "text/plain": []
     },
     "execution_count": 64,
     "metadata": {},
     "output_type": "execute_result"
    }
   ],
   "source": [
    "template<std::integral T, std::integral U>\n",
    "typename std::conditional_t<sizeof(T) >= sizeof(U), T, U> integral_plus(T t, U u){\n",
    "    return t + u;\n",
    "}"
   ]
  },
  {
   "cell_type": "code",
   "execution_count": 65,
   "id": "67ca469d",
   "metadata": {},
   "outputs": [
    {
     "data": {
      "text/plain": [
       "(int) 3\n"
      ]
     },
     "execution_count": 65,
     "metadata": {},
     "output_type": "execute_result"
    }
   ],
   "source": [
    "integral_plus(1, 2);"
   ]
  },
  {
   "cell_type": "code",
   "execution_count": 66,
   "id": "e83d10b0",
   "metadata": {},
   "outputs": [
    {
     "data": {
      "text/plain": [
       "(unsigned int) 3\n"
      ]
     },
     "execution_count": 66,
     "metadata": {},
     "output_type": "execute_result"
    }
   ],
   "source": [
    "integral_plus(1u, 2u);"
   ]
  },
  {
   "cell_type": "code",
   "execution_count": 67,
   "id": "33f9e492",
   "metadata": {},
   "outputs": [
    {
     "data": {
      "text/plain": [
       "(unsigned long) 3\n"
      ]
     },
     "execution_count": 67,
     "metadata": {},
     "output_type": "execute_result"
    }
   ],
   "source": [
    "uint8_t u1 = 1;\n",
    "uint64_t u2 = 2;\n",
    "integral_plus(u1, u2);"
   ]
  },
  {
   "cell_type": "markdown",
   "id": "5453a657",
   "metadata": {},
   "source": [
    "see generic lambda with concept:"
   ]
  },
  {
   "cell_type": "code",
   "execution_count": 68,
   "id": "94509db6",
   "metadata": {},
   "outputs": [
    {
     "data": {
      "text/plain": []
     },
     "execution_count": 68,
     "metadata": {},
     "output_type": "execute_result"
    }
   ],
   "source": [
    "auto integral_plus_lambda = [](std::integral auto a, std::integral auto b){\n",
    "    return a + b;\n",
    "};"
   ]
  },
  {
   "cell_type": "code",
   "execution_count": 69,
   "id": "67b4071c",
   "metadata": {},
   "outputs": [
    {
     "data": {
      "text/plain": []
     },
     "execution_count": 69,
     "metadata": {},
     "output_type": "execute_result"
    }
   ],
   "source": [
    "// integral_plus_lambda(1, 2);"
   ]
  },
  {
   "cell_type": "markdown",
   "id": "ddc7fa2e",
   "metadata": {},
   "source": [
    "code above does not compile and it compiles ok on Compiler Explorer:\n",
    "```C++\n",
    "#include <concepts>\n",
    "#include <iostream> \n",
    "\n",
    "\n",
    "auto integral_plus_lambda = [](std::integral auto a, std::integral auto b){\n",
    "    return a + b;\n",
    "};\n",
    "\n",
    "\n",
    "int main(){\n",
    "    std::cout << integral_plus_lambda(1, 2) << std::endl;\n",
    "}\n",
    "```"
   ]
  },
  {
   "cell_type": "markdown",
   "id": "e678f1ff",
   "metadata": {},
   "source": [
    "For more specific member function generation in template, requires overperform std::enable_if_t:"
   ]
  },
  {
   "cell_type": "code",
   "execution_count": 70,
   "id": "782b1e03",
   "metadata": {},
   "outputs": [
    {
     "data": {
      "text/plain": []
     },
     "execution_count": 70,
     "metadata": {},
     "output_type": "execute_result"
    }
   ],
   "source": [
    "template <typename T>\n",
    "struct Wrapper{\n",
    "    T value_;\n",
    "    void operator()() requires std::is_invocable_v<T> {\n",
    "        value_();\n",
    "    }\n",
    "    void reset(T v) {value_ = v;}\n",
    "};"
   ]
  },
  {
   "cell_type": "code",
   "execution_count": 71,
   "id": "b0bc9610",
   "metadata": {},
   "outputs": [
    {
     "data": {
      "text/plain": []
     },
     "execution_count": 71,
     "metadata": {},
     "output_type": "execute_result"
    }
   ],
   "source": [
    "Wrapper<int> wi;"
   ]
  },
  {
   "cell_type": "code",
   "execution_count": 72,
   "id": "e028eef4",
   "metadata": {},
   "outputs": [
    {
     "name": "stdout",
     "output_type": "stream",
     "text": [
      "0\n",
      "1\n"
     ]
    },
    {
     "data": {
      "text/plain": [
       "(std::basic_ostream<char, std::char_traits<char> >::__ostream_type &) @0x7f9b1e417500\n"
      ]
     },
     "execution_count": 72,
     "metadata": {},
     "output_type": "execute_result"
    }
   ],
   "source": [
    "std::cout << wi.value_ << std::endl;\n",
    "wi.reset(1);\n",
    "std::cout << wi.value_ << std::endl;"
   ]
  },
  {
   "cell_type": "code",
   "execution_count": 73,
   "id": "4b8080d0",
   "metadata": {},
   "outputs": [
    {
     "data": {
      "text/plain": []
     },
     "execution_count": 73,
     "metadata": {},
     "output_type": "execute_result"
    }
   ],
   "source": [
    "// wi();"
   ]
  },
  {
   "cell_type": "code",
   "execution_count": 74,
   "id": "0e6f52d2",
   "metadata": {},
   "outputs": [
    {
     "data": {
      "text/plain": []
     },
     "execution_count": 74,
     "metadata": {},
     "output_type": "execute_result"
    }
   ],
   "source": [
    "struct SaySomething{\n",
    "    void operator()(){\n",
    "        std::cout << \"Something\" << std::endl;\n",
    "    }\n",
    "};"
   ]
  },
  {
   "cell_type": "code",
   "execution_count": 75,
   "id": "739eda90",
   "metadata": {},
   "outputs": [
    {
     "data": {
      "text/plain": []
     },
     "execution_count": 75,
     "metadata": {},
     "output_type": "execute_result"
    }
   ],
   "source": [
    "Wrapper<SaySomething> ws;"
   ]
  },
  {
   "cell_type": "code",
   "execution_count": 76,
   "id": "3da49b23",
   "metadata": {},
   "outputs": [
    {
     "data": {
      "text/plain": []
     },
     "execution_count": 76,
     "metadata": {},
     "output_type": "execute_result"
    }
   ],
   "source": [
    "// ws();"
   ]
  },
  {
   "cell_type": "code",
   "execution_count": 77,
   "id": "e4146a62",
   "metadata": {},
   "outputs": [
    {
     "data": {
      "text/plain": []
     },
     "execution_count": 77,
     "metadata": {},
     "output_type": "execute_result"
    }
   ],
   "source": [
    "// std::is_invocable_v<SaySomething> "
   ]
  },
  {
   "cell_type": "markdown",
   "id": "2708ba93",
   "metadata": {},
   "source": [
    "There is something wrong with the 2 above cells and the code below compiles in Compiler Explorer:\n",
    "```C++\n",
    "#include <concepts>\n",
    "#include <iostream> \n",
    "\n",
    "template <typename T>\n",
    "struct Wrapper{\n",
    "    T value_;\n",
    "    void operator()() requires std::is_invocable_v<T> {\n",
    "        value_();\n",
    "    }\n",
    "    void reset(T v) {value_ = v;}\n",
    "};\n",
    "\n",
    "struct SaySomething{\n",
    "    void operator()(){\n",
    "        std::cout << \"Something\" << std::endl;\n",
    "    }\n",
    "};\n",
    "\n",
    "int main(){\n",
    "    std::cout << std::is_invocable_v<SaySomething>  << std::endl;\n",
    "    Wrapper<SaySomething> ws;\n",
    "    ws();\n",
    "}\n",
    "```"
   ]
  },
  {
   "cell_type": "markdown",
   "id": "4b7bafb9",
   "metadata": {},
   "source": [
    "## 3.4 partial ordering rules for concept constraint"
   ]
  },
  {
   "cell_type": "code",
   "execution_count": null,
   "id": "3b0d1104",
   "metadata": {},
   "outputs": [],
   "source": []
  }
 ],
 "metadata": {
  "kernelspec": {
   "display_name": "C++20",
   "language": "C++",
   "name": "cling-cpp20"
  },
  "language_info": {
   "codemirror_mode": "c++",
   "file_extension": ".c++",
   "mimetype": "text/x-c++src",
   "name": "c++"
  }
 },
 "nbformat": 4,
 "nbformat_minor": 5
}
