{
 "cells": [
  {
   "cell_type": "markdown",
   "id": "9aa092bc",
   "metadata": {},
   "source": [
    "## 5.1 template vs macro"
   ]
  },
  {
   "cell_type": "code",
   "execution_count": 1,
   "id": "ff9bd332",
   "metadata": {},
   "outputs": [
    {
     "data": {
      "text/plain": []
     },
     "execution_count": 1,
     "metadata": {},
     "output_type": "execute_result"
    }
   ],
   "source": [
    "#define MAX(x, y) (((x) > (y)) ? (x) : (y))"
   ]
  },
  {
   "cell_type": "code",
   "execution_count": 2,
   "id": "df61a067",
   "metadata": {},
   "outputs": [
    {
     "data": {
      "text/plain": [
       "(int) 2\n"
      ]
     },
     "execution_count": 2,
     "metadata": {},
     "output_type": "execute_result"
    }
   ],
   "source": [
    "int a = 0;\n",
    "int b = 1;\n",
    "MAX(a++, b++)"
   ]
  },
  {
   "cell_type": "code",
   "execution_count": 3,
   "id": "0ba7613b",
   "metadata": {},
   "outputs": [
    {
     "data": {
      "text/plain": []
     },
     "execution_count": 3,
     "metadata": {},
     "output_type": "execute_result"
    }
   ],
   "source": [
    "#include <concepts>\n",
    "#include <array>"
   ]
  },
  {
   "cell_type": "code",
   "execution_count": 4,
   "id": "389d828a",
   "metadata": {},
   "outputs": [
    {
     "data": {
      "text/plain": []
     },
     "execution_count": 4,
     "metadata": {},
     "output_type": "execute_result"
    }
   ],
   "source": [
    "template <typename T>\n",
    "concept Comparable = requires(T a, T b){\n",
    "    { a > b } -> std::same_as<bool>;\n",
    "};"
   ]
  },
  {
   "cell_type": "code",
   "execution_count": 5,
   "id": "0a8568aa",
   "metadata": {},
   "outputs": [
    {
     "data": {
      "text/plain": []
     },
     "execution_count": 5,
     "metadata": {},
     "output_type": "execute_result"
    }
   ],
   "source": [
    "struct Foo{};"
   ]
  },
  {
   "cell_type": "code",
   "execution_count": 6,
   "id": "598695cd",
   "metadata": {},
   "outputs": [
    {
     "data": {
      "text/plain": []
     },
     "execution_count": 6,
     "metadata": {},
     "output_type": "execute_result"
    }
   ],
   "source": [
    "template<typename T>\n",
    "T max(T a, T b) {return a > b ? a : b ;}"
   ]
  },
  {
   "cell_type": "markdown",
   "id": "a5800749",
   "metadata": {},
   "source": [
    "see compiler complaints below:"
   ]
  },
  {
   "cell_type": "code",
   "execution_count": 7,
   "id": "2f3d8171",
   "metadata": {},
   "outputs": [
    {
     "data": {
      "text/plain": []
     },
     "execution_count": 7,
     "metadata": {},
     "output_type": "execute_result"
    }
   ],
   "source": [
    "// max(Foo{}, Foo{});"
   ]
  },
  {
   "cell_type": "markdown",
   "id": "fe16d90d",
   "metadata": {},
   "source": [
    "see compiler complaints below:"
   ]
  },
  {
   "cell_type": "code",
   "execution_count": 8,
   "id": "ac2fb24f",
   "metadata": {},
   "outputs": [
    {
     "data": {
      "text/plain": []
     },
     "execution_count": 8,
     "metadata": {},
     "output_type": "execute_result"
    }
   ],
   "source": [
    "template<typename T>\n",
    "requires Comparable<T>\n",
    "T comparable_max(T a, T b) {return a > b ? a : b ;}"
   ]
  },
  {
   "cell_type": "code",
   "execution_count": 9,
   "id": "e0b9f1b1",
   "metadata": {},
   "outputs": [
    {
     "data": {
      "text/plain": []
     },
     "execution_count": 9,
     "metadata": {},
     "output_type": "execute_result"
    }
   ],
   "source": [
    "// comparable_max(Foo{}, Foo{});"
   ]
  },
  {
   "cell_type": "markdown",
   "id": "69abd1f5",
   "metadata": {},
   "source": [
    "## 5.2 template class meta function"
   ]
  },
  {
   "cell_type": "code",
   "execution_count": 10,
   "id": "898bbacc",
   "metadata": {},
   "outputs": [
    {
     "data": {
      "text/plain": []
     },
     "execution_count": 10,
     "metadata": {},
     "output_type": "execute_result"
    }
   ],
   "source": [
    "using Array5x4x3 = std::array<std::array<std::array<int, 3>, 4>, 5>;"
   ]
  },
  {
   "cell_type": "code",
   "execution_count": 11,
   "id": "a5f9839e",
   "metadata": {},
   "outputs": [
    {
     "data": {
      "text/plain": []
     },
     "execution_count": 11,
     "metadata": {},
     "output_type": "execute_result"
    }
   ],
   "source": [
    "template<typename T, size_t I, size_t ...Is>\n",
    "struct Array{\n",
    "    using type = std::array<typename Array<T, Is...>::type, I>;\n",
    "};\n",
    "\n",
    "// terminating condition:\n",
    "template<typename T, size_t I>\n",
    "struct Array<T, I>{\n",
    "    using type = std::array<T, I>;\n",
    "};\n"
   ]
  },
  {
   "cell_type": "code",
   "execution_count": 12,
   "id": "9c558ccf",
   "metadata": {},
   "outputs": [
    {
     "data": {
      "text/plain": []
     },
     "execution_count": 12,
     "metadata": {},
     "output_type": "execute_result"
    }
   ],
   "source": [
    "static_assert(std::is_same_v<Array<int, 5, 4, 3>::type, Array5x4x3>);"
   ]
  },
  {
   "cell_type": "markdown",
   "id": "b8633bd4",
   "metadata": {},
   "source": [
    "## 5.3 TypeList"
   ]
  },
  {
   "cell_type": "code",
   "execution_count": 13,
   "id": "8d0ba0f0",
   "metadata": {},
   "outputs": [
    {
     "data": {
      "text/plain": []
     },
     "execution_count": 13,
     "metadata": {},
     "output_type": "execute_result"
    }
   ],
   "source": [
    "template<typename ...Ts>\n",
    "struct TypeList{};\n",
    "\n",
    "using List = TypeList<int, double>;"
   ]
  },
  {
   "cell_type": "code",
   "execution_count": 14,
   "id": "557dc82c",
   "metadata": {},
   "outputs": [
    {
     "data": {
      "text/plain": []
     },
     "execution_count": 14,
     "metadata": {},
     "output_type": "execute_result"
    }
   ],
   "source": [
    "using One = std::integral_constant<int, 1>;\n",
    "constexpr auto one = One::value;\n",
    "using Two = std::integral_constant<int, 2>;\n",
    "constexpr auto two = Two::value;"
   ]
  },
  {
   "cell_type": "code",
   "execution_count": 15,
   "id": "a908de22",
   "metadata": {},
   "outputs": [
    {
     "data": {
      "text/plain": []
     },
     "execution_count": 15,
     "metadata": {},
     "output_type": "execute_result"
    }
   ],
   "source": [
    "using IntegralList = TypeList<One, Two>;"
   ]
  },
  {
   "cell_type": "code",
   "execution_count": 16,
   "id": "0d874e99",
   "metadata": {},
   "outputs": [
    {
     "data": {
      "text/plain": []
     },
     "execution_count": 16,
     "metadata": {},
     "output_type": "execute_result"
    }
   ],
   "source": [
    "template <typename ...Ts>\n",
    "struct TypeListBase {\n",
    "    struct IsTypeList{};\n",
    "    using type = TypeListBase;\n",
    "    constexpr static size_t size = sizeof...(Ts);\n",
    "    template<typename ...T> using append = TypeListBase<Ts..., T...>;\n",
    "    template<typename ...T> using prepend = TypeListBase<T..., Ts...>;\n",
    "    template<template<typename ...> typename T> using to = T<Ts...>;\n",
    "};\n",
    "\n",
    "template<typename TypeListBase>\n",
    "concept TL = requires{\n",
    "    typename TypeListBase::IsTypeList;\n",
    "    typename TypeListBase::type;\n",
    "};"
   ]
  },
  {
   "cell_type": "code",
   "execution_count": 17,
   "id": "5802b929",
   "metadata": {},
   "outputs": [
    {
     "data": {
      "text/plain": []
     },
     "execution_count": 17,
     "metadata": {},
     "output_type": "execute_result"
    }
   ],
   "source": [
    "using AList = TypeListBase<int, char>;"
   ]
  },
  {
   "cell_type": "code",
   "execution_count": 18,
   "id": "2290145b",
   "metadata": {},
   "outputs": [
    {
     "data": {
      "text/plain": []
     },
     "execution_count": 18,
     "metadata": {},
     "output_type": "execute_result"
    }
   ],
   "source": [
    "static_assert(TL<AList>);\n",
    "static_assert(AList::size == 2);\n",
    "static_assert(std::is_same_v<AList::prepend<double>, TypeListBase<double, int, char>>);\n",
    "static_assert(std::is_same_v<AList::append<double>, TypeListBase<int, char, double>>);"
   ]
  },
  {
   "cell_type": "markdown",
   "id": "027a518e",
   "metadata": {},
   "source": [
    "more advanced functions:"
   ]
  },
  {
   "cell_type": "markdown",
   "id": "8ac3563a",
   "metadata": {},
   "source": [
    "map:"
   ]
  },
  {
   "cell_type": "code",
   "execution_count": 19,
   "id": "d5cbd7d3",
   "metadata": {},
   "outputs": [
    {
     "data": {
      "text/plain": []
     },
     "execution_count": 19,
     "metadata": {},
     "output_type": "execute_result"
    }
   ],
   "source": [
    "template<TL In, template<typename> class F>\n",
    "struct Map;\n",
    "template<template<typename> class F, typename ...Ts>\n",
    "struct Map<TypeListBase<Ts...>, F> : TypeListBase<typename F<Ts>::type...>{};"
   ]
  },
  {
   "cell_type": "code",
   "execution_count": 20,
   "id": "aa1140c8",
   "metadata": {},
   "outputs": [
    {
     "data": {
      "text/plain": []
     },
     "execution_count": 20,
     "metadata": {},
     "output_type": "execute_result"
    }
   ],
   "source": [
    "template<TL In, template<typename> class F>\n",
    "using Map_t = typename Map<In, F>::type;"
   ]
  },
  {
   "cell_type": "code",
   "execution_count": 21,
   "id": "c3b75dfd",
   "metadata": {},
   "outputs": [
    {
     "data": {
      "text/plain": []
     },
     "execution_count": 21,
     "metadata": {},
     "output_type": "execute_result"
    }
   ],
   "source": [
    "using LongList = TypeListBase<char, float, double, int, char>;"
   ]
  },
  {
   "cell_type": "code",
   "execution_count": 22,
   "id": "0a05e370",
   "metadata": {},
   "outputs": [
    {
     "data": {
      "text/plain": []
     },
     "execution_count": 22,
     "metadata": {},
     "output_type": "execute_result"
    }
   ],
   "source": [
    "static_assert(std::is_same_v<Map_t<LongList, std::add_pointer>, TypeListBase<char*, float*, double*, int*, char*>>)"
   ]
  },
  {
   "cell_type": "markdown",
   "id": "fa64ab14",
   "metadata": {},
   "source": [
    "filter:"
   ]
  },
  {
   "cell_type": "code",
   "execution_count": 23,
   "id": "54ef7693",
   "metadata": {},
   "outputs": [
    {
     "data": {
      "text/plain": []
     },
     "execution_count": 23,
     "metadata": {},
     "output_type": "execute_result"
    }
   ],
   "source": [
    "template<TL In, template <typename> class P, TL Out = TypeListBase<>>\n",
    "struct Filter : Out {};\n",
    "template<template <typename> class P, TL Out, typename H, typename ...Ts>\n",
    "struct Filter <TypeListBase<H, Ts...>, P, Out> : \n",
    "    std::conditional_t< P<H>::value, \n",
    "        Filter<TypeListBase<Ts...>, P, typename Out::template append<H>>, \n",
    "        Filter<TypeListBase<Ts...>, P, Out>>{};"
   ]
  },
  {
   "cell_type": "code",
   "execution_count": 24,
   "id": "d6ac3571",
   "metadata": {},
   "outputs": [
    {
     "data": {
      "text/plain": []
     },
     "execution_count": 24,
     "metadata": {},
     "output_type": "execute_result"
    }
   ],
   "source": [
    "template<TL In, template <typename> class P, TL Out = TypeListBase<>>\n",
    "using Filter_t = Filter<In, P>::type;"
   ]
  },
  {
   "cell_type": "code",
   "execution_count": 25,
   "id": "2a447719",
   "metadata": {},
   "outputs": [
    {
     "data": {
      "text/plain": []
     },
     "execution_count": 25,
     "metadata": {},
     "output_type": "execute_result"
    }
   ],
   "source": [
    "template<typename T>\n",
    "using SizeLessThan4 = std::bool_constant< (sizeof(T) < 4)>;"
   ]
  },
  {
   "cell_type": "code",
   "execution_count": 26,
   "id": "a70e3b7e",
   "metadata": {},
   "outputs": [
    {
     "data": {
      "text/plain": []
     },
     "execution_count": 26,
     "metadata": {},
     "output_type": "execute_result"
    }
   ],
   "source": [
    "static_assert( std::is_same_v< Filter_t<LongList, SizeLessThan4>, TypeListBase<char, char> >);"
   ]
  },
  {
   "cell_type": "markdown",
   "id": "951450ab",
   "metadata": {},
   "source": [
    "fold: "
   ]
  },
  {
   "cell_type": "code",
   "execution_count": 27,
   "id": "968120f7",
   "metadata": {},
   "outputs": [
    {
     "data": {
      "text/plain": []
     },
     "execution_count": 27,
     "metadata": {},
     "output_type": "execute_result"
    }
   ],
   "source": [
    "template<typename T>\n",
    "struct Return {using type = T;};"
   ]
  },
  {
   "cell_type": "code",
   "execution_count": 29,
   "id": "3903fb30",
   "metadata": {},
   "outputs": [
    {
     "data": {
      "text/plain": []
     },
     "execution_count": 29,
     "metadata": {},
     "output_type": "execute_result"
    }
   ],
   "source": [
    "template<TL In, typename Init, template<typename, typename> class Op>\n",
    "struct Fold : Return <Init>{};\n",
    "\n",
    "template<typename Acc, template<typename, typename> class Op, typename H, typename ...Ts>\n",
    "struct Fold<TypeListBase<H, Ts...>, Acc, Op> : Fold<TypeListBase<Ts...>, typename Op<Acc, H>::type, Op> {};"
   ]
  },
  {
   "cell_type": "code",
   "execution_count": 32,
   "id": "7e4514a0",
   "metadata": {},
   "outputs": [
    {
     "data": {
      "text/plain": []
     },
     "execution_count": 32,
     "metadata": {},
     "output_type": "execute_result"
    }
   ],
   "source": [
    "template<TL In, typename Init, template<typename, typename> class Op>\n",
    "using Fold_t = Fold<In, Init, Op>::type;"
   ]
  },
  {
   "cell_type": "code",
   "execution_count": 31,
   "id": "d0b71c6e",
   "metadata": {},
   "outputs": [
    {
     "data": {
      "text/plain": []
     },
     "execution_count": 31,
     "metadata": {},
     "output_type": "execute_result"
    }
   ],
   "source": [
    "template<typename Acc, typename E>\n",
    "using TypeSizeAcc = std::integral_constant<size_t, Acc::value + sizeof(E)>;"
   ]
  },
  {
   "cell_type": "code",
   "execution_count": 33,
   "id": "8eb22fc9",
   "metadata": {},
   "outputs": [
    {
     "data": {
      "text/plain": []
     },
     "execution_count": 33,
     "metadata": {},
     "output_type": "execute_result"
    }
   ],
   "source": [
    "static_assert(Fold_t<LongList, std::integral_constant<size_t, 0>, TypeSizeAcc>::value == 18);"
   ]
  },
  {
   "cell_type": "code",
   "execution_count": null,
   "id": "a76b1911",
   "metadata": {},
   "outputs": [],
   "source": []
  }
 ],
 "metadata": {
  "kernelspec": {
   "display_name": "C++20",
   "language": "C++",
   "name": "cling-cpp20"
  },
  "language_info": {
   "codemirror_mode": "c++",
   "file_extension": ".c++",
   "mimetype": "text/x-c++src",
   "name": "c++"
  }
 },
 "nbformat": 4,
 "nbformat_minor": 5
}
