{
 "cells": [
  {
   "cell_type": "markdown",
   "id": "9aa092bc",
   "metadata": {},
   "source": [
    "## 5.1 template vs macro"
   ]
  },
  {
   "cell_type": "code",
   "execution_count": 1,
   "id": "ff9bd332",
   "metadata": {},
   "outputs": [
    {
     "data": {
      "text/plain": []
     },
     "execution_count": 1,
     "metadata": {},
     "output_type": "execute_result"
    }
   ],
   "source": [
    "#define MAX(x, y) (((x) > (y)) ? (x) : (y))"
   ]
  },
  {
   "cell_type": "code",
   "execution_count": 2,
   "id": "df61a067",
   "metadata": {},
   "outputs": [
    {
     "data": {
      "text/plain": [
       "(int) 2\n"
      ]
     },
     "execution_count": 2,
     "metadata": {},
     "output_type": "execute_result"
    }
   ],
   "source": [
    "int a = 0;\n",
    "int b = 1;\n",
    "MAX(a++, b++)"
   ]
  },
  {
   "cell_type": "code",
   "execution_count": 3,
   "id": "0ba7613b",
   "metadata": {},
   "outputs": [
    {
     "data": {
      "text/plain": []
     },
     "execution_count": 3,
     "metadata": {},
     "output_type": "execute_result"
    }
   ],
   "source": [
    "#include <concepts>\n",
    "#include <array>"
   ]
  },
  {
   "cell_type": "code",
   "execution_count": 4,
   "id": "389d828a",
   "metadata": {},
   "outputs": [
    {
     "data": {
      "text/plain": []
     },
     "execution_count": 4,
     "metadata": {},
     "output_type": "execute_result"
    }
   ],
   "source": [
    "template <typename T>\n",
    "concept Comparable = requires(T a, T b){\n",
    "    { a > b } -> std::same_as<bool>;\n",
    "};"
   ]
  },
  {
   "cell_type": "code",
   "execution_count": 5,
   "id": "0a8568aa",
   "metadata": {},
   "outputs": [
    {
     "data": {
      "text/plain": []
     },
     "execution_count": 5,
     "metadata": {},
     "output_type": "execute_result"
    }
   ],
   "source": [
    "struct Foo{};"
   ]
  },
  {
   "cell_type": "code",
   "execution_count": 6,
   "id": "598695cd",
   "metadata": {},
   "outputs": [
    {
     "data": {
      "text/plain": []
     },
     "execution_count": 6,
     "metadata": {},
     "output_type": "execute_result"
    }
   ],
   "source": [
    "template<typename T>\n",
    "T max(T a, T b) {return a > b ? a : b ;}"
   ]
  },
  {
   "cell_type": "markdown",
   "id": "a5800749",
   "metadata": {},
   "source": [
    "see compiler complaints below:"
   ]
  },
  {
   "cell_type": "code",
   "execution_count": 7,
   "id": "2f3d8171",
   "metadata": {},
   "outputs": [
    {
     "data": {
      "text/plain": []
     },
     "execution_count": 7,
     "metadata": {},
     "output_type": "execute_result"
    }
   ],
   "source": [
    "// max(Foo{}, Foo{});"
   ]
  },
  {
   "cell_type": "markdown",
   "id": "1f97d660",
   "metadata": {},
   "source": [
    "see compiler complaints below:"
   ]
  },
  {
   "cell_type": "code",
   "execution_count": 8,
   "id": "c06af11b",
   "metadata": {},
   "outputs": [
    {
     "data": {
      "text/plain": []
     },
     "execution_count": 8,
     "metadata": {},
     "output_type": "execute_result"
    }
   ],
   "source": [
    "template<typename T>\n",
    "requires Comparable<T>\n",
    "T comparable_max(T a, T b) {return a > b ? a : b ;}"
   ]
  },
  {
   "cell_type": "code",
   "execution_count": 9,
   "id": "751d2757",
   "metadata": {},
   "outputs": [
    {
     "data": {
      "text/plain": []
     },
     "execution_count": 9,
     "metadata": {},
     "output_type": "execute_result"
    }
   ],
   "source": [
    "// comparable_max(Foo{}, Foo{});"
   ]
  },
  {
   "cell_type": "markdown",
   "id": "65bca19e",
   "metadata": {},
   "source": [
    "## 5.2 template class meta function"
   ]
  },
  {
   "cell_type": "code",
   "execution_count": 10,
   "id": "b0491339",
   "metadata": {},
   "outputs": [
    {
     "data": {
      "text/plain": []
     },
     "execution_count": 10,
     "metadata": {},
     "output_type": "execute_result"
    }
   ],
   "source": [
    "using Array5x4x3 = std::array<std::array<std::array<int, 3>, 4>, 5>;"
   ]
  },
  {
   "cell_type": "code",
   "execution_count": 11,
   "id": "29cb8eee",
   "metadata": {},
   "outputs": [
    {
     "data": {
      "text/plain": []
     },
     "execution_count": 11,
     "metadata": {},
     "output_type": "execute_result"
    }
   ],
   "source": [
    "template<typename T, size_t I, size_t ...Is>\n",
    "struct Array{\n",
    "    using type = std::array<typename Array<T, Is...>::type, I>;\n",
    "};\n",
    "\n",
    "// terminating condition:\n",
    "template<typename T, size_t I>\n",
    "struct Array<T, I>{\n",
    "    using type = std::array<T, I>;\n",
    "};\n"
   ]
  },
  {
   "cell_type": "code",
   "execution_count": 12,
   "id": "a8b9d3f0",
   "metadata": {},
   "outputs": [
    {
     "data": {
      "text/plain": []
     },
     "execution_count": 12,
     "metadata": {},
     "output_type": "execute_result"
    }
   ],
   "source": [
    "static_assert(std::is_same_v<Array<int, 5, 4, 3>::type, Array5x4x3>);"
   ]
  },
  {
   "cell_type": "markdown",
   "id": "81509cf5",
   "metadata": {},
   "source": [
    "## 5.3 TypeList"
   ]
  },
  {
   "cell_type": "code",
   "execution_count": 13,
   "id": "d5ffe7af",
   "metadata": {},
   "outputs": [
    {
     "data": {
      "text/plain": []
     },
     "execution_count": 13,
     "metadata": {},
     "output_type": "execute_result"
    }
   ],
   "source": [
    "template<typename ...Ts>\n",
    "struct TypeList{};\n",
    "\n",
    "using List = TypeList<int, double>;"
   ]
  },
  {
   "cell_type": "code",
   "execution_count": 14,
   "id": "37110bfd",
   "metadata": {},
   "outputs": [
    {
     "data": {
      "text/plain": []
     },
     "execution_count": 14,
     "metadata": {},
     "output_type": "execute_result"
    }
   ],
   "source": [
    "using One = std::integral_constant<int, 1>;\n",
    "constexpr auto one = One::value;\n",
    "using Two = std::integral_constant<int, 2>;\n",
    "constexpr auto two = Two::value;"
   ]
  },
  {
   "cell_type": "code",
   "execution_count": 15,
   "id": "19c7b86d",
   "metadata": {},
   "outputs": [
    {
     "data": {
      "text/plain": []
     },
     "execution_count": 15,
     "metadata": {},
     "output_type": "execute_result"
    }
   ],
   "source": [
    "using IntegralList = TypeList<One, Two>;"
   ]
  },
  {
   "cell_type": "code",
   "execution_count": 16,
   "id": "43b8d5b9",
   "metadata": {},
   "outputs": [
    {
     "data": {
      "text/plain": []
     },
     "execution_count": 16,
     "metadata": {},
     "output_type": "execute_result"
    }
   ],
   "source": [
    "template <typename ...Ts>\n",
    "struct TypeListBase {\n",
    "    struct IsTypeList{};\n",
    "    using type = TypeListBase;\n",
    "    constexpr static size_t size = sizeof...(Ts);\n",
    "    template<typename ...T> using append = TypeListBase<Ts..., T...>;\n",
    "    template<typename ...T> using prepend = TypeListBase<T..., Ts...>;\n",
    "    template<template<typename ...> typename T> using to = T<Ts...>;\n",
    "};\n",
    "\n",
    "template<typename TypeListBase>\n",
    "concept TL = requires{\n",
    "    typename TypeListBase::IsTypeList;\n",
    "    typename TypeListBase::type;\n",
    "};"
   ]
  },
  {
   "cell_type": "code",
   "execution_count": 17,
   "id": "acd02bcb",
   "metadata": {},
   "outputs": [
    {
     "data": {
      "text/plain": []
     },
     "execution_count": 17,
     "metadata": {},
     "output_type": "execute_result"
    }
   ],
   "source": [
    "using AList = TypeListBase<int, char>;"
   ]
  },
  {
   "cell_type": "code",
   "execution_count": 18,
   "id": "5925b90c",
   "metadata": {},
   "outputs": [
    {
     "data": {
      "text/plain": []
     },
     "execution_count": 18,
     "metadata": {},
     "output_type": "execute_result"
    }
   ],
   "source": [
    "static_assert(TL<AList>);\n",
    "static_assert(AList::size == 2);\n",
    "static_assert(std::is_same_v<AList::prepend<double>, TypeListBase<double, int, char>>);\n",
    "static_assert(std::is_same_v<AList::append<double>, TypeListBase<int, char, double>>);"
   ]
  },
  {
   "cell_type": "markdown",
   "id": "c7bf833f",
   "metadata": {},
   "source": [
    "more advanced functions:"
   ]
  },
  {
   "cell_type": "markdown",
   "id": "7376b826",
   "metadata": {},
   "source": [
    "map:"
   ]
  },
  {
   "cell_type": "code",
   "execution_count": 19,
   "id": "218920da",
   "metadata": {},
   "outputs": [
    {
     "data": {
      "text/plain": []
     },
     "execution_count": 19,
     "metadata": {},
     "output_type": "execute_result"
    }
   ],
   "source": [
    "template<TL In, template<typename> class F>\n",
    "struct Map;\n",
    "template<template<typename> class F, typename ...Ts>\n",
    "struct Map<TypeListBase<Ts...>, F> : TypeListBase<typename F<Ts>::type...>{};"
   ]
  },
  {
   "cell_type": "code",
   "execution_count": 20,
   "id": "5c5f778b",
   "metadata": {},
   "outputs": [
    {
     "data": {
      "text/plain": []
     },
     "execution_count": 20,
     "metadata": {},
     "output_type": "execute_result"
    }
   ],
   "source": [
    "template<TL In, template<typename> class F>\n",
    "using Map_t = typename Map<In, F>::type;"
   ]
  },
  {
   "cell_type": "code",
   "execution_count": 21,
   "id": "c56e2070",
   "metadata": {},
   "outputs": [
    {
     "data": {
      "text/plain": []
     },
     "execution_count": 21,
     "metadata": {},
     "output_type": "execute_result"
    }
   ],
   "source": [
    "using LongList = TypeListBase<char, float, double, int, char>;"
   ]
  },
  {
   "cell_type": "code",
   "execution_count": 22,
   "id": "1e639991",
   "metadata": {},
   "outputs": [
    {
     "data": {
      "text/plain": []
     },
     "execution_count": 22,
     "metadata": {},
     "output_type": "execute_result"
    }
   ],
   "source": [
    "static_assert(std::is_same_v<Map_t<LongList, std::add_pointer>, TypeListBase<char*, float*, double*, int*, char*>>)"
   ]
  },
  {
   "cell_type": "markdown",
   "id": "46392284",
   "metadata": {},
   "source": [
    "filter:"
   ]
  },
  {
   "cell_type": "code",
   "execution_count": 23,
   "id": "478e1d82",
   "metadata": {},
   "outputs": [
    {
     "data": {
      "text/plain": []
     },
     "execution_count": 23,
     "metadata": {},
     "output_type": "execute_result"
    }
   ],
   "source": [
    "template<TL In, template <typename> class P, TL Out = TypeListBase<>>\n",
    "struct Filter : Out {};\n",
    "template<template <typename> class P, TL Out, typename H, typename ...Ts>\n",
    "struct Filter <TypeListBase<H, Ts...>, P, Out> : \n",
    "    std::conditional_t< P<H>::value, \n",
    "        Filter<TypeListBase<Ts...>, P, typename Out::template append<H>>, \n",
    "        Filter<TypeListBase<Ts...>, P, Out>>{};"
   ]
  },
  {
   "cell_type": "code",
   "execution_count": 24,
   "id": "f2f634b7",
   "metadata": {},
   "outputs": [
    {
     "data": {
      "text/plain": []
     },
     "execution_count": 24,
     "metadata": {},
     "output_type": "execute_result"
    }
   ],
   "source": [
    "template<TL In, template <typename> class P, TL Out = TypeListBase<>>\n",
    "using Filter_t = Filter<In, P>::type;"
   ]
  },
  {
   "cell_type": "code",
   "execution_count": 25,
   "id": "a50ec02d",
   "metadata": {},
   "outputs": [
    {
     "data": {
      "text/plain": []
     },
     "execution_count": 25,
     "metadata": {},
     "output_type": "execute_result"
    }
   ],
   "source": [
    "template<typename T>\n",
    "using SizeLessThan4 = std::bool_constant< (sizeof(T) < 4)>;"
   ]
  },
  {
   "cell_type": "code",
   "execution_count": 26,
   "id": "f3c0b9ca",
   "metadata": {},
   "outputs": [
    {
     "data": {
      "text/plain": []
     },
     "execution_count": 26,
     "metadata": {},
     "output_type": "execute_result"
    }
   ],
   "source": [
    "static_assert( std::is_same_v< Filter_t<LongList, SizeLessThan4>, TypeListBase<char, char> >);"
   ]
  },
  {
   "cell_type": "markdown",
   "id": "8e48b142",
   "metadata": {},
   "source": [
    "fold: "
   ]
  },
  {
   "cell_type": "code",
   "execution_count": 27,
   "id": "3200b118",
   "metadata": {},
   "outputs": [
    {
     "data": {
      "text/plain": []
     },
     "execution_count": 27,
     "metadata": {},
     "output_type": "execute_result"
    }
   ],
   "source": [
    "template<typename T>\n",
    "struct Return {using type = T;};"
   ]
  },
  {
   "cell_type": "code",
   "execution_count": 28,
   "id": "284962e8",
   "metadata": {},
   "outputs": [
    {
     "data": {
      "text/plain": []
     },
     "execution_count": 28,
     "metadata": {},
     "output_type": "execute_result"
    }
   ],
   "source": [
    "template<TL In, typename Init, template<typename, typename> class Op>\n",
    "struct Fold : Return <Init>{};\n",
    "\n",
    "template<typename Acc, template<typename, typename> class Op, typename H, typename ...Ts>\n",
    "struct Fold<TypeListBase<H, Ts...>, Acc, Op> : Fold<TypeListBase<Ts...>, typename Op<Acc, H>::type, Op> {};"
   ]
  },
  {
   "cell_type": "code",
   "execution_count": 29,
   "id": "7b97cbee",
   "metadata": {},
   "outputs": [
    {
     "data": {
      "text/plain": []
     },
     "execution_count": 29,
     "metadata": {},
     "output_type": "execute_result"
    }
   ],
   "source": [
    "template<TL In, typename Init, template<typename, typename> class Op>\n",
    "using Fold_t = Fold<In, Init, Op>::type;"
   ]
  },
  {
   "cell_type": "code",
   "execution_count": 30,
   "id": "8a7a8185",
   "metadata": {},
   "outputs": [
    {
     "data": {
      "text/plain": []
     },
     "execution_count": 30,
     "metadata": {},
     "output_type": "execute_result"
    }
   ],
   "source": [
    "template<typename Acc, typename E>\n",
    "using TypeSizeAcc = std::integral_constant<size_t, Acc::value + sizeof(E)>;"
   ]
  },
  {
   "cell_type": "code",
   "execution_count": 31,
   "id": "22f69e8b",
   "metadata": {},
   "outputs": [
    {
     "data": {
      "text/plain": []
     },
     "execution_count": 31,
     "metadata": {},
     "output_type": "execute_result"
    }
   ],
   "source": [
    "static_assert(Fold_t<LongList, std::integral_constant<size_t, 0>, TypeSizeAcc>::value == 18);"
   ]
  },
  {
   "cell_type": "markdown",
   "id": "bf93a266",
   "metadata": {},
   "source": [
    "concat:"
   ]
  },
  {
   "cell_type": "code",
   "execution_count": 32,
   "id": "69df6a01",
   "metadata": {},
   "outputs": [
    {
     "data": {
      "text/plain": []
     },
     "execution_count": 32,
     "metadata": {},
     "output_type": "execute_result"
    }
   ],
   "source": [
    "template<TL...In> struct Concat;\n",
    "template<TL...In> using Concat_t = typename Concat<In...>::type;"
   ]
  },
  {
   "cell_type": "code",
   "execution_count": 33,
   "id": "4f88bf45",
   "metadata": {},
   "outputs": [
    {
     "data": {
      "text/plain": []
     },
     "execution_count": 33,
     "metadata": {},
     "output_type": "execute_result"
    }
   ],
   "source": [
    "template<> struct Concat<> : TypeListBase<> {};"
   ]
  },
  {
   "cell_type": "code",
   "execution_count": 34,
   "id": "6f69c8aa",
   "metadata": {},
   "outputs": [
    {
     "data": {
      "text/plain": []
     },
     "execution_count": 34,
     "metadata": {},
     "output_type": "execute_result"
    }
   ],
   "source": [
    "template<TL In> struct Concat<In> : In {};"
   ]
  },
  {
   "cell_type": "code",
   "execution_count": 35,
   "id": "14fd0e4a",
   "metadata": {},
   "outputs": [
    {
     "data": {
      "text/plain": []
     },
     "execution_count": 35,
     "metadata": {},
     "output_type": "execute_result"
    }
   ],
   "source": [
    "template<TL In1, TL In2> struct Concat<In1, In2> : In2::template to<In1::template append> {};"
   ]
  },
  {
   "cell_type": "code",
   "execution_count": 36,
   "id": "371e52f6",
   "metadata": {},
   "outputs": [
    {
     "data": {
      "text/plain": []
     },
     "execution_count": 36,
     "metadata": {},
     "output_type": "execute_result"
    }
   ],
   "source": [
    "template<TL In1, TL In2, TL...Ins>\n",
    "struct Concat<In1, In2, Ins...> : Concat<Concat<In1, In2>, Ins...> {};"
   ]
  },
  {
   "cell_type": "code",
   "execution_count": 37,
   "id": "c1a84bc7",
   "metadata": {},
   "outputs": [
    {
     "data": {
      "text/plain": []
     },
     "execution_count": 37,
     "metadata": {},
     "output_type": "execute_result"
    }
   ],
   "source": [
    "static_assert(std::is_same_v< Concat_t< TypeListBase<int, double>, TypeListBase<char, float>>, \n",
    "    TypeListBase<int, double, char, float>>);"
   ]
  },
  {
   "cell_type": "markdown",
   "id": "82133ef1",
   "metadata": {},
   "source": [
    "elem:"
   ]
  },
  {
   "cell_type": "code",
   "execution_count": 38,
   "id": "8b8f3c0e",
   "metadata": {},
   "outputs": [
    {
     "data": {
      "text/plain": []
     },
     "execution_count": 38,
     "metadata": {},
     "output_type": "execute_result"
    }
   ],
   "source": [
    "template<TL In, typename E>\n",
    "class Elem{\n",
    "    template<typename Acc, typename T>\n",
    "    using FindE = std::conditional_t<Acc::value, Acc, std::is_same<T, E>>;\n",
    "    using Found = Fold_t<In, std::false_type, FindE>;\n",
    "public:\n",
    "    constexpr static bool value = Found::value;\n",
    "};"
   ]
  },
  {
   "cell_type": "code",
   "execution_count": 39,
   "id": "d9d1bab5",
   "metadata": {},
   "outputs": [
    {
     "data": {
      "text/plain": []
     },
     "execution_count": 39,
     "metadata": {},
     "output_type": "execute_result"
    }
   ],
   "source": [
    "template<TL In, typename E>\n",
    "struct Element : std::false_type {};\n",
    "\n",
    "template<typename E, typename ...Ts>\n",
    "struct Element<TypeListBase<Ts...>, E>:\n",
    "    std::bool_constant< (false || ... || std::is_same_v<E, Ts>) > {};"
   ]
  },
  {
   "cell_type": "code",
   "execution_count": 40,
   "id": "727d0462",
   "metadata": {},
   "outputs": [
    {
     "data": {
      "text/plain": []
     },
     "execution_count": 40,
     "metadata": {},
     "output_type": "execute_result"
    }
   ],
   "source": [
    "static_assert(Elem<LongList, char>::value);"
   ]
  },
  {
   "cell_type": "code",
   "execution_count": 41,
   "id": "50cab259",
   "metadata": {},
   "outputs": [
    {
     "data": {
      "text/plain": []
     },
     "execution_count": 41,
     "metadata": {},
     "output_type": "execute_result"
    }
   ],
   "source": [
    "static_assert(not Element<LongList, long long>::value);"
   ]
  },
  {
   "cell_type": "markdown",
   "id": "bcf0f0d8",
   "metadata": {},
   "source": [
    "unique:"
   ]
  },
  {
   "cell_type": "code",
   "execution_count": 42,
   "id": "68863443",
   "metadata": {},
   "outputs": [
    {
     "data": {
      "text/plain": []
     },
     "execution_count": 42,
     "metadata": {},
     "output_type": "execute_result"
    }
   ],
   "source": [
    "template<TL In>\n",
    "class Unique{\n",
    "    template<TL Acc, typename E>\n",
    "    using Append = std::conditional_t<Elem<Acc, E>::value, Acc, typename Acc::template append<E>>;\n",
    "public:\n",
    "    using type = Fold_t<In, TypeListBase<>, Append>;\n",
    "};"
   ]
  },
  {
   "cell_type": "code",
   "execution_count": 43,
   "id": "36c93bba",
   "metadata": {},
   "outputs": [
    {
     "data": {
      "text/plain": []
     },
     "execution_count": 43,
     "metadata": {},
     "output_type": "execute_result"
    }
   ],
   "source": [
    "template<TL In>\n",
    "using Unique_t = Unique<In>::type;"
   ]
  },
  {
   "cell_type": "code",
   "execution_count": 44,
   "id": "a8428ce7",
   "metadata": {},
   "outputs": [
    {
     "data": {
      "text/plain": []
     },
     "execution_count": 44,
     "metadata": {},
     "output_type": "execute_result"
    }
   ],
   "source": [
    "static_assert(std::is_same_v<Unique_t<LongList>, TypeListBase<char, float, double, int>>);"
   ]
  },
  {
   "cell_type": "markdown",
   "id": "c510cdf6",
   "metadata": {},
   "source": [
    "partition:"
   ]
  },
  {
   "cell_type": "code",
   "execution_count": 45,
   "id": "ba2d72da",
   "metadata": {},
   "outputs": [
    {
     "data": {
      "text/plain": []
     },
     "execution_count": 45,
     "metadata": {},
     "output_type": "execute_result"
    }
   ],
   "source": [
    "template<TL In, template<typename> typename P>\n",
    "class Partition{\n",
    "    template<typename Arg>\n",
    "    using NotP = std::bool_constant<not P<Arg>::value>;\n",
    "public:\n",
    "    struct type{\n",
    "        using Satisfied = Filter_t<In, P>;\n",
    "        using Rest = Filter_t<In, NotP>;\n",
    "    };\n",
    "};"
   ]
  },
  {
   "cell_type": "code",
   "execution_count": 46,
   "id": "19647fe3",
   "metadata": {},
   "outputs": [
    {
     "data": {
      "text/plain": []
     },
     "execution_count": 46,
     "metadata": {},
     "output_type": "execute_result"
    }
   ],
   "source": [
    "using SplitBySize4 = Partition<LongList, SizeLessThan4>;"
   ]
  },
  {
   "cell_type": "code",
   "execution_count": 47,
   "id": "3d2f8f65",
   "metadata": {},
   "outputs": [
    {
     "data": {
      "text/plain": []
     },
     "execution_count": 47,
     "metadata": {},
     "output_type": "execute_result"
    }
   ],
   "source": [
    "static_assert(std::is_same_v<SplitBySize4::type::Satisfied, TypeListBase<char, char>>);\n",
    "static_assert(std::is_same_v<SplitBySize4::type::Rest, TypeListBase<float, double, int>>);"
   ]
  },
  {
   "cell_type": "markdown",
   "id": "1cbfdd56",
   "metadata": {},
   "source": [
    "sort:"
   ]
  },
  {
   "cell_type": "code",
   "execution_count": 48,
   "id": "7408c05a",
   "metadata": {},
   "outputs": [
    {
     "data": {
      "text/plain": []
     },
     "execution_count": 48,
     "metadata": {},
     "output_type": "execute_result"
    }
   ],
   "source": [
    "template<TL In, template<typename, typename> typename Cmp>\n",
    "struct Sort : TypeListBase<>{};\n",
    "\n",
    "template<template<typename, typename> typename Cmp, typename Pivot, typename ...Ts>\n",
    "class Sort<TypeListBase<Pivot, Ts...>, Cmp>{\n",
    "    template<typename E>\n",
    "    using LT = Cmp<E, Pivot>;\n",
    "    using P = Partition<TypeListBase<Ts...>, LT>::type;\n",
    "    using SmallerSorted = typename Sort<typename P::Satisfied, Cmp>::type;\n",
    "    using BiggerSorted = typename Sort<typename P::Rest, Cmp>::type;\n",
    "public:\n",
    "    using type = Concat_t<typename SmallerSorted::template append<Pivot>, BiggerSorted>;\n",
    "};"
   ]
  },
  {
   "cell_type": "code",
   "execution_count": 49,
   "id": "f5aca92e",
   "metadata": {},
   "outputs": [
    {
     "data": {
      "text/plain": []
     },
     "execution_count": 49,
     "metadata": {},
     "output_type": "execute_result"
    }
   ],
   "source": [
    "template<typename L, typename R>\n",
    "using SizeCmp = std::bool_constant<sizeof(L) < sizeof(R)>;"
   ]
  },
  {
   "cell_type": "code",
   "execution_count": 50,
   "id": "5f3aee0e",
   "metadata": {},
   "outputs": [
    {
     "data": {
      "text/plain": []
     },
     "execution_count": 50,
     "metadata": {},
     "output_type": "execute_result"
    }
   ],
   "source": [
    "static_assert(std::is_same_v<Sort<LongList, SizeCmp>::type, TypeListBase<char, char, float, int, double>>);"
   ]
  },
  {
   "cell_type": "markdown",
   "id": "c22201c1",
   "metadata": {},
   "source": [
    "## 5.4 exercise"
   ]
  },
  {
   "cell_type": "code",
   "execution_count": null,
   "id": "c452d8f5",
   "metadata": {},
   "outputs": [],
   "source": []
  }
 ],
 "metadata": {
  "kernelspec": {
   "display_name": "C++20",
   "language": "C++",
   "name": "cling-cpp20"
  },
  "language_info": {
   "codemirror_mode": "c++",
   "file_extension": ".c++",
   "mimetype": "text/x-c++src",
   "name": "c++"
  }
 },
 "nbformat": 4,
 "nbformat_minor": 5
}
