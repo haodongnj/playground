{
 "cells": [
  {
   "cell_type": "markdown",
   "id": "9aa092bc",
   "metadata": {},
   "source": [
    "## 5.1 template vs macro"
   ]
  },
  {
   "cell_type": "code",
   "execution_count": 1,
   "id": "ff9bd332",
   "metadata": {},
   "outputs": [
    {
     "data": {
      "text/plain": []
     },
     "execution_count": 1,
     "metadata": {},
     "output_type": "execute_result"
    }
   ],
   "source": [
    "#define MAX(x, y) (((x) > (y)) ? (x) : (y))"
   ]
  },
  {
   "cell_type": "code",
   "execution_count": 2,
   "id": "df61a067",
   "metadata": {},
   "outputs": [
    {
     "data": {
      "text/plain": [
       "(int) 2\n"
      ]
     },
     "execution_count": 2,
     "metadata": {},
     "output_type": "execute_result"
    }
   ],
   "source": [
    "int a = 0;\n",
    "int b = 1;\n",
    "MAX(a++, b++)"
   ]
  },
  {
   "cell_type": "code",
   "execution_count": 3,
   "id": "0ba7613b",
   "metadata": {},
   "outputs": [
    {
     "data": {
      "text/plain": []
     },
     "execution_count": 3,
     "metadata": {},
     "output_type": "execute_result"
    }
   ],
   "source": [
    "#include <concepts>\n",
    "#include <array>"
   ]
  },
  {
   "cell_type": "code",
   "execution_count": 4,
   "id": "389d828a",
   "metadata": {},
   "outputs": [
    {
     "data": {
      "text/plain": []
     },
     "execution_count": 4,
     "metadata": {},
     "output_type": "execute_result"
    }
   ],
   "source": [
    "template <typename T>\n",
    "concept Comparable = requires(T a, T b){\n",
    "    { a > b } -> std::same_as<bool>;\n",
    "};"
   ]
  },
  {
   "cell_type": "code",
   "execution_count": 5,
   "id": "0a8568aa",
   "metadata": {},
   "outputs": [
    {
     "data": {
      "text/plain": []
     },
     "execution_count": 5,
     "metadata": {},
     "output_type": "execute_result"
    }
   ],
   "source": [
    "struct Foo{};"
   ]
  },
  {
   "cell_type": "code",
   "execution_count": 6,
   "id": "598695cd",
   "metadata": {},
   "outputs": [
    {
     "data": {
      "text/plain": []
     },
     "execution_count": 6,
     "metadata": {},
     "output_type": "execute_result"
    }
   ],
   "source": [
    "template<typename T>\n",
    "T max(T a, T b) {return a > b ? a : b ;}"
   ]
  },
  {
   "cell_type": "markdown",
   "id": "a5800749",
   "metadata": {},
   "source": [
    "see compiler complaints below:"
   ]
  },
  {
   "cell_type": "code",
   "execution_count": 7,
   "id": "2f3d8171",
   "metadata": {},
   "outputs": [
    {
     "data": {
      "text/plain": []
     },
     "execution_count": 7,
     "metadata": {},
     "output_type": "execute_result"
    }
   ],
   "source": [
    "// max(Foo{}, Foo{});"
   ]
  },
  {
   "cell_type": "markdown",
   "id": "2dd018f0",
   "metadata": {},
   "source": [
    "see compiler complaints below:"
   ]
  },
  {
   "cell_type": "code",
   "execution_count": 8,
   "id": "18c60c84",
   "metadata": {},
   "outputs": [
    {
     "data": {
      "text/plain": []
     },
     "execution_count": 8,
     "metadata": {},
     "output_type": "execute_result"
    }
   ],
   "source": [
    "template<typename T>\n",
    "requires Comparable<T>\n",
    "T comparable_max(T a, T b) {return a > b ? a : b ;}"
   ]
  },
  {
   "cell_type": "code",
   "execution_count": 9,
   "id": "8b426560",
   "metadata": {},
   "outputs": [
    {
     "data": {
      "text/plain": []
     },
     "execution_count": 9,
     "metadata": {},
     "output_type": "execute_result"
    }
   ],
   "source": [
    "// comparable_max(Foo{}, Foo{});"
   ]
  },
  {
   "cell_type": "markdown",
   "id": "dcc268e7",
   "metadata": {},
   "source": [
    "## 5.2 template class meta function"
   ]
  },
  {
   "cell_type": "code",
   "execution_count": 10,
   "id": "bf0f6872",
   "metadata": {},
   "outputs": [
    {
     "data": {
      "text/plain": []
     },
     "execution_count": 10,
     "metadata": {},
     "output_type": "execute_result"
    }
   ],
   "source": [
    "using Array5x4x3 = std::array<std::array<std::array<int, 3>, 4>, 5>;"
   ]
  },
  {
   "cell_type": "code",
   "execution_count": 11,
   "id": "0171e5a8",
   "metadata": {},
   "outputs": [
    {
     "data": {
      "text/plain": []
     },
     "execution_count": 11,
     "metadata": {},
     "output_type": "execute_result"
    }
   ],
   "source": [
    "template<typename T, size_t I, size_t ...Is>\n",
    "struct Array{\n",
    "    using type = std::array<typename Array<T, Is...>::type, I>;\n",
    "};\n",
    "\n",
    "// terminating condition:\n",
    "template<typename T, size_t I>\n",
    "struct Array<T, I>{\n",
    "    using type = std::array<T, I>;\n",
    "};\n"
   ]
  },
  {
   "cell_type": "code",
   "execution_count": 12,
   "id": "4b4723b5",
   "metadata": {},
   "outputs": [
    {
     "data": {
      "text/plain": []
     },
     "execution_count": 12,
     "metadata": {},
     "output_type": "execute_result"
    }
   ],
   "source": [
    "static_assert(std::is_same_v<Array<int, 5, 4, 3>::type, Array5x4x3>);"
   ]
  },
  {
   "cell_type": "markdown",
   "id": "eeb95c34",
   "metadata": {},
   "source": [
    "## 5.3 TypeList"
   ]
  },
  {
   "cell_type": "code",
   "execution_count": 13,
   "id": "fdf8c0bd",
   "metadata": {},
   "outputs": [
    {
     "data": {
      "text/plain": []
     },
     "execution_count": 13,
     "metadata": {},
     "output_type": "execute_result"
    }
   ],
   "source": [
    "template<typename ...Ts>\n",
    "struct TypeList{};\n",
    "\n",
    "using List = TypeList<int, double>;"
   ]
  },
  {
   "cell_type": "code",
   "execution_count": 14,
   "id": "1111baab",
   "metadata": {},
   "outputs": [
    {
     "data": {
      "text/plain": []
     },
     "execution_count": 14,
     "metadata": {},
     "output_type": "execute_result"
    }
   ],
   "source": [
    "using One = std::integral_constant<int, 1>;\n",
    "constexpr auto one = One::value;\n",
    "using Two = std::integral_constant<int, 2>;\n",
    "constexpr auto two = Two::value;"
   ]
  },
  {
   "cell_type": "code",
   "execution_count": 15,
   "id": "f5465964",
   "metadata": {},
   "outputs": [
    {
     "data": {
      "text/plain": []
     },
     "execution_count": 15,
     "metadata": {},
     "output_type": "execute_result"
    }
   ],
   "source": [
    "using IntegralList = TypeList<One, Two>;"
   ]
  },
  {
   "cell_type": "code",
   "execution_count": 16,
   "id": "99052318",
   "metadata": {},
   "outputs": [
    {
     "data": {
      "text/plain": []
     },
     "execution_count": 16,
     "metadata": {},
     "output_type": "execute_result"
    }
   ],
   "source": [
    "template <typename ...Ts>\n",
    "struct TypeListBase {\n",
    "    struct IsTypeList{};\n",
    "    using type = TypeListBase;\n",
    "    constexpr static size_t size = sizeof...(Ts);\n",
    "    template<typename ...T> using append = TypeListBase<Ts..., T...>;\n",
    "    template<typename ...T> using prepend = TypeListBase<T..., Ts...>;\n",
    "    template<template<typename ...> typename T> using to = T<Ts...>;\n",
    "};\n",
    "\n",
    "template<typename TypeListBase>\n",
    "concept TL = requires{\n",
    "    typename TypeListBase::IsTypeList;\n",
    "    typename TypeListBase::type;\n",
    "};"
   ]
  },
  {
   "cell_type": "code",
   "execution_count": 17,
   "id": "5a92aa39",
   "metadata": {},
   "outputs": [
    {
     "data": {
      "text/plain": []
     },
     "execution_count": 17,
     "metadata": {},
     "output_type": "execute_result"
    }
   ],
   "source": [
    "using AList = TypeListBase<int, char>;"
   ]
  },
  {
   "cell_type": "code",
   "execution_count": 18,
   "id": "0ea3049c",
   "metadata": {},
   "outputs": [
    {
     "data": {
      "text/plain": []
     },
     "execution_count": 18,
     "metadata": {},
     "output_type": "execute_result"
    }
   ],
   "source": [
    "static_assert(TL<AList>);\n",
    "static_assert(AList::size == 2);\n",
    "static_assert(std::is_same_v<AList::prepend<double>, TypeListBase<double, int, char>>);\n",
    "static_assert(std::is_same_v<AList::append<double>, TypeListBase<int, char, double>>);"
   ]
  },
  {
   "cell_type": "markdown",
   "id": "c8173a4a",
   "metadata": {},
   "source": [
    "more advanced functions:"
   ]
  },
  {
   "cell_type": "code",
   "execution_count": 19,
   "id": "1314226e",
   "metadata": {},
   "outputs": [
    {
     "data": {
      "text/plain": []
     },
     "execution_count": 19,
     "metadata": {},
     "output_type": "execute_result"
    }
   ],
   "source": [
    "template<TL In, template<typename> class F>\n",
    "struct Map;\n",
    "template<template<typename> class F, typename ...Ts>\n",
    "struct Map<TypeListBase<Ts...>, F> : TypeListBase<typename F<Ts>::type...>{};"
   ]
  },
  {
   "cell_type": "code",
   "execution_count": 20,
   "id": "7572bedb",
   "metadata": {},
   "outputs": [
    {
     "data": {
      "text/plain": []
     },
     "execution_count": 20,
     "metadata": {},
     "output_type": "execute_result"
    }
   ],
   "source": [
    "template<TL In, template<typename> class F>\n",
    "using Map_t = typename Map<In, F>::type;"
   ]
  },
  {
   "cell_type": "code",
   "execution_count": 21,
   "id": "2ee8eeea",
   "metadata": {},
   "outputs": [
    {
     "data": {
      "text/plain": []
     },
     "execution_count": 21,
     "metadata": {},
     "output_type": "execute_result"
    }
   ],
   "source": [
    "using LongList = TypeListBase<char, float, double, int, char>;"
   ]
  },
  {
   "cell_type": "code",
   "execution_count": 22,
   "id": "46c8a2af",
   "metadata": {},
   "outputs": [
    {
     "data": {
      "text/plain": []
     },
     "execution_count": 22,
     "metadata": {},
     "output_type": "execute_result"
    }
   ],
   "source": [
    "static_assert(std::is_same_v<Map_t<LongList, std::add_pointer>, TypeListBase<char*, float*, double*, int*, char*>>)"
   ]
  },
  {
   "cell_type": "code",
   "execution_count": null,
   "id": "99867d52",
   "metadata": {},
   "outputs": [],
   "source": []
  }
 ],
 "metadata": {
  "kernelspec": {
   "display_name": "C++20",
   "language": "C++",
   "name": "cling-cpp20"
  },
  "language_info": {
   "codemirror_mode": "c++",
   "file_extension": ".c++",
   "mimetype": "text/x-c++src",
   "name": "c++"
  }
 },
 "nbformat": 4,
 "nbformat_minor": 5
}
